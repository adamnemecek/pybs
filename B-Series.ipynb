{
 "metadata": {
  "gist_id": "525b97754a22cde5881b",
  "name": "",
  "signature": "sha256:b409f045a74c9ce281b6fdf93e7b4aa36d57edd114731b9609467d75cb2f356a"
 },
 "nbformat": 3,
 "nbformat_minor": 0,
 "worksheets": [
  {
   "cells": [
    {
     "cell_type": "code",
     "collapsed": false,
     "input": [
      "from IPython.display import display\n",
      "from pybs.unordered_tree import number_of_trees_of_order, tree_generator, leaf\n",
      "from pybs.unordered_tree import UnorderedTree\n",
      "from pybs.combinations import empty_tree\n",
      "from pybs.combinations import Forest, differentiate as D, graft, treeCommutator, split\n",
      "from pybs.series import hf_composition, modified_equation\n",
      "from pybs.series.Bseries import exponential"
     ],
     "language": "python",
     "metadata": {},
     "outputs": [
      {
       "ename": "ImportError",
       "evalue": "cannot import name treeCommutator",
       "output_type": "pyerr",
       "traceback": [
        "\u001b[0;31m---------------------------------------------------------------------------\u001b[0m\n\u001b[0;31mImportError\u001b[0m                               Traceback (most recent call last)",
        "\u001b[0;32m<ipython-input-2-ffc4c6da5982>\u001b[0m in \u001b[0;36m<module>\u001b[0;34m()\u001b[0m\n\u001b[1;32m      3\u001b[0m \u001b[0;32mfrom\u001b[0m \u001b[0mpybs\u001b[0m\u001b[0;34m.\u001b[0m\u001b[0munordered_tree\u001b[0m \u001b[0;32mimport\u001b[0m \u001b[0mUnorderedTree\u001b[0m\u001b[0;34m\u001b[0m\u001b[0m\n\u001b[1;32m      4\u001b[0m \u001b[0;32mfrom\u001b[0m \u001b[0mpybs\u001b[0m\u001b[0;34m.\u001b[0m\u001b[0mcombinations\u001b[0m \u001b[0;32mimport\u001b[0m \u001b[0mempty_tree\u001b[0m\u001b[0;34m\u001b[0m\u001b[0m\n\u001b[0;32m----> 5\u001b[0;31m \u001b[0;32mfrom\u001b[0m \u001b[0mpybs\u001b[0m\u001b[0;34m.\u001b[0m\u001b[0mcombinations\u001b[0m \u001b[0;32mimport\u001b[0m \u001b[0mForest\u001b[0m\u001b[0;34m,\u001b[0m \u001b[0mdifferentiate\u001b[0m \u001b[0;32mas\u001b[0m \u001b[0mD\u001b[0m\u001b[0;34m,\u001b[0m \u001b[0mgraft\u001b[0m\u001b[0;34m,\u001b[0m \u001b[0mtreeCommutator\u001b[0m\u001b[0;34m,\u001b[0m \u001b[0msplit\u001b[0m\u001b[0;34m\u001b[0m\u001b[0m\n\u001b[0m\u001b[1;32m      6\u001b[0m \u001b[0;32mfrom\u001b[0m \u001b[0mpybs\u001b[0m\u001b[0;34m.\u001b[0m\u001b[0mseries\u001b[0m \u001b[0;32mimport\u001b[0m \u001b[0mhf_composition\u001b[0m\u001b[0;34m,\u001b[0m \u001b[0mmodified_equation\u001b[0m\u001b[0;34m\u001b[0m\u001b[0m\n\u001b[1;32m      7\u001b[0m \u001b[0;32mfrom\u001b[0m \u001b[0mpybs\u001b[0m\u001b[0;34m.\u001b[0m\u001b[0mseries\u001b[0m\u001b[0;34m.\u001b[0m\u001b[0mBseries\u001b[0m \u001b[0;32mimport\u001b[0m \u001b[0mexponential\u001b[0m\u001b[0;34m\u001b[0m\u001b[0m\n",
        "\u001b[0;31mImportError\u001b[0m: cannot import name treeCommutator"
       ]
      }
     ],
     "prompt_number": 2
    },
    {
     "cell_type": "heading",
     "level": 2,
     "metadata": {},
     "source": [
      "Trees"
     ]
    },
    {
     "cell_type": "markdown",
     "metadata": {},
     "source": [
      "The first tree is: `ButcherTree()`"
     ]
    },
    {
     "cell_type": "code",
     "collapsed": false,
     "input": [
      "display(UnorderedTree())"
     ],
     "language": "python",
     "metadata": {},
     "outputs": []
    },
    {
     "cell_type": "code",
     "collapsed": false,
     "input": [
      "str(UnorderedTree())"
     ],
     "language": "python",
     "metadata": {},
     "outputs": []
    },
    {
     "cell_type": "markdown",
     "metadata": {},
     "source": [
      "And the empty tree is"
     ]
    },
    {
     "cell_type": "code",
     "collapsed": false,
     "input": [
      "empty_tree"
     ],
     "language": "python",
     "metadata": {},
     "outputs": []
    },
    {
     "cell_type": "code",
     "collapsed": false,
     "input": [
      "str(empty_tree)"
     ],
     "language": "python",
     "metadata": {},
     "outputs": []
    },
    {
     "cell_type": "code",
     "collapsed": false,
     "input": [
      "str(D(empty_tree))"
     ],
     "language": "python",
     "metadata": {},
     "outputs": []
    },
    {
     "cell_type": "markdown",
     "metadata": {},
     "source": [
      "Note: The result is a `LinearCombination` containing one root."
     ]
    },
    {
     "cell_type": "heading",
     "level": 2,
     "metadata": {},
     "source": [
      "Methods for constructing new trees"
     ]
    },
    {
     "cell_type": "markdown",
     "metadata": {},
     "source": [
      "Specifying the forest of child trees to the constructor:"
     ]
    },
    {
     "cell_type": "code",
     "collapsed": false,
     "input": [
      "tree = UnorderedTree(Forest([leaf, leaf]))\n",
      "tree"
     ],
     "language": "python",
     "metadata": {},
     "outputs": [
      {
       "metadata": {},
       "output_type": "pyout",
       "prompt_number": 3,
       "svg": [
        "<?xml version=\"1.0\" encoding=\"UTF-8\"?>\n",
        "<svg xmlns=\"http://www.w3.org/2000/svg\" xmlns:xlink=\"http://www.w3.org/1999/xlink\" width=\"25.33pt\" height=\"12.046pt\" viewBox=\"0 0 25.33 12.046\" version=\"1.1\">\n",
        "<defs>\n",
        "<clipPath id=\"clip1\">\n",
        "  <path d=\"M 9 0 L 25.328125 0 L 25.328125 12.046875 L 9 12.046875 Z M 9 0 \"/>\n",
        "</clipPath>\n",
        "<clipPath id=\"clip2\">\n",
        "  <path d=\"M 7 0 L 25.328125 0 L 25.328125 12.046875 L 7 12.046875 Z M 7 0 \"/>\n",
        "</clipPath>\n",
        "<clipPath id=\"clip3\">\n",
        "  <path d=\"M 9 0 L 25.328125 0 L 25.328125 12.046875 L 9 12.046875 Z M 9 0 \"/>\n",
        "</clipPath>\n",
        "<clipPath id=\"clip4\">\n",
        "  <path d=\"M 11 0 L 25.328125 0 L 25.328125 12.046875 L 11 12.046875 Z M 11 0 \"/>\n",
        "</clipPath>\n",
        "</defs>\n",
        "<g id=\"surface1\">\n",
        "<path style=\" stroke:none;fill-rule:nonzero;fill:rgb(0%,0%,0%);fill-opacity:1;\" d=\"M 20.621094 8.433594 C 20.621094 7.707031 20.035156 7.117188 19.308594 7.117188 C 18.582031 7.117188 17.992188 7.707031 17.992188 8.433594 C 17.992188 9.160156 18.582031 9.746094 19.308594 9.746094 C 20.035156 9.746094 20.621094 9.160156 20.621094 8.433594 Z M 20.621094 8.433594 \"/>\n",
        "<g clip-path=\"url(#clip1)\" clip-rule=\"nonzero\">\n",
        "<path style=\"fill:none;stroke-width:0.59776;stroke-linecap:butt;stroke-linejoin:miter;stroke:rgb(0%,0%,0%);stroke-opacity:1;stroke-miterlimit:10;\" d=\"M 1.314094 -0.00159375 C 1.314094 0.724969 0.728156 1.314812 0.00159375 1.314812 C -0.724969 1.314812 -1.314813 0.724969 -1.314813 -0.00159375 C -1.314813 -0.728156 -0.724969 -1.314094 0.00159375 -1.314094 C 0.728156 -1.314094 1.314094 -0.728156 1.314094 -0.00159375 Z M 1.314094 -0.00159375 \" transform=\"matrix(1,0,0,-1,19.307,8.432)\"/>\n",
        "</g>\n",
        "<path style=\" stroke:none;fill-rule:nonzero;fill:rgb(0%,0%,0%);fill-opacity:1;\" d=\"M 18.210938 3.613281 C 18.210938 2.886719 17.625 2.296875 16.898438 2.296875 C 16.171875 2.296875 15.582031 2.886719 15.582031 3.613281 C 15.582031 4.339844 16.171875 4.929688 16.898438 4.929688 C 17.625 4.929688 18.210938 4.339844 18.210938 3.613281 Z M 18.210938 3.613281 \"/>\n",
        "<g clip-path=\"url(#clip2)\" clip-rule=\"nonzero\">\n",
        "<path style=\"fill:none;stroke-width:0.59776;stroke-linecap:butt;stroke-linejoin:miter;stroke:rgb(0%,0%,0%);stroke-opacity:1;stroke-miterlimit:10;\" d=\"M -1.096063 4.818719 C -1.096063 5.545281 -1.682 6.135125 -2.408563 6.135125 C -3.135125 6.135125 -3.724969 5.545281 -3.724969 4.818719 C -3.724969 4.092156 -3.135125 3.502312 -2.408563 3.502312 C -1.682 3.502312 -1.096063 4.092156 -1.096063 4.818719 Z M -1.096063 4.818719 \" transform=\"matrix(1,0,0,-1,19.307,8.432)\"/>\n",
        "</g>\n",
        "<g clip-path=\"url(#clip3)\" clip-rule=\"nonzero\">\n",
        "<path style=\"fill:none;stroke-width:0.59776;stroke-linecap:butt;stroke-linejoin:miter;stroke:rgb(0%,0%,0%);stroke-opacity:1;stroke-miterlimit:10;\" d=\"M -0.627313 1.256219 L -1.783563 3.568719 \" transform=\"matrix(1,0,0,-1,19.307,8.432)\"/>\n",
        "</g>\n",
        "<path style=\" stroke:none;fill-rule:nonzero;fill:rgb(0%,0%,0%);fill-opacity:1;\" d=\"M 23.03125 3.613281 C 23.03125 2.886719 22.441406 2.296875 21.714844 2.296875 C 20.988281 2.296875 20.402344 2.886719 20.402344 3.613281 C 20.402344 4.339844 20.988281 4.929688 21.714844 4.929688 C 22.441406 4.929688 23.03125 4.339844 23.03125 3.613281 Z M 23.03125 3.613281 \"/>\n",
        "<g clip-path=\"url(#clip4)\" clip-rule=\"nonzero\">\n",
        "<path style=\"fill:none;stroke-width:0.59776;stroke-linecap:butt;stroke-linejoin:miter;stroke:rgb(0%,0%,0%);stroke-opacity:1;stroke-miterlimit:10;\" d=\"M 3.72425 4.818719 C 3.72425 5.545281 3.134406 6.135125 2.407844 6.135125 C 1.681281 6.135125 1.095344 5.545281 1.095344 4.818719 C 1.095344 4.092156 1.681281 3.502312 2.407844 3.502312 C 3.134406 3.502312 3.72425 4.092156 3.72425 4.818719 Z M 3.72425 4.818719 \" transform=\"matrix(1,0,0,-1,19.307,8.432)\"/>\n",
        "<path style=\"fill:none;stroke-width:0.59776;stroke-linecap:butt;stroke-linejoin:miter;stroke:rgb(0%,0%,0%);stroke-opacity:1;stroke-miterlimit:10;\" d=\"M 0.626594 1.256219 L 1.782844 3.568719 \" transform=\"matrix(1,0,0,-1,19.307,8.432)\"/>\n",
        "</g>\n",
        "</g>\n",
        "</svg>\n"
       ],
       "text": [
        "UnorderedTree({UnorderedTree(): 2})"
       ]
      }
     ],
     "prompt_number": 3
    },
    {
     "cell_type": "markdown",
     "metadata": {},
     "source": [
      "By grafting one tree onto another:"
     ]
    },
    {
     "cell_type": "code",
     "collapsed": false,
     "input": [
      "a=graft(leaf, tree)\n",
      "print a"
     ],
     "language": "python",
     "metadata": {},
     "outputs": []
    },
    {
     "cell_type": "markdown",
     "metadata": {},
     "source": [
      "By taking the derivative of existing trees:"
     ]
    },
    {
     "cell_type": "heading",
     "level": 2,
     "metadata": {},
     "source": [
      "Trees of a given order"
     ]
    },
    {
     "cell_type": "markdown",
     "metadata": {},
     "source": [
      "It is also possible to take the derivative of all the trees in a `LinearCombination`. Starting at the empty tree,\n",
      "the n-th derivative is a `LinearCombination` of all trees of order n, complete with `alpha` as the multiplicity:"
     ]
    },
    {
     "cell_type": "code",
     "collapsed": false,
     "input": [
      "trees_of_order_1 = D(empty_tree)\n",
      "print trees_of_order_1"
     ],
     "language": "python",
     "metadata": {},
     "outputs": []
    },
    {
     "cell_type": "code",
     "collapsed": false,
     "input": [
      "trees_of_order_2 = D(trees_of_order_1)\n",
      "print trees_of_order_2"
     ],
     "language": "python",
     "metadata": {},
     "outputs": []
    },
    {
     "cell_type": "code",
     "collapsed": false,
     "input": [
      "trees_of_order_3 = D(trees_of_order_2)\n",
      "print trees_of_order_3"
     ],
     "language": "python",
     "metadata": {},
     "outputs": []
    },
    {
     "cell_type": "code",
     "collapsed": false,
     "input": [
      "trees_of_order_4 = D(trees_of_order_3)\n",
      "print trees_of_order_4"
     ],
     "language": "python",
     "metadata": {},
     "outputs": []
    },
    {
     "cell_type": "code",
     "collapsed": false,
     "input": [
      "trees_of_order_5 = D(trees_of_order_4)\n",
      "print trees_of_order_5"
     ],
     "language": "python",
     "metadata": {},
     "outputs": []
    },
    {
     "cell_type": "markdown",
     "metadata": {},
     "source": [
      "The number of trees of a given order can be calculated without constructing all the trees:"
     ]
    },
    {
     "cell_type": "code",
     "collapsed": false,
     "input": [
      "number_of_trees_of_order(30)"
     ],
     "language": "python",
     "metadata": {},
     "outputs": []
    },
    {
     "cell_type": "heading",
     "level": 2,
     "metadata": {},
     "source": [
      "Some functions on trees"
     ]
    },
    {
     "cell_type": "code",
     "collapsed": false,
     "input": [
      "tmp = UnorderedTree(Forest([leaf]))\n",
      "t = UnorderedTree(Forest([tmp, leaf]))\n",
      "del tmp\n",
      "t"
     ],
     "language": "python",
     "metadata": {},
     "outputs": []
    },
    {
     "cell_type": "code",
     "collapsed": false,
     "input": [
      "print 'order: ', t.order()\n",
      "print 'number of children: ', t.number_of_children()\n",
      "print 'density: ', t.density()\n",
      "print 'symmetry: ', t.symmetry()\n",
      "print 'alpha:', t.alpha()\n",
      "print 'elementary differential: \"' + t.F() + '\" (string)'\n",
      "print 'multiplicities:', t.multiplicities(),  '(list)'"
     ],
     "language": "python",
     "metadata": {},
     "outputs": []
    },
    {
     "cell_type": "markdown",
     "metadata": {},
     "source": [
      "Commutator:"
     ]
    },
    {
     "cell_type": "code",
     "collapsed": false,
     "input": [
      "print treeCommutator(t, leaf)"
     ],
     "language": "python",
     "metadata": {},
     "outputs": []
    },
    {
     "cell_type": "markdown",
     "metadata": {},
     "source": [
      "Splitting:"
     ]
    },
    {
     "cell_type": "code",
     "collapsed": false,
     "input": [
      "print split(t)"
     ],
     "language": "python",
     "metadata": {},
     "outputs": []
    },
    {
     "cell_type": "heading",
     "level": 3,
     "metadata": {},
     "source": [
      "B-series"
     ]
    },
    {
     "cell_type": "code",
     "collapsed": false,
     "input": [
      "a = exponential"
     ],
     "language": "python",
     "metadata": {},
     "outputs": []
    },
    {
     "cell_type": "markdown",
     "metadata": {},
     "source": [
      "Preliminary printing function"
     ]
    },
    {
     "cell_type": "code",
     "collapsed": false,
     "input": [
      "from itertools import islice\n",
      "def to_first_trees(f, n):\n",
      "    return ((tree,f(tree)) for tree in islice(tree_generator(),0,n))\n",
      "def print_for_first_trees(f,n):\n",
      "    for (t,v) in to_first_trees(f,n):\n",
      "        display(t)\n",
      "        print v\n",
      "#        print \"{}: {}\".format(t,v)"
     ],
     "language": "python",
     "metadata": {},
     "outputs": []
    },
    {
     "cell_type": "markdown",
     "metadata": {},
     "source": [
      "Composition"
     ]
    },
    {
     "cell_type": "code",
     "collapsed": false,
     "input": [
      "b = hf_composition(a)\n",
      "print_for_first_trees(b,10)"
     ],
     "language": "python",
     "metadata": {},
     "outputs": []
    },
    {
     "cell_type": "markdown",
     "metadata": {},
     "source": [
      "Modified equation"
     ]
    },
    {
     "cell_type": "code",
     "collapsed": false,
     "input": [
      "c = modified_equation(a)\n",
      "print_for_first_trees(c,10)"
     ],
     "language": "python",
     "metadata": {},
     "outputs": []
    },
    {
     "cell_type": "heading",
     "level": 2,
     "metadata": {},
     "source": [
      "Order of a Runge\u2013Kutta method"
     ]
    },
    {
     "cell_type": "code",
     "collapsed": false,
     "input": [
      "from pybs.rungekutta.methods import RKmidpoint # A small collection of Butcher tableaus.\n",
      "RKmidpoint.printMe()\n",
      "print 'RKmidpoint.order =', RKmidpoint.order"
     ],
     "language": "python",
     "metadata": {},
     "outputs": []
    },
    {
     "cell_type": "code",
     "collapsed": false,
     "input": [],
     "language": "python",
     "metadata": {},
     "outputs": []
    },
    {
     "cell_type": "code",
     "collapsed": false,
     "input": [],
     "language": "python",
     "metadata": {},
     "outputs": []
    }
   ],
   "metadata": {}
  }
 ]
}