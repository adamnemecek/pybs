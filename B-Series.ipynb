{
 "metadata": {
  "name": "",
  "signature": "sha256:1c6395dc39abcfd1f6c29b3903f52c410bb593ab5f9cff5cb8e5910938c0428a"
 },
 "nbformat": 3,
 "nbformat_minor": 0,
 "worksheets": [
  {
   "cells": [
    {
     "cell_type": "code",
     "collapsed": false,
     "input": [
      "from pybs.utils import number_of_trees_of_order\n",
      "from pybs.trees import ButcherTree, ButcherEmptyTree, F, order, \\\n",
      "    number_of_children, density, symmetry, alpha\n",
      "from pybs.combinations import Forest, differentiate as D, graft, treeCommutator, split, treeGenerator\n",
      "from pybs.series import hf_composition, modifiedEquation\n",
      "from pybs.series.Bseries import exponential"
     ],
     "language": "python",
     "metadata": {},
     "outputs": [],
     "prompt_number": 1
    },
    {
     "cell_type": "heading",
     "level": 2,
     "metadata": {},
     "source": [
      "Trees"
     ]
    },
    {
     "cell_type": "markdown",
     "metadata": {},
     "source": [
      "The first tree is: `ButcherTree()`"
     ]
    },
    {
     "cell_type": "code",
     "collapsed": false,
     "input": [
      "ButcherTree()"
     ],
     "language": "python",
     "metadata": {},
     "outputs": [
      {
       "metadata": {},
       "output_type": "pyout",
       "prompt_number": 2,
       "text": [
        "ButcherTree()"
       ]
      }
     ],
     "prompt_number": 2
    },
    {
     "cell_type": "code",
     "collapsed": false,
     "input": [
      "str(ButcherTree())"
     ],
     "language": "python",
     "metadata": {},
     "outputs": [
      {
       "metadata": {},
       "output_type": "pyout",
       "prompt_number": 3,
       "text": [
        "'[]'"
       ]
      }
     ],
     "prompt_number": 3
    },
    {
     "cell_type": "markdown",
     "metadata": {},
     "source": [
      "And the empty tree is"
     ]
    },
    {
     "cell_type": "code",
     "collapsed": false,
     "input": [
      "ButcherEmptyTree()"
     ],
     "language": "python",
     "metadata": {},
     "outputs": [
      {
       "metadata": {},
       "output_type": "pyout",
       "prompt_number": 4,
       "text": [
        "ButcherEmptyTree()"
       ]
      }
     ],
     "prompt_number": 4
    },
    {
     "cell_type": "markdown",
     "metadata": {},
     "source": [
      "`F(ButcherEmptyTree())` is:"
     ]
    },
    {
     "cell_type": "code",
     "collapsed": false,
     "input": [
      "F(ButcherEmptyTree())"
     ],
     "language": "python",
     "metadata": {},
     "outputs": [
      {
       "metadata": {},
       "output_type": "pyout",
       "prompt_number": 5,
       "text": [
        "'y'"
       ]
      }
     ],
     "prompt_number": 5
    },
    {
     "cell_type": "markdown",
     "metadata": {},
     "source": [
      "so we have `D(ButcherEmptyTree)`"
     ]
    },
    {
     "cell_type": "code",
     "collapsed": false,
     "input": [
      "str(D(ButcherEmptyTree()))"
     ],
     "language": "python",
     "metadata": {},
     "outputs": [
      {
       "metadata": {},
       "output_type": "pyout",
       "prompt_number": 6,
       "text": [
        "'1*[]'"
       ]
      }
     ],
     "prompt_number": 6
    },
    {
     "cell_type": "markdown",
     "metadata": {},
     "source": [
      "Note: The result is a `LinearCombination` containing one root."
     ]
    },
    {
     "cell_type": "heading",
     "level": 2,
     "metadata": {},
     "source": [
      "Methods for constructing new trees"
     ]
    },
    {
     "cell_type": "markdown",
     "metadata": {},
     "source": [
      "Specifying the forest of child trees to the constructor:"
     ]
    },
    {
     "cell_type": "code",
     "collapsed": false,
     "input": [
      "tree = ButcherTree(Forest([ButcherTree.basetree(), ButcherTree.basetree()]))\n",
      "print tree"
     ],
     "language": "python",
     "metadata": {},
     "outputs": [
      {
       "output_type": "stream",
       "stream": "stdout",
       "text": [
        "[[],[]]\n"
       ]
      }
     ],
     "prompt_number": 7
    },
    {
     "cell_type": "markdown",
     "metadata": {},
     "source": [
      "By grafting one tree onto another:"
     ]
    },
    {
     "cell_type": "code",
     "collapsed": false,
     "input": [
      "print graft(tree, ButcherTree.basetree())"
     ],
     "language": "python",
     "metadata": {},
     "outputs": [
      {
       "output_type": "stream",
       "stream": "stdout",
       "text": [
        "2*[[],[[]]] + 1*[[],[],[]]\n"
       ]
      }
     ],
     "prompt_number": 8
    },
    {
     "cell_type": "markdown",
     "metadata": {},
     "source": [
      "By taking the derivative of existing trees:"
     ]
    },
    {
     "cell_type": "code",
     "collapsed": false,
     "input": [
      "print D(ButcherTree.basetree())"
     ],
     "language": "python",
     "metadata": {},
     "outputs": [
      {
       "output_type": "stream",
       "stream": "stdout",
       "text": [
        "1*[[]]\n"
       ]
      }
     ],
     "prompt_number": 9
    },
    {
     "cell_type": "heading",
     "level": 2,
     "metadata": {},
     "source": [
      "Trees of a given order"
     ]
    },
    {
     "cell_type": "markdown",
     "metadata": {},
     "source": [
      "It is also possible to take the derivative of all the trees in a `LinearCombination`. Starting at the empty tree,\n",
      "the n-th derivative is a `LinearCombination` of all trees of order n, complete with `alpha` as the multiplicity:"
     ]
    },
    {
     "cell_type": "code",
     "collapsed": false,
     "input": [
      "trees_of_order_1 = D(ButcherTree.emptytree())\n",
      "print trees_of_order_1"
     ],
     "language": "python",
     "metadata": {},
     "outputs": [
      {
       "output_type": "stream",
       "stream": "stdout",
       "text": [
        "1*[]\n"
       ]
      }
     ],
     "prompt_number": 10
    },
    {
     "cell_type": "code",
     "collapsed": false,
     "input": [
      "trees_of_order_2 = D(trees_of_order_1)\n",
      "print trees_of_order_2"
     ],
     "language": "python",
     "metadata": {},
     "outputs": [
      {
       "output_type": "stream",
       "stream": "stdout",
       "text": [
        "1*[[]]\n"
       ]
      }
     ],
     "prompt_number": 11
    },
    {
     "cell_type": "code",
     "collapsed": false,
     "input": [
      "trees_of_order_3 = D(trees_of_order_2)\n",
      "print trees_of_order_3"
     ],
     "language": "python",
     "metadata": {},
     "outputs": [
      {
       "output_type": "stream",
       "stream": "stdout",
       "text": [
        "1*[[[]]] + 1*[[],[]]\n"
       ]
      }
     ],
     "prompt_number": 12
    },
    {
     "cell_type": "code",
     "collapsed": false,
     "input": [
      "trees_of_order_4 = D(trees_of_order_3)\n",
      "print trees_of_order_4"
     ],
     "language": "python",
     "metadata": {},
     "outputs": [
      {
       "output_type": "stream",
       "stream": "stdout",
       "text": [
        "3*[[[]],[]] + 1*[[[[]]]] + 1*[[],[],[]] + 1*[[[],[]]]\n"
       ]
      }
     ],
     "prompt_number": 13
    },
    {
     "cell_type": "code",
     "collapsed": false,
     "input": [
      "trees_of_order_5 = D(trees_of_order_4)\n",
      "print trees_of_order_5"
     ],
     "language": "python",
     "metadata": {},
     "outputs": [
      {
       "output_type": "stream",
       "stream": "stdout",
       "text": [
        "4*[[],[[[]]]] + 1*[[[[[]]]]] + 1*[[[],[],[]]] + 1*[[[[],[]]]] + 3*[[[]],[[]]] + 4*[[],[[],[]]] + 3*[[[[]],[]]] + 1*[[],[],[],[]] + 6*[[[]],[],[]]\n"
       ]
      }
     ],
     "prompt_number": 14
    },
    {
     "cell_type": "markdown",
     "metadata": {},
     "source": [
      "The number of trees of a given order can be calculated without constructing all the trees:"
     ]
    },
    {
     "cell_type": "code",
     "collapsed": false,
     "input": [
      "number_of_trees_of_order(30)"
     ],
     "language": "python",
     "metadata": {},
     "outputs": [
      {
       "metadata": {},
       "output_type": "pyout",
       "prompt_number": 15,
       "text": [
        "354426847597"
       ]
      }
     ],
     "prompt_number": 15
    },
    {
     "cell_type": "heading",
     "level": 2,
     "metadata": {},
     "source": [
      "Some functions on trees"
     ]
    },
    {
     "cell_type": "code",
     "collapsed": false,
     "input": [
      "tmp = ButcherTree(Forest([ButcherTree.basetree()]))\n",
      "t = ButcherTree(Forest([tmp, ButcherTree.basetree()]))\n",
      "del tmp\n",
      "print t"
     ],
     "language": "python",
     "metadata": {},
     "outputs": [
      {
       "output_type": "stream",
       "stream": "stdout",
       "text": [
        "[[[]],[]]\n"
       ]
      }
     ],
     "prompt_number": 16
    },
    {
     "cell_type": "code",
     "collapsed": false,
     "input": [
      "print 'order: ', order(t)\n",
      "print 'number of children: ', number_of_children(t)\n",
      "print 'density: ', density(t)\n",
      "print 'symmetry: ', symmetry(t)\n",
      "print 'alpha:', alpha(t)\n",
      "print 'elementary differential: \"' + F(t) + '\" (string)'\n",
      "print 'multiplicities:', t.multiplicities(),  '(list)'"
     ],
     "language": "python",
     "metadata": {},
     "outputs": [
      {
       "output_type": "stream",
       "stream": "stdout",
       "text": [
        "order:  4\n",
        "number of children:  2\n",
        "density:  8\n",
        "symmetry:  1\n",
        "alpha: 3\n",
        "elementary differential: \"f''(f'f,f)\" (string)\n",
        "multiplicities: [1, 1] (list)\n"
       ]
      }
     ],
     "prompt_number": 17
    },
    {
     "cell_type": "markdown",
     "metadata": {},
     "source": [
      "Commutator:"
     ]
    },
    {
     "cell_type": "code",
     "collapsed": false,
     "input": [
      "print treeCommutator(t, ButcherTree.basetree())"
     ],
     "language": "python",
     "metadata": {},
     "outputs": [
      {
       "output_type": "stream",
       "stream": "stdout",
       "text": [
        "1*[[],[[[]]]] + 1*[[],[[],[]]] + 1*[[[]],[],[]] + -1*[[[[]],[]]] + 1*[[[]],[[]]]\n"
       ]
      }
     ],
     "prompt_number": 18
    },
    {
     "cell_type": "markdown",
     "metadata": {},
     "source": [
      "Splitting:"
     ]
    },
    {
     "cell_type": "code",
     "collapsed": false,
     "input": [
      "print split(tree)"
     ],
     "language": "python",
     "metadata": {},
     "outputs": [
      {
       "output_type": "stream",
       "stream": "stdout",
       "text": [
        "Multiset({(ButcherTree({ButcherTree(): 1}), ButcherTree()): 2, (ButcherEmptyTree(), ButcherTree({ButcherTree(): 2})): 1})\n"
       ]
      }
     ],
     "prompt_number": 19
    },
    {
     "cell_type": "heading",
     "level": 3,
     "metadata": {},
     "source": [
      "B-series"
     ]
    },
    {
     "cell_type": "code",
     "collapsed": false,
     "input": [
      "a = exponential"
     ],
     "language": "python",
     "metadata": {},
     "outputs": [],
     "prompt_number": 20
    },
    {
     "cell_type": "markdown",
     "metadata": {},
     "source": [
      "Preliminary printing function"
     ]
    },
    {
     "cell_type": "code",
     "collapsed": false,
     "input": [
      "from itertools import islice\n",
      "def to_first_trees(f, n):\n",
      "    return ((tree,f(tree)) for tree in islice(treeGenerator(),0,n))\n",
      "def print_for_first_trees(f,n):\n",
      "    for (t,v) in to_first_trees(f,n):\n",
      "        print \"{}: {}\".format(t,v)"
     ],
     "language": "python",
     "metadata": {},
     "outputs": [],
     "prompt_number": 21
    },
    {
     "cell_type": "markdown",
     "metadata": {},
     "source": [
      "Composition"
     ]
    },
    {
     "cell_type": "code",
     "collapsed": false,
     "input": [
      "b = hf_composition(a)\n",
      "print_for_first_trees(b,10)"
     ],
     "language": "python",
     "metadata": {},
     "outputs": [
      {
       "output_type": "stream",
       "stream": "stdout",
       "text": [
        "\u00d8: 0\n",
        "[]: 1\n",
        "[[]]: 1\n",
        "[[[]]]: 1/2\n",
        "[[],[]]: 1\n",
        "[[[]],[]]: 1/2\n",
        "[[[[]]]]: 1/6\n",
        "[[],[],[]]: 1\n",
        "[[[],[]]]: 1/3\n",
        "[[],[[[]]]]: 1/6\n"
       ]
      }
     ],
     "prompt_number": 22
    },
    {
     "cell_type": "markdown",
     "metadata": {},
     "source": [
      "Modified equation"
     ]
    },
    {
     "cell_type": "code",
     "collapsed": false,
     "input": [
      "c = modifiedEquation(a)\n",
      "print_for_first_trees(c,10)"
     ],
     "language": "python",
     "metadata": {},
     "outputs": [
      {
       "output_type": "stream",
       "stream": "stdout",
       "text": [
        "\u00d8: 0\n",
        "[]: 0\n",
        "[[]]: 0\n",
        "[[[]]]: 0\n",
        "[[],[]]: 0\n",
        "[[[]],[]]: 0\n",
        "[[[[]]]]: 0\n",
        "[[],[],[]]: 0\n",
        "[[[],[]]]: 0\n",
        "[[],[[[]]]]: 0\n"
       ]
      }
     ],
     "prompt_number": 23
    },
    {
     "cell_type": "heading",
     "level": 2,
     "metadata": {},
     "source": [
      "Order of a Runge\u2013Kutta method"
     ]
    },
    {
     "cell_type": "code",
     "collapsed": false,
     "input": [
      "from pybs.rungekutta.methods import RKmidpoint # A small collection of Butcher tableaus.\n",
      "RKmidpoint.printMe()\n",
      "print 'RKmidpoint.order =', RKmidpoint.order"
     ],
     "language": "python",
     "metadata": {},
     "outputs": [
      {
       "output_type": "stream",
       "stream": "stdout",
       "text": [
        "A =\n",
        "[[0 0]\n",
        " [Fraction(1, 2) 0]]\n",
        "b = [0 1]\n",
        "RKmidpoint.order = 2\n"
       ]
      }
     ],
     "prompt_number": 24
    }
   ],
   "metadata": {}
  }
 ]
}