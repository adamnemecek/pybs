{
 "metadata": {
  "gist_id": "525b97754a22cde5881b",
  "name": "",
  "signature": "sha256:d126801e28d8857f8195fc62ef64da1216f0bd9835602f1945ad8dd4a7ee6600"
 },
 "nbformat": 3,
 "nbformat_minor": 0,
 "worksheets": [
  {
   "cells": [
    {
     "cell_type": "code",
     "collapsed": false,
     "input": [
      "from pybs.unordered_tree import number_of_trees_of_order, tree_generator, leaf\n",
      "from pybs.unordered_tree import UnorderedTree\n",
      "from pybs.combinations import empty_tree\n",
      "from pybs.combinations import Forest, differentiate as D, graft, treeCommutator, split\n",
      "from pybs.series import hf_composition, modified_equation\n",
      "from pybs.series.Bseries import exponential"
     ],
     "language": "python",
     "metadata": {},
     "outputs": [],
     "prompt_number": 1
    },
    {
     "cell_type": "heading",
     "level": 2,
     "metadata": {},
     "source": [
      "Trees"
     ]
    },
    {
     "cell_type": "markdown",
     "metadata": {},
     "source": [
      "The first tree is: `ButcherTree()`"
     ]
    },
    {
     "cell_type": "code",
     "collapsed": false,
     "input": [
      "UnorderedTree()"
     ],
     "language": "python",
     "metadata": {},
     "outputs": [
      {
       "metadata": {},
       "output_type": "pyout",
       "prompt_number": 2,
       "text": [
        "UnorderedTree()"
       ]
      }
     ],
     "prompt_number": 2
    },
    {
     "cell_type": "code",
     "collapsed": false,
     "input": [
      "str(UnorderedTree())"
     ],
     "language": "python",
     "metadata": {},
     "outputs": [
      {
       "metadata": {},
       "output_type": "pyout",
       "prompt_number": 3,
       "text": [
        "'[]'"
       ]
      }
     ],
     "prompt_number": 3
    },
    {
     "cell_type": "markdown",
     "metadata": {},
     "source": [
      "And the empty tree is"
     ]
    },
    {
     "cell_type": "code",
     "collapsed": false,
     "input": [
      "empty_tree"
     ],
     "language": "python",
     "metadata": {},
     "outputs": [
      {
       "metadata": {},
       "output_type": "pyout",
       "prompt_number": 4,
       "text": [
        "Forest()"
       ]
      }
     ],
     "prompt_number": 4
    },
    {
     "cell_type": "code",
     "collapsed": false,
     "input": [
      "str(empty_tree)"
     ],
     "language": "python",
     "metadata": {},
     "outputs": [
      {
       "metadata": {},
       "output_type": "pyout",
       "prompt_number": 5,
       "text": [
        "'()'"
       ]
      }
     ],
     "prompt_number": 5
    },
    {
     "cell_type": "code",
     "collapsed": false,
     "input": [
      "str(D(empty_tree))"
     ],
     "language": "python",
     "metadata": {},
     "outputs": [
      {
       "metadata": {},
       "output_type": "pyout",
       "prompt_number": 6,
       "text": [
        "'1*[]'"
       ]
      }
     ],
     "prompt_number": 6
    },
    {
     "cell_type": "markdown",
     "metadata": {},
     "source": [
      "Note: The result is a `LinearCombination` containing one root."
     ]
    },
    {
     "cell_type": "heading",
     "level": 2,
     "metadata": {},
     "source": [
      "Methods for constructing new trees"
     ]
    },
    {
     "cell_type": "markdown",
     "metadata": {},
     "source": [
      "Specifying the forest of child trees to the constructor:"
     ]
    },
    {
     "cell_type": "code",
     "collapsed": false,
     "input": [
      "tree = UnorderedTree(Forest([leaf, leaf]))\n",
      "print tree"
     ],
     "language": "python",
     "metadata": {},
     "outputs": [
      {
       "output_type": "stream",
       "stream": "stdout",
       "text": [
        "[[],[]]\n"
       ]
      }
     ],
     "prompt_number": 7
    },
    {
     "cell_type": "markdown",
     "metadata": {},
     "source": [
      "By grafting one tree onto another:"
     ]
    },
    {
     "cell_type": "code",
     "collapsed": false,
     "input": [
      "print graft(leaf, tree)"
     ],
     "language": "python",
     "metadata": {},
     "outputs": [
      {
       "output_type": "stream",
       "stream": "stdout",
       "text": [
        "2*[[],[[]]] + 1*[[],[],[]]\n"
       ]
      }
     ],
     "prompt_number": 8
    },
    {
     "cell_type": "markdown",
     "metadata": {},
     "source": [
      "By taking the derivative of existing trees:"
     ]
    },
    {
     "cell_type": "code",
     "collapsed": false,
     "input": [
      "print D(leaf)"
     ],
     "language": "python",
     "metadata": {},
     "outputs": [
      {
       "output_type": "stream",
       "stream": "stdout",
       "text": [
        "1*[[]]\n"
       ]
      }
     ],
     "prompt_number": 9
    },
    {
     "cell_type": "heading",
     "level": 2,
     "metadata": {},
     "source": [
      "Trees of a given order"
     ]
    },
    {
     "cell_type": "markdown",
     "metadata": {},
     "source": [
      "It is also possible to take the derivative of all the trees in a `LinearCombination`. Starting at the empty tree,\n",
      "the n-th derivative is a `LinearCombination` of all trees of order n, complete with `alpha` as the multiplicity:"
     ]
    },
    {
     "cell_type": "code",
     "collapsed": false,
     "input": [
      "trees_of_order_1 = D(empty_tree)\n",
      "print trees_of_order_1"
     ],
     "language": "python",
     "metadata": {},
     "outputs": [
      {
       "output_type": "stream",
       "stream": "stdout",
       "text": [
        "1*[]\n"
       ]
      }
     ],
     "prompt_number": 10
    },
    {
     "cell_type": "code",
     "collapsed": false,
     "input": [
      "trees_of_order_2 = D(trees_of_order_1)\n",
      "print trees_of_order_2"
     ],
     "language": "python",
     "metadata": {},
     "outputs": [
      {
       "output_type": "stream",
       "stream": "stdout",
       "text": [
        "1*[[]]\n"
       ]
      }
     ],
     "prompt_number": 11
    },
    {
     "cell_type": "code",
     "collapsed": false,
     "input": [
      "trees_of_order_3 = D(trees_of_order_2)\n",
      "print trees_of_order_3"
     ],
     "language": "python",
     "metadata": {},
     "outputs": [
      {
       "output_type": "stream",
       "stream": "stdout",
       "text": [
        "1*[[[]]] + 1*[[],[]]\n"
       ]
      }
     ],
     "prompt_number": 12
    },
    {
     "cell_type": "code",
     "collapsed": false,
     "input": [
      "trees_of_order_4 = D(trees_of_order_3)\n",
      "print trees_of_order_4"
     ],
     "language": "python",
     "metadata": {},
     "outputs": [
      {
       "output_type": "stream",
       "stream": "stdout",
       "text": [
        "3*[[[]],[]] + 1*[[[[]]]] + 1*[[],[],[]] + 1*[[[],[]]]\n"
       ]
      }
     ],
     "prompt_number": 13
    },
    {
     "cell_type": "code",
     "collapsed": false,
     "input": [
      "trees_of_order_5 = D(trees_of_order_4)\n",
      "print trees_of_order_5"
     ],
     "language": "python",
     "metadata": {},
     "outputs": [
      {
       "output_type": "stream",
       "stream": "stdout",
       "text": [
        "4*[[],[[[]]]] + 1*[[[[[]]]]] + 1*[[[],[],[]]] + 1*[[[[],[]]]] + 3*[[[]],[[]]] + 4*[[],[[],[]]] + 3*[[[[]],[]]] + 1*[[],[],[],[]] + 6*[[[]],[],[]]\n"
       ]
      }
     ],
     "prompt_number": 14
    },
    {
     "cell_type": "markdown",
     "metadata": {},
     "source": [
      "The number of trees of a given order can be calculated without constructing all the trees:"
     ]
    },
    {
     "cell_type": "code",
     "collapsed": false,
     "input": [
      "number_of_trees_of_order(30)"
     ],
     "language": "python",
     "metadata": {},
     "outputs": [
      {
       "metadata": {},
       "output_type": "pyout",
       "prompt_number": 15,
       "text": [
        "354426847597"
       ]
      }
     ],
     "prompt_number": 15
    },
    {
     "cell_type": "heading",
     "level": 2,
     "metadata": {},
     "source": [
      "Some functions on trees"
     ]
    },
    {
     "cell_type": "code",
     "collapsed": false,
     "input": [
      "tmp = UnorderedTree(Forest([leaf]))\n",
      "t = UnorderedTree(Forest([tmp, leaf]))\n",
      "del tmp\n",
      "print t"
     ],
     "language": "python",
     "metadata": {},
     "outputs": [
      {
       "output_type": "stream",
       "stream": "stdout",
       "text": [
        "[[[]],[]]\n"
       ]
      }
     ],
     "prompt_number": 16
    },
    {
     "cell_type": "code",
     "collapsed": false,
     "input": [
      "print 'order: ', t.order()\n",
      "print 'number of children: ', t.number_of_children()\n",
      "print 'density: ', t.density()\n",
      "print 'symmetry: ', t.symmetry()\n",
      "print 'alpha:', t.alpha()\n",
      "print 'elementary differential: \"' + t.F() + '\" (string)'\n",
      "print 'multiplicities:', t.multiplicities(),  '(list)'"
     ],
     "language": "python",
     "metadata": {},
     "outputs": [
      {
       "output_type": "stream",
       "stream": "stdout",
       "text": [
        "order:  4\n",
        "number of children:  2\n",
        "density:  8\n",
        "symmetry:  1\n",
        "alpha: 3\n",
        "elementary differential: \"f''(f'f,f)\" (string)\n",
        "multiplicities: [1, 1] (list)\n"
       ]
      }
     ],
     "prompt_number": 30
    },
    {
     "cell_type": "markdown",
     "metadata": {},
     "source": [
      "Commutator:"
     ]
    },
    {
     "cell_type": "code",
     "collapsed": false,
     "input": [
      "print treeCommutator(t, leaf)"
     ],
     "language": "python",
     "metadata": {},
     "outputs": [
      {
       "output_type": "stream",
       "stream": "stdout",
       "text": [
        "1*[[[[]],[]]] + -1*[[],[[[]]]] + -1*[[[]],[],[]] + -1*[[[]],[[]]] + -1*[[],[[],[]]]\n"
       ]
      }
     ],
     "prompt_number": 33
    },
    {
     "cell_type": "markdown",
     "metadata": {},
     "source": [
      "Splitting:"
     ]
    },
    {
     "cell_type": "code",
     "collapsed": false,
     "input": [
      "print split(t)"
     ],
     "language": "python",
     "metadata": {},
     "outputs": [
      {
       "output_type": "stream",
       "stream": "stdout",
       "text": [
        "1*(UnorderedTree(), UnorderedTree({UnorderedTree({UnorderedTree(): 1}): 1})) + 1*(UnorderedTree({UnorderedTree(): 1}), UnorderedTree({UnorderedTree(): 1})) + 1*(UnorderedTree(), UnorderedTree({UnorderedTree(): 2})) + 1*(UnorderedTree({UnorderedTree({UnorderedTree(): 1}): 1, UnorderedTree(): 1}), Forest())\n"
       ]
      }
     ],
     "prompt_number": 34
    },
    {
     "cell_type": "heading",
     "level": 3,
     "metadata": {},
     "source": [
      "B-series"
     ]
    },
    {
     "cell_type": "code",
     "collapsed": false,
     "input": [
      "a = exponential"
     ],
     "language": "python",
     "metadata": {},
     "outputs": [],
     "prompt_number": 35
    },
    {
     "cell_type": "markdown",
     "metadata": {},
     "source": [
      "Preliminary printing function"
     ]
    },
    {
     "cell_type": "code",
     "collapsed": false,
     "input": [
      "from itertools import islice\n",
      "def to_first_trees(f, n):\n",
      "    return ((tree,f(tree)) for tree in islice(tree_generator(),0,n))\n",
      "def print_for_first_trees(f,n):\n",
      "    for (t,v) in to_first_trees(f,n):\n",
      "        print \"{}: {}\".format(t,v)"
     ],
     "language": "python",
     "metadata": {},
     "outputs": [],
     "prompt_number": 38
    },
    {
     "cell_type": "markdown",
     "metadata": {},
     "source": [
      "Composition"
     ]
    },
    {
     "cell_type": "code",
     "collapsed": false,
     "input": [
      "b = hf_composition(a)\n",
      "print_for_first_trees(b,10)"
     ],
     "language": "python",
     "metadata": {},
     "outputs": [
      {
       "output_type": "stream",
       "stream": "stdout",
       "text": [
        "[]: 1\n",
        "[[]]: 1\n",
        "[[[]]]: 1/2\n",
        "[[],[]]: 1\n",
        "[[[]],[]]: 1/2\n",
        "[[[[]]]]: 1/6\n",
        "[[],[],[]]: 1\n",
        "[[[],[]]]: 1/3\n",
        "[[],[[[]]]]: 1/6\n",
        "[[[[]],[]]]: 1/8\n"
       ]
      }
     ],
     "prompt_number": 39
    },
    {
     "cell_type": "markdown",
     "metadata": {},
     "source": [
      "Modified equation"
     ]
    },
    {
     "cell_type": "code",
     "collapsed": false,
     "input": [
      "c = modified_equation(a)\n",
      "print_for_first_trees(c,10)"
     ],
     "language": "python",
     "metadata": {},
     "outputs": [
      {
       "output_type": "stream",
       "stream": "stdout",
       "text": [
        "[]: 1\n",
        "[[]]: 0\n",
        "[[[]]]: 0\n",
        "[[],[]]: 0\n",
        "[[[]],[]]: 0\n",
        "[[[[]]]]: 0\n",
        "[[],[],[]]: 0\n",
        "[[[],[]]]: 0\n",
        "[[],[[[]]]]: 0\n",
        "[[[[]],[]]]: 0\n"
       ]
      }
     ],
     "prompt_number": 40
    },
    {
     "cell_type": "heading",
     "level": 2,
     "metadata": {},
     "source": [
      "Order of a Runge\u2013Kutta method"
     ]
    },
    {
     "cell_type": "code",
     "collapsed": false,
     "input": [
      "from pybs.rungekutta.methods import RKmidpoint # A small collection of Butcher tableaus.\n",
      "RKmidpoint.printMe()\n",
      "print 'RKmidpoint.order =', RKmidpoint.order"
     ],
     "language": "python",
     "metadata": {},
     "outputs": [
      {
       "output_type": "stream",
       "stream": "stdout",
       "text": [
        "A =\n",
        "[[0 0]\n",
        " [Fraction(1, 2) 0]]\n",
        "b = [0 1]\n",
        "RKmidpoint.order = 2\n"
       ]
      }
     ],
     "prompt_number": 41
    },
    {
     "cell_type": "code",
     "collapsed": false,
     "input": [],
     "language": "python",
     "metadata": {},
     "outputs": [],
     "prompt_number": 24
    }
   ],
   "metadata": {}
  }
 ]
}