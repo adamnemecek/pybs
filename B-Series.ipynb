{
 "cells": [
  {
   "cell_type": "code",
   "execution_count": 1,
   "metadata": {
    "collapsed": false
   },
   "outputs": [],
   "source": [
    "from IPython.display import display\n",
    "from pybs.unordered_tree import number_of_trees_of_order, tree_generator, leaf\n",
    "from pybs.unordered_tree import UnorderedTree\n",
    "from pybs.combinations import empty_tree\n",
    "from pybs.combinations import Forest, differentiate as D, graft, split\n",
    "from pybs.series import hf_composition, modified_equation\n",
    "from pybs.series.Bseries import exponential"
   ]
  },
  {
   "cell_type": "markdown",
   "metadata": {},
   "source": [
    "## Trees"
   ]
  },
  {
   "cell_type": "markdown",
   "metadata": {},
   "source": [
    "The first tree is: `ButcherTree()`"
   ]
  },
  {
   "cell_type": "code",
   "execution_count": 2,
   "metadata": {
    "collapsed": false
   },
   "outputs": [
    {
     "data": {
      "image/svg+xml": [
       "<?xml version=\"1.0\" encoding=\"UTF-8\"?>\n",
       "<svg xmlns=\"http://www.w3.org/2000/svg\" xmlns:xlink=\"http://www.w3.org/1999/xlink\" width=\"20.511pt\" height=\"7.228pt\" viewBox=\"0 0 20.511 7.228\" version=\"1.1\">\n",
       "<defs>\n",
       "<clipPath id=\"clip1\">\n",
       "  <path d=\"M 7 0 L 20.511719 0 L 20.511719 7.226562 L 7 7.226562 Z M 7 0 \"/>\n",
       "</clipPath>\n",
       "</defs>\n",
       "<g id=\"surface1\">\n",
       "<path style=\" stroke:none;fill-rule:nonzero;fill:rgb(0%,0%,0%);fill-opacity:1;\" d=\"M 18.210938 3.613281 C 18.210938 2.886719 17.625 2.300781 16.898438 2.300781 C 16.171875 2.300781 15.582031 2.886719 15.582031 3.613281 C 15.582031 4.339844 16.171875 4.929688 16.898438 4.929688 C 17.625 4.929688 18.210938 4.339844 18.210938 3.613281 Z M 18.210938 3.613281 \"/>\n",
       "<g clip-path=\"url(#clip1)\" clip-rule=\"nonzero\">\n",
       "<path style=\"fill:none;stroke-width:0.59776;stroke-linecap:butt;stroke-linejoin:miter;stroke:rgb(0%,0%,0%);stroke-opacity:1;stroke-miterlimit:10;\" d=\"M 1.313937 0.00071875 C 1.313937 0.727281 0.728 1.313219 0.0014375 1.313219 C -0.725125 1.313219 -1.314969 0.727281 -1.314969 0.00071875 C -1.314969 -0.725844 -0.725125 -1.315688 0.0014375 -1.315688 C 0.728 -1.315688 1.313937 -0.725844 1.313937 0.00071875 Z M 1.313937 0.00071875 \" transform=\"matrix(1,0,0,-1,16.897,3.614)\"/>\n",
       "</g>\n",
       "</g>\n",
       "</svg>\n"
      ],
      "text/plain": [
       "UnorderedTree()"
      ]
     },
     "metadata": {},
     "output_type": "display_data"
    }
   ],
   "source": [
    "display(UnorderedTree())"
   ]
  },
  {
   "cell_type": "code",
   "execution_count": 3,
   "metadata": {
    "collapsed": false
   },
   "outputs": [
    {
     "data": {
      "text/plain": [
       "'[]'"
      ]
     },
     "execution_count": 3,
     "metadata": {},
     "output_type": "execute_result"
    }
   ],
   "source": [
    "str(UnorderedTree())"
   ]
  },
  {
   "cell_type": "markdown",
   "metadata": {},
   "source": [
    "And the empty tree is"
   ]
  },
  {
   "cell_type": "code",
   "execution_count": 4,
   "metadata": {
    "collapsed": false
   },
   "outputs": [
    {
     "data": {
      "text/plain": [
       "Forest()"
      ]
     },
     "execution_count": 4,
     "metadata": {},
     "output_type": "execute_result"
    }
   ],
   "source": [
    "empty_tree"
   ]
  },
  {
   "cell_type": "code",
   "execution_count": 5,
   "metadata": {
    "collapsed": false
   },
   "outputs": [
    {
     "data": {
      "text/plain": [
       "'()'"
      ]
     },
     "execution_count": 5,
     "metadata": {},
     "output_type": "execute_result"
    }
   ],
   "source": [
    "str(empty_tree)"
   ]
  },
  {
   "cell_type": "code",
   "execution_count": 6,
   "metadata": {
    "collapsed": false
   },
   "outputs": [
    {
     "data": {
      "text/plain": [
       "'1*[]'"
      ]
     },
     "execution_count": 6,
     "metadata": {},
     "output_type": "execute_result"
    }
   ],
   "source": [
    "str(D(empty_tree))"
   ]
  },
  {
   "cell_type": "markdown",
   "metadata": {},
   "source": [
    "Note: The result is a `LinearCombination` containing one root."
   ]
  },
  {
   "cell_type": "markdown",
   "metadata": {},
   "source": [
    "## Methods for constructing new trees"
   ]
  },
  {
   "cell_type": "markdown",
   "metadata": {},
   "source": [
    "Specifying the forest of child trees to the constructor:"
   ]
  },
  {
   "cell_type": "code",
   "execution_count": 7,
   "metadata": {
    "collapsed": false
   },
   "outputs": [
    {
     "data": {
      "image/svg+xml": [
       "<?xml version=\"1.0\" encoding=\"UTF-8\"?>\n",
       "<svg xmlns=\"http://www.w3.org/2000/svg\" xmlns:xlink=\"http://www.w3.org/1999/xlink\" width=\"25.33pt\" height=\"12.046pt\" viewBox=\"0 0 25.33 12.046\" version=\"1.1\">\n",
       "<defs>\n",
       "<clipPath id=\"clip1\">\n",
       "  <path d=\"M 9 0 L 25.328125 0 L 25.328125 12.046875 L 9 12.046875 Z M 9 0 \"/>\n",
       "</clipPath>\n",
       "<clipPath id=\"clip2\">\n",
       "  <path d=\"M 7 0 L 25.328125 0 L 25.328125 12.046875 L 7 12.046875 Z M 7 0 \"/>\n",
       "</clipPath>\n",
       "<clipPath id=\"clip3\">\n",
       "  <path d=\"M 9 0 L 25.328125 0 L 25.328125 12.046875 L 9 12.046875 Z M 9 0 \"/>\n",
       "</clipPath>\n",
       "<clipPath id=\"clip4\">\n",
       "  <path d=\"M 11 0 L 25.328125 0 L 25.328125 12.046875 L 11 12.046875 Z M 11 0 \"/>\n",
       "</clipPath>\n",
       "</defs>\n",
       "<g id=\"surface1\">\n",
       "<path style=\" stroke:none;fill-rule:nonzero;fill:rgb(0%,0%,0%);fill-opacity:1;\" d=\"M 20.621094 8.433594 C 20.621094 7.707031 20.035156 7.117188 19.308594 7.117188 C 18.582031 7.117188 17.992188 7.707031 17.992188 8.433594 C 17.992188 9.160156 18.582031 9.746094 19.308594 9.746094 C 20.035156 9.746094 20.621094 9.160156 20.621094 8.433594 Z M 20.621094 8.433594 \"/>\n",
       "<g clip-path=\"url(#clip1)\" clip-rule=\"nonzero\">\n",
       "<path style=\"fill:none;stroke-width:0.59776;stroke-linecap:butt;stroke-linejoin:miter;stroke:rgb(0%,0%,0%);stroke-opacity:1;stroke-miterlimit:10;\" d=\"M 1.314094 -0.00159375 C 1.314094 0.724969 0.728156 1.314812 0.00159375 1.314812 C -0.724969 1.314812 -1.314813 0.724969 -1.314813 -0.00159375 C -1.314813 -0.728156 -0.724969 -1.314094 0.00159375 -1.314094 C 0.728156 -1.314094 1.314094 -0.728156 1.314094 -0.00159375 Z M 1.314094 -0.00159375 \" transform=\"matrix(1,0,0,-1,19.307,8.432)\"/>\n",
       "</g>\n",
       "<path style=\" stroke:none;fill-rule:nonzero;fill:rgb(0%,0%,0%);fill-opacity:1;\" d=\"M 18.210938 3.613281 C 18.210938 2.886719 17.625 2.296875 16.898438 2.296875 C 16.171875 2.296875 15.582031 2.886719 15.582031 3.613281 C 15.582031 4.339844 16.171875 4.929688 16.898438 4.929688 C 17.625 4.929688 18.210938 4.339844 18.210938 3.613281 Z M 18.210938 3.613281 \"/>\n",
       "<g clip-path=\"url(#clip2)\" clip-rule=\"nonzero\">\n",
       "<path style=\"fill:none;stroke-width:0.59776;stroke-linecap:butt;stroke-linejoin:miter;stroke:rgb(0%,0%,0%);stroke-opacity:1;stroke-miterlimit:10;\" d=\"M -1.096063 4.818719 C -1.096063 5.545281 -1.682 6.135125 -2.408563 6.135125 C -3.135125 6.135125 -3.724969 5.545281 -3.724969 4.818719 C -3.724969 4.092156 -3.135125 3.502312 -2.408563 3.502312 C -1.682 3.502312 -1.096063 4.092156 -1.096063 4.818719 Z M -1.096063 4.818719 \" transform=\"matrix(1,0,0,-1,19.307,8.432)\"/>\n",
       "</g>\n",
       "<g clip-path=\"url(#clip3)\" clip-rule=\"nonzero\">\n",
       "<path style=\"fill:none;stroke-width:0.59776;stroke-linecap:butt;stroke-linejoin:miter;stroke:rgb(0%,0%,0%);stroke-opacity:1;stroke-miterlimit:10;\" d=\"M -0.627313 1.256219 L -1.783563 3.568719 \" transform=\"matrix(1,0,0,-1,19.307,8.432)\"/>\n",
       "</g>\n",
       "<path style=\" stroke:none;fill-rule:nonzero;fill:rgb(0%,0%,0%);fill-opacity:1;\" d=\"M 23.03125 3.613281 C 23.03125 2.886719 22.441406 2.296875 21.714844 2.296875 C 20.988281 2.296875 20.402344 2.886719 20.402344 3.613281 C 20.402344 4.339844 20.988281 4.929688 21.714844 4.929688 C 22.441406 4.929688 23.03125 4.339844 23.03125 3.613281 Z M 23.03125 3.613281 \"/>\n",
       "<g clip-path=\"url(#clip4)\" clip-rule=\"nonzero\">\n",
       "<path style=\"fill:none;stroke-width:0.59776;stroke-linecap:butt;stroke-linejoin:miter;stroke:rgb(0%,0%,0%);stroke-opacity:1;stroke-miterlimit:10;\" d=\"M 3.72425 4.818719 C 3.72425 5.545281 3.134406 6.135125 2.407844 6.135125 C 1.681281 6.135125 1.095344 5.545281 1.095344 4.818719 C 1.095344 4.092156 1.681281 3.502312 2.407844 3.502312 C 3.134406 3.502312 3.72425 4.092156 3.72425 4.818719 Z M 3.72425 4.818719 \" transform=\"matrix(1,0,0,-1,19.307,8.432)\"/>\n",
       "<path style=\"fill:none;stroke-width:0.59776;stroke-linecap:butt;stroke-linejoin:miter;stroke:rgb(0%,0%,0%);stroke-opacity:1;stroke-miterlimit:10;\" d=\"M 0.626594 1.256219 L 1.782844 3.568719 \" transform=\"matrix(1,0,0,-1,19.307,8.432)\"/>\n",
       "</g>\n",
       "</g>\n",
       "</svg>\n"
      ],
      "text/plain": [
       "UnorderedTree({UnorderedTree(): 2})"
      ]
     },
     "execution_count": 7,
     "metadata": {},
     "output_type": "execute_result"
    }
   ],
   "source": [
    "tree = UnorderedTree(Forest([leaf, leaf]))\n",
    "tree"
   ]
  },
  {
   "cell_type": "markdown",
   "metadata": {},
   "source": [
    "By grafting one tree onto another:"
   ]
  },
  {
   "cell_type": "code",
   "execution_count": 8,
   "metadata": {
    "collapsed": false
   },
   "outputs": [
    {
     "name": "stdout",
     "output_type": "stream",
     "text": [
      "2*[[],[[]]] + 1*[[],[],[]]\n"
     ]
    }
   ],
   "source": [
    "a=graft(leaf, tree)\n",
    "print(a)"
   ]
  },
  {
   "cell_type": "markdown",
   "metadata": {},
   "source": [
    "By taking the derivative of existing trees:"
   ]
  },
  {
   "cell_type": "markdown",
   "metadata": {},
   "source": [
    "## Trees of a given order"
   ]
  },
  {
   "cell_type": "markdown",
   "metadata": {},
   "source": [
    "It is also possible to take the derivative of all the trees in a `LinearCombination`. Starting at the empty tree,\n",
    "the n-th derivative is a `LinearCombination` of all trees of order n, complete with `alpha` as the multiplicity:"
   ]
  },
  {
   "cell_type": "code",
   "execution_count": 9,
   "metadata": {
    "collapsed": false
   },
   "outputs": [
    {
     "name": "stdout",
     "output_type": "stream",
     "text": [
      "1*[]\n"
     ]
    }
   ],
   "source": [
    "trees_of_order_1 = D(empty_tree)\n",
    "print(trees_of_order_1)"
   ]
  },
  {
   "cell_type": "code",
   "execution_count": 10,
   "metadata": {
    "collapsed": false
   },
   "outputs": [
    {
     "name": "stdout",
     "output_type": "stream",
     "text": [
      "1*[[]]\n"
     ]
    }
   ],
   "source": [
    "trees_of_order_2 = D(trees_of_order_1)\n",
    "print(trees_of_order_2)"
   ]
  },
  {
   "cell_type": "code",
   "execution_count": 11,
   "metadata": {
    "collapsed": false
   },
   "outputs": [
    {
     "name": "stdout",
     "output_type": "stream",
     "text": [
      "1*[[[]]] + 1*[[],[]]\n"
     ]
    }
   ],
   "source": [
    "trees_of_order_3 = D(trees_of_order_2)\n",
    "print(trees_of_order_3)"
   ]
  },
  {
   "cell_type": "code",
   "execution_count": 12,
   "metadata": {
    "collapsed": false
   },
   "outputs": [
    {
     "name": "stdout",
     "output_type": "stream",
     "text": [
      "3*[[[]],[]] + 1*[[[[]]]] + 1*[[],[],[]] + 1*[[[],[]]]\n"
     ]
    }
   ],
   "source": [
    "trees_of_order_4 = D(trees_of_order_3)\n",
    "print(trees_of_order_4)"
   ]
  },
  {
   "cell_type": "code",
   "execution_count": 13,
   "metadata": {
    "collapsed": false
   },
   "outputs": [
    {
     "name": "stdout",
     "output_type": "stream",
     "text": [
      "4*[[],[[[]]]] + 4*[[],[[],[]]] + 1*[[[],[],[]]] + 3*[[[[]],[]]] + 1*[[],[],[],[]] + 1*[[[[[]]]]] + 1*[[[[],[]]]] + 6*[[[]],[],[]] + 3*[[[]],[[]]]\n"
     ]
    }
   ],
   "source": [
    "trees_of_order_5 = D(trees_of_order_4)\n",
    "print(trees_of_order_5)"
   ]
  },
  {
   "cell_type": "markdown",
   "metadata": {},
   "source": [
    "The number of trees of a given order can be calculated without constructing all the trees:"
   ]
  },
  {
   "cell_type": "code",
   "execution_count": 14,
   "metadata": {
    "collapsed": false
   },
   "outputs": [
    {
     "data": {
      "text/plain": [
       "354426847597.0"
      ]
     },
     "execution_count": 14,
     "metadata": {},
     "output_type": "execute_result"
    }
   ],
   "source": [
    "number_of_trees_of_order(30)"
   ]
  },
  {
   "cell_type": "markdown",
   "metadata": {},
   "source": [
    "## Some functions on trees"
   ]
  },
  {
   "cell_type": "code",
   "execution_count": 15,
   "metadata": {
    "collapsed": false
   },
   "outputs": [
    {
     "data": {
      "image/svg+xml": [
       "<?xml version=\"1.0\" encoding=\"UTF-8\"?>\n",
       "<svg xmlns=\"http://www.w3.org/2000/svg\" xmlns:xlink=\"http://www.w3.org/1999/xlink\" width=\"25.33pt\" height=\"16.865pt\" viewBox=\"0 0 25.33 16.865\" version=\"1.1\">\n",
       "<defs>\n",
       "<clipPath id=\"clip1\">\n",
       "  <path d=\"M 9 3 L 25.328125 3 L 25.328125 16.863281 L 9 16.863281 Z M 9 3 \"/>\n",
       "</clipPath>\n",
       "<clipPath id=\"clip2\">\n",
       "  <path d=\"M 7 0 L 25.328125 0 L 25.328125 16.863281 L 7 16.863281 Z M 7 0 \"/>\n",
       "</clipPath>\n",
       "<clipPath id=\"clip3\">\n",
       "  <path d=\"M 9 1 L 25.328125 1 L 25.328125 16.863281 L 9 16.863281 Z M 9 1 \"/>\n",
       "</clipPath>\n",
       "<clipPath id=\"clip4\">\n",
       "  <path d=\"M 11 0 L 25.328125 0 L 25.328125 16.863281 L 11 16.863281 Z M 11 0 \"/>\n",
       "</clipPath>\n",
       "<clipPath id=\"clip5\">\n",
       "  <path d=\"M 11 1 L 25.328125 1 L 25.328125 16.863281 L 11 16.863281 Z M 11 1 \"/>\n",
       "</clipPath>\n",
       "<clipPath id=\"clip6\">\n",
       "  <path d=\"M 11 0 L 25.328125 0 L 25.328125 14 L 11 14 Z M 11 0 \"/>\n",
       "</clipPath>\n",
       "</defs>\n",
       "<g id=\"surface1\">\n",
       "<path style=\" stroke:none;fill-rule:nonzero;fill:rgb(0%,0%,0%);fill-opacity:1;\" d=\"M 20.621094 13.25 C 20.621094 12.523438 20.035156 11.9375 19.308594 11.9375 C 18.582031 11.9375 17.992188 12.523438 17.992188 13.25 C 17.992188 13.976562 18.582031 14.566406 19.308594 14.566406 C 20.035156 14.566406 20.621094 13.976562 20.621094 13.25 Z M 20.621094 13.25 \"/>\n",
       "<g clip-path=\"url(#clip1)\" clip-rule=\"nonzero\">\n",
       "<path style=\"fill:none;stroke-width:0.59776;stroke-linecap:butt;stroke-linejoin:miter;stroke:rgb(0%,0%,0%);stroke-opacity:1;stroke-miterlimit:10;\" d=\"M 1.314094 0.001 C 1.314094 0.727562 0.728156 1.3135 0.00159375 1.3135 C -0.724969 1.3135 -1.314813 0.727562 -1.314813 0.001 C -1.314813 -0.725563 -0.724969 -1.315406 0.00159375 -1.315406 C 0.728156 -1.315406 1.314094 -0.725563 1.314094 0.001 Z M 1.314094 0.001 \" transform=\"matrix(1,0,0,-1,19.307,13.251)\"/>\n",
       "</g>\n",
       "<path style=\" stroke:none;fill-rule:nonzero;fill:rgb(0%,0%,0%);fill-opacity:1;\" d=\"M 18.210938 8.433594 C 18.210938 7.707031 17.625 7.117188 16.898438 7.117188 C 16.171875 7.117188 15.582031 7.707031 15.582031 8.433594 C 15.582031 9.160156 16.171875 9.746094 16.898438 9.746094 C 17.625 9.746094 18.210938 9.160156 18.210938 8.433594 Z M 18.210938 8.433594 \"/>\n",
       "<g clip-path=\"url(#clip2)\" clip-rule=\"nonzero\">\n",
       "<path style=\"fill:none;stroke-width:0.59776;stroke-linecap:butt;stroke-linejoin:miter;stroke:rgb(0%,0%,0%);stroke-opacity:1;stroke-miterlimit:10;\" d=\"M -1.096063 4.817406 C -1.096063 5.543969 -1.682 6.133812 -2.408563 6.133812 C -3.135125 6.133812 -3.724969 5.543969 -3.724969 4.817406 C -3.724969 4.090844 -3.135125 3.504906 -2.408563 3.504906 C -1.682 3.504906 -1.096063 4.090844 -1.096063 4.817406 Z M -1.096063 4.817406 \" transform=\"matrix(1,0,0,-1,19.307,13.251)\"/>\n",
       "</g>\n",
       "<g clip-path=\"url(#clip3)\" clip-rule=\"nonzero\">\n",
       "<path style=\"fill:none;stroke-width:0.59776;stroke-linecap:butt;stroke-linejoin:miter;stroke:rgb(0%,0%,0%);stroke-opacity:1;stroke-miterlimit:10;\" d=\"M -0.627313 1.254906 L -1.783563 3.567406 \" transform=\"matrix(1,0,0,-1,19.307,13.251)\"/>\n",
       "</g>\n",
       "<path style=\" stroke:none;fill-rule:nonzero;fill:rgb(0%,0%,0%);fill-opacity:1;\" d=\"M 23.03125 8.433594 C 23.03125 7.707031 22.441406 7.117188 21.714844 7.117188 C 20.988281 7.117188 20.402344 7.707031 20.402344 8.433594 C 20.402344 9.160156 20.988281 9.746094 21.714844 9.746094 C 22.441406 9.746094 23.03125 9.160156 23.03125 8.433594 Z M 23.03125 8.433594 \"/>\n",
       "<g clip-path=\"url(#clip4)\" clip-rule=\"nonzero\">\n",
       "<path style=\"fill:none;stroke-width:0.59776;stroke-linecap:butt;stroke-linejoin:miter;stroke:rgb(0%,0%,0%);stroke-opacity:1;stroke-miterlimit:10;\" d=\"M 3.72425 4.817406 C 3.72425 5.543969 3.134406 6.133812 2.407844 6.133812 C 1.681281 6.133812 1.095344 5.543969 1.095344 4.817406 C 1.095344 4.090844 1.681281 3.504906 2.407844 3.504906 C 3.134406 3.504906 3.72425 4.090844 3.72425 4.817406 Z M 3.72425 4.817406 \" transform=\"matrix(1,0,0,-1,19.307,13.251)\"/>\n",
       "</g>\n",
       "<g clip-path=\"url(#clip5)\" clip-rule=\"nonzero\">\n",
       "<path style=\"fill:none;stroke-width:0.59776;stroke-linecap:butt;stroke-linejoin:miter;stroke:rgb(0%,0%,0%);stroke-opacity:1;stroke-miterlimit:10;\" d=\"M 0.626594 1.254906 L 1.782844 3.567406 \" transform=\"matrix(1,0,0,-1,19.307,13.251)\"/>\n",
       "</g>\n",
       "<path style=\" stroke:none;fill-rule:nonzero;fill:rgb(0%,0%,0%);fill-opacity:1;\" d=\"M 23.03125 3.613281 C 23.03125 2.886719 22.441406 2.296875 21.714844 2.296875 C 20.988281 2.296875 20.402344 2.886719 20.402344 3.613281 C 20.402344 4.339844 20.988281 4.929688 21.714844 4.929688 C 22.441406 4.929688 23.03125 4.339844 23.03125 3.613281 Z M 23.03125 3.613281 \"/>\n",
       "<g clip-path=\"url(#clip6)\" clip-rule=\"nonzero\">\n",
       "<path style=\"fill:none;stroke-width:0.59776;stroke-linecap:butt;stroke-linejoin:miter;stroke:rgb(0%,0%,0%);stroke-opacity:1;stroke-miterlimit:10;\" d=\"M 3.72425 9.637719 C 3.72425 10.364281 3.134406 10.954125 2.407844 10.954125 C 1.681281 10.954125 1.095344 10.364281 1.095344 9.637719 C 1.095344 8.911156 1.681281 8.321312 2.407844 8.321312 C 3.134406 8.321312 3.72425 8.911156 3.72425 9.637719 Z M 3.72425 9.637719 \" transform=\"matrix(1,0,0,-1,19.307,13.251)\"/>\n",
       "</g>\n",
       "<path style=\"fill:none;stroke-width:0.59776;stroke-linecap:butt;stroke-linejoin:miter;stroke:rgb(0%,0%,0%);stroke-opacity:1;stroke-miterlimit:10;\" d=\"M 2.407844 6.215844 L 2.407844 8.239281 \" transform=\"matrix(1,0,0,-1,19.307,13.251)\"/>\n",
       "</g>\n",
       "</svg>\n"
      ],
      "text/plain": [
       "UnorderedTree({UnorderedTree({UnorderedTree(): 1}): 1, UnorderedTree(): 1})"
      ]
     },
     "execution_count": 15,
     "metadata": {},
     "output_type": "execute_result"
    }
   ],
   "source": [
    "tmp = UnorderedTree(Forest([leaf]))\n",
    "t = UnorderedTree(Forest([tmp, leaf]))\n",
    "del tmp\n",
    "t"
   ]
  },
  {
   "cell_type": "code",
   "execution_count": 16,
   "metadata": {
    "collapsed": false
   },
   "outputs": [
    {
     "name": "stdout",
     "output_type": "stream",
     "text": [
      "order:  4\n",
      "number of children:  2\n",
      "density:  8\n",
      "symmetry:  1\n",
      "alpha: 3.0\n",
      "elementary differential: \"f''(f'f,f)\" (string)\n",
      "multiplicities: dict_values([1, 1]) (list)\n"
     ]
    }
   ],
   "source": [
    "print('order: ', t.order())\n",
    "print('number of children: ', t.number_of_children())\n",
    "print('density: ', t.density())\n",
    "print('symmetry: ', t.symmetry())\n",
    "print('alpha:', t.alpha())\n",
    "print('elementary differential: \"' + t.F() + '\" (string)')\n",
    "print('multiplicities:', t.multiplicities(),  '(list)')"
   ]
  },
  {
   "cell_type": "markdown",
   "metadata": {},
   "source": [
    "Commutator:"
   ]
  },
  {
   "cell_type": "code",
   "execution_count": 17,
   "metadata": {
    "collapsed": false
   },
   "outputs": [],
   "source": [
    "#print(treeCommutator(t, leaf))"
   ]
  },
  {
   "cell_type": "markdown",
   "metadata": {},
   "source": [
    "Splitting:"
   ]
  },
  {
   "cell_type": "code",
   "execution_count": 18,
   "metadata": {
    "collapsed": false
   },
   "outputs": [
    {
     "name": "stdout",
     "output_type": "stream",
     "text": [
      "1*(UnorderedTree(), UnorderedTree({UnorderedTree({UnorderedTree(): 1}): 1})) + 1*(UnorderedTree({UnorderedTree(): 1}), UnorderedTree({UnorderedTree(): 1})) + 1*(UnorderedTree(), UnorderedTree({UnorderedTree(): 2})) + 1*(UnorderedTree({UnorderedTree({UnorderedTree(): 1}): 1, UnorderedTree(): 1}), Forest())\n"
     ]
    }
   ],
   "source": [
    "print(split(t))"
   ]
  },
  {
   "cell_type": "markdown",
   "metadata": {},
   "source": [
    "### B-series"
   ]
  },
  {
   "cell_type": "code",
   "execution_count": 19,
   "metadata": {
    "collapsed": false
   },
   "outputs": [],
   "source": [
    "a = exponential"
   ]
  },
  {
   "cell_type": "markdown",
   "metadata": {},
   "source": [
    "Preliminary printing function"
   ]
  },
  {
   "cell_type": "code",
   "execution_count": 20,
   "metadata": {
    "collapsed": false
   },
   "outputs": [],
   "source": [
    "from itertools import islice\n",
    "def to_first_trees(f, n):\n",
    "    return ((tree,f(tree)) for tree in islice(tree_generator(),0,n))\n",
    "def print_for_first_trees(f,n):\n",
    "    for (t,v) in to_first_trees(f,n):\n",
    "        display(t)\n",
    "        print(v)\n",
    "#        print \"{}: {}\".format(t,v)"
   ]
  },
  {
   "cell_type": "markdown",
   "metadata": {},
   "source": [
    "Composition"
   ]
  },
  {
   "cell_type": "code",
   "execution_count": 21,
   "metadata": {
    "collapsed": false
   },
   "outputs": [
    {
     "data": {
      "image/svg+xml": [
       "<?xml version=\"1.0\" encoding=\"UTF-8\"?>\n",
       "<svg xmlns=\"http://www.w3.org/2000/svg\" xmlns:xlink=\"http://www.w3.org/1999/xlink\" width=\"20.511pt\" height=\"7.228pt\" viewBox=\"0 0 20.511 7.228\" version=\"1.1\">\n",
       "<defs>\n",
       "<clipPath id=\"clip1\">\n",
       "  <path d=\"M 7 0 L 20.511719 0 L 20.511719 7.226562 L 7 7.226562 Z M 7 0 \"/>\n",
       "</clipPath>\n",
       "</defs>\n",
       "<g id=\"surface1\">\n",
       "<path style=\" stroke:none;fill-rule:nonzero;fill:rgb(0%,0%,0%);fill-opacity:1;\" d=\"M 18.210938 3.613281 C 18.210938 2.886719 17.625 2.300781 16.898438 2.300781 C 16.171875 2.300781 15.582031 2.886719 15.582031 3.613281 C 15.582031 4.339844 16.171875 4.929688 16.898438 4.929688 C 17.625 4.929688 18.210938 4.339844 18.210938 3.613281 Z M 18.210938 3.613281 \"/>\n",
       "<g clip-path=\"url(#clip1)\" clip-rule=\"nonzero\">\n",
       "<path style=\"fill:none;stroke-width:0.59776;stroke-linecap:butt;stroke-linejoin:miter;stroke:rgb(0%,0%,0%);stroke-opacity:1;stroke-miterlimit:10;\" d=\"M 1.313937 0.00071875 C 1.313937 0.727281 0.728 1.313219 0.0014375 1.313219 C -0.725125 1.313219 -1.314969 0.727281 -1.314969 0.00071875 C -1.314969 -0.725844 -0.725125 -1.315688 0.0014375 -1.315688 C 0.728 -1.315688 1.313937 -0.725844 1.313937 0.00071875 Z M 1.313937 0.00071875 \" transform=\"matrix(1,0,0,-1,16.897,3.614)\"/>\n",
       "</g>\n",
       "</g>\n",
       "</svg>\n"
      ],
      "text/plain": [
       "UnorderedTree()"
      ]
     },
     "metadata": {},
     "output_type": "display_data"
    },
    {
     "name": "stdout",
     "output_type": "stream",
     "text": [
      "1\n"
     ]
    },
    {
     "data": {
      "image/svg+xml": [
       "<?xml version=\"1.0\" encoding=\"UTF-8\"?>\n",
       "<svg xmlns=\"http://www.w3.org/2000/svg\" xmlns:xlink=\"http://www.w3.org/1999/xlink\" width=\"20.511pt\" height=\"12.046pt\" viewBox=\"0 0 20.511 12.046\" version=\"1.1\">\n",
       "<defs>\n",
       "<clipPath id=\"clip1\">\n",
       "  <path d=\"M 7 0 L 20.511719 0 L 20.511719 12.046875 L 7 12.046875 Z M 7 0 \"/>\n",
       "</clipPath>\n",
       "<clipPath id=\"clip2\">\n",
       "  <path d=\"M 7 0 L 20.511719 0 L 20.511719 12.046875 L 7 12.046875 Z M 7 0 \"/>\n",
       "</clipPath>\n",
       "</defs>\n",
       "<g id=\"surface1\">\n",
       "<path style=\" stroke:none;fill-rule:nonzero;fill:rgb(0%,0%,0%);fill-opacity:1;\" d=\"M 18.210938 8.433594 C 18.210938 7.707031 17.625 7.117188 16.898438 7.117188 C 16.171875 7.117188 15.582031 7.707031 15.582031 8.433594 C 15.582031 9.160156 16.171875 9.746094 16.898438 9.746094 C 17.625 9.746094 18.210938 9.160156 18.210938 8.433594 Z M 18.210938 8.433594 \"/>\n",
       "<g clip-path=\"url(#clip1)\" clip-rule=\"nonzero\">\n",
       "<path style=\"fill:none;stroke-width:0.59776;stroke-linecap:butt;stroke-linejoin:miter;stroke:rgb(0%,0%,0%);stroke-opacity:1;stroke-miterlimit:10;\" d=\"M 1.313937 -0.00159375 C 1.313937 0.724969 0.728 1.314812 0.0014375 1.314812 C -0.725125 1.314812 -1.314969 0.724969 -1.314969 -0.00159375 C -1.314969 -0.728156 -0.725125 -1.314094 0.0014375 -1.314094 C 0.728 -1.314094 1.313937 -0.728156 1.313937 -0.00159375 Z M 1.313937 -0.00159375 \" transform=\"matrix(1,0,0,-1,16.897,8.432)\"/>\n",
       "</g>\n",
       "<path style=\" stroke:none;fill-rule:nonzero;fill:rgb(0%,0%,0%);fill-opacity:1;\" d=\"M 18.210938 3.613281 C 18.210938 2.886719 17.625 2.296875 16.898438 2.296875 C 16.171875 2.296875 15.582031 2.886719 15.582031 3.613281 C 15.582031 4.339844 16.171875 4.929688 16.898438 4.929688 C 17.625 4.929688 18.210938 4.339844 18.210938 3.613281 Z M 18.210938 3.613281 \"/>\n",
       "<g clip-path=\"url(#clip2)\" clip-rule=\"nonzero\">\n",
       "<path style=\"fill:none;stroke-width:0.59776;stroke-linecap:butt;stroke-linejoin:miter;stroke:rgb(0%,0%,0%);stroke-opacity:1;stroke-miterlimit:10;\" d=\"M 1.313937 4.818719 C 1.313937 5.545281 0.728 6.135125 0.0014375 6.135125 C -0.725125 6.135125 -1.314969 5.545281 -1.314969 4.818719 C -1.314969 4.092156 -0.725125 3.502312 0.0014375 3.502312 C 0.728 3.502312 1.313937 4.092156 1.313937 4.818719 Z M 1.313937 4.818719 \" transform=\"matrix(1,0,0,-1,16.897,8.432)\"/>\n",
       "</g>\n",
       "<path style=\"fill:none;stroke-width:0.59776;stroke-linecap:butt;stroke-linejoin:miter;stroke:rgb(0%,0%,0%);stroke-opacity:1;stroke-miterlimit:10;\" d=\"M 0.0014375 1.396844 L 0.0014375 3.420281 \" transform=\"matrix(1,0,0,-1,16.897,8.432)\"/>\n",
       "</g>\n",
       "</svg>\n"
      ],
      "text/plain": [
       "UnorderedTree({UnorderedTree(): 1})"
      ]
     },
     "metadata": {},
     "output_type": "display_data"
    },
    {
     "name": "stdout",
     "output_type": "stream",
     "text": [
      "1\n"
     ]
    },
    {
     "data": {
      "image/svg+xml": [
       "<?xml version=\"1.0\" encoding=\"UTF-8\"?>\n",
       "<svg xmlns=\"http://www.w3.org/2000/svg\" xmlns:xlink=\"http://www.w3.org/1999/xlink\" width=\"20.511pt\" height=\"16.865pt\" viewBox=\"0 0 20.511 16.865\" version=\"1.1\">\n",
       "<defs>\n",
       "<clipPath id=\"clip1\">\n",
       "  <path d=\"M 7 3 L 20.511719 3 L 20.511719 16.863281 L 7 16.863281 Z M 7 3 \"/>\n",
       "</clipPath>\n",
       "<clipPath id=\"clip2\">\n",
       "  <path d=\"M 7 0 L 20.511719 0 L 20.511719 16.863281 L 7 16.863281 Z M 7 0 \"/>\n",
       "</clipPath>\n",
       "<clipPath id=\"clip3\">\n",
       "  <path d=\"M 7 0 L 20.511719 0 L 20.511719 14 L 7 14 Z M 7 0 \"/>\n",
       "</clipPath>\n",
       "</defs>\n",
       "<g id=\"surface1\">\n",
       "<path style=\" stroke:none;fill-rule:nonzero;fill:rgb(0%,0%,0%);fill-opacity:1;\" d=\"M 18.210938 13.25 C 18.210938 12.523438 17.625 11.9375 16.898438 11.9375 C 16.171875 11.9375 15.582031 12.523438 15.582031 13.25 C 15.582031 13.976562 16.171875 14.566406 16.898438 14.566406 C 17.625 14.566406 18.210938 13.976562 18.210938 13.25 Z M 18.210938 13.25 \"/>\n",
       "<g clip-path=\"url(#clip1)\" clip-rule=\"nonzero\">\n",
       "<path style=\"fill:none;stroke-width:0.59776;stroke-linecap:butt;stroke-linejoin:miter;stroke:rgb(0%,0%,0%);stroke-opacity:1;stroke-miterlimit:10;\" d=\"M 1.313937 0.001 C 1.313937 0.727562 0.728 1.3135 0.0014375 1.3135 C -0.725125 1.3135 -1.314969 0.727562 -1.314969 0.001 C -1.314969 -0.725563 -0.725125 -1.315406 0.0014375 -1.315406 C 0.728 -1.315406 1.313937 -0.725563 1.313937 0.001 Z M 1.313937 0.001 \" transform=\"matrix(1,0,0,-1,16.897,13.251)\"/>\n",
       "</g>\n",
       "<path style=\" stroke:none;fill-rule:nonzero;fill:rgb(0%,0%,0%);fill-opacity:1;\" d=\"M 18.210938 8.433594 C 18.210938 7.707031 17.625 7.117188 16.898438 7.117188 C 16.171875 7.117188 15.582031 7.707031 15.582031 8.433594 C 15.582031 9.160156 16.171875 9.746094 16.898438 9.746094 C 17.625 9.746094 18.210938 9.160156 18.210938 8.433594 Z M 18.210938 8.433594 \"/>\n",
       "<g clip-path=\"url(#clip2)\" clip-rule=\"nonzero\">\n",
       "<path style=\"fill:none;stroke-width:0.59776;stroke-linecap:butt;stroke-linejoin:miter;stroke:rgb(0%,0%,0%);stroke-opacity:1;stroke-miterlimit:10;\" d=\"M 1.313937 4.817406 C 1.313937 5.543969 0.728 6.133812 0.0014375 6.133812 C -0.725125 6.133812 -1.314969 5.543969 -1.314969 4.817406 C -1.314969 4.090844 -0.725125 3.504906 0.0014375 3.504906 C 0.728 3.504906 1.313937 4.090844 1.313937 4.817406 Z M 1.313937 4.817406 \" transform=\"matrix(1,0,0,-1,16.897,13.251)\"/>\n",
       "</g>\n",
       "<path style=\"fill:none;stroke-width:0.59776;stroke-linecap:butt;stroke-linejoin:miter;stroke:rgb(0%,0%,0%);stroke-opacity:1;stroke-miterlimit:10;\" d=\"M 0.0014375 1.399437 L 0.0014375 3.418969 \" transform=\"matrix(1,0,0,-1,16.897,13.251)\"/>\n",
       "<path style=\" stroke:none;fill-rule:nonzero;fill:rgb(0%,0%,0%);fill-opacity:1;\" d=\"M 18.210938 3.613281 C 18.210938 2.886719 17.625 2.296875 16.898438 2.296875 C 16.171875 2.296875 15.582031 2.886719 15.582031 3.613281 C 15.582031 4.339844 16.171875 4.929688 16.898438 4.929688 C 17.625 4.929688 18.210938 4.339844 18.210938 3.613281 Z M 18.210938 3.613281 \"/>\n",
       "<g clip-path=\"url(#clip3)\" clip-rule=\"nonzero\">\n",
       "<path style=\"fill:none;stroke-width:0.59776;stroke-linecap:butt;stroke-linejoin:miter;stroke:rgb(0%,0%,0%);stroke-opacity:1;stroke-miterlimit:10;\" d=\"M 1.313937 9.637719 C 1.313937 10.364281 0.728 10.954125 0.0014375 10.954125 C -0.725125 10.954125 -1.314969 10.364281 -1.314969 9.637719 C -1.314969 8.911156 -0.725125 8.321312 0.0014375 8.321312 C 0.728 8.321312 1.313937 8.911156 1.313937 9.637719 Z M 1.313937 9.637719 \" transform=\"matrix(1,0,0,-1,16.897,13.251)\"/>\n",
       "</g>\n",
       "<path style=\"fill:none;stroke-width:0.59776;stroke-linecap:butt;stroke-linejoin:miter;stroke:rgb(0%,0%,0%);stroke-opacity:1;stroke-miterlimit:10;\" d=\"M 0.0014375 6.215844 L 0.0014375 8.239281 \" transform=\"matrix(1,0,0,-1,16.897,13.251)\"/>\n",
       "</g>\n",
       "</svg>\n"
      ],
      "text/plain": [
       "UnorderedTree({UnorderedTree({UnorderedTree(): 1}): 1})"
      ]
     },
     "metadata": {},
     "output_type": "display_data"
    },
    {
     "name": "stdout",
     "output_type": "stream",
     "text": [
      "1/2\n"
     ]
    },
    {
     "data": {
      "image/svg+xml": [
       "<?xml version=\"1.0\" encoding=\"UTF-8\"?>\n",
       "<svg xmlns=\"http://www.w3.org/2000/svg\" xmlns:xlink=\"http://www.w3.org/1999/xlink\" width=\"25.33pt\" height=\"12.046pt\" viewBox=\"0 0 25.33 12.046\" version=\"1.1\">\n",
       "<defs>\n",
       "<clipPath id=\"clip1\">\n",
       "  <path d=\"M 9 0 L 25.328125 0 L 25.328125 12.046875 L 9 12.046875 Z M 9 0 \"/>\n",
       "</clipPath>\n",
       "<clipPath id=\"clip2\">\n",
       "  <path d=\"M 7 0 L 25.328125 0 L 25.328125 12.046875 L 7 12.046875 Z M 7 0 \"/>\n",
       "</clipPath>\n",
       "<clipPath id=\"clip3\">\n",
       "  <path d=\"M 9 0 L 25.328125 0 L 25.328125 12.046875 L 9 12.046875 Z M 9 0 \"/>\n",
       "</clipPath>\n",
       "<clipPath id=\"clip4\">\n",
       "  <path d=\"M 11 0 L 25.328125 0 L 25.328125 12.046875 L 11 12.046875 Z M 11 0 \"/>\n",
       "</clipPath>\n",
       "</defs>\n",
       "<g id=\"surface1\">\n",
       "<path style=\" stroke:none;fill-rule:nonzero;fill:rgb(0%,0%,0%);fill-opacity:1;\" d=\"M 20.621094 8.433594 C 20.621094 7.707031 20.035156 7.117188 19.308594 7.117188 C 18.582031 7.117188 17.992188 7.707031 17.992188 8.433594 C 17.992188 9.160156 18.582031 9.746094 19.308594 9.746094 C 20.035156 9.746094 20.621094 9.160156 20.621094 8.433594 Z M 20.621094 8.433594 \"/>\n",
       "<g clip-path=\"url(#clip1)\" clip-rule=\"nonzero\">\n",
       "<path style=\"fill:none;stroke-width:0.59776;stroke-linecap:butt;stroke-linejoin:miter;stroke:rgb(0%,0%,0%);stroke-opacity:1;stroke-miterlimit:10;\" d=\"M 1.314094 -0.00159375 C 1.314094 0.724969 0.728156 1.314812 0.00159375 1.314812 C -0.724969 1.314812 -1.314813 0.724969 -1.314813 -0.00159375 C -1.314813 -0.728156 -0.724969 -1.314094 0.00159375 -1.314094 C 0.728156 -1.314094 1.314094 -0.728156 1.314094 -0.00159375 Z M 1.314094 -0.00159375 \" transform=\"matrix(1,0,0,-1,19.307,8.432)\"/>\n",
       "</g>\n",
       "<path style=\" stroke:none;fill-rule:nonzero;fill:rgb(0%,0%,0%);fill-opacity:1;\" d=\"M 18.210938 3.613281 C 18.210938 2.886719 17.625 2.296875 16.898438 2.296875 C 16.171875 2.296875 15.582031 2.886719 15.582031 3.613281 C 15.582031 4.339844 16.171875 4.929688 16.898438 4.929688 C 17.625 4.929688 18.210938 4.339844 18.210938 3.613281 Z M 18.210938 3.613281 \"/>\n",
       "<g clip-path=\"url(#clip2)\" clip-rule=\"nonzero\">\n",
       "<path style=\"fill:none;stroke-width:0.59776;stroke-linecap:butt;stroke-linejoin:miter;stroke:rgb(0%,0%,0%);stroke-opacity:1;stroke-miterlimit:10;\" d=\"M -1.096063 4.818719 C -1.096063 5.545281 -1.682 6.135125 -2.408563 6.135125 C -3.135125 6.135125 -3.724969 5.545281 -3.724969 4.818719 C -3.724969 4.092156 -3.135125 3.502312 -2.408563 3.502312 C -1.682 3.502312 -1.096063 4.092156 -1.096063 4.818719 Z M -1.096063 4.818719 \" transform=\"matrix(1,0,0,-1,19.307,8.432)\"/>\n",
       "</g>\n",
       "<g clip-path=\"url(#clip3)\" clip-rule=\"nonzero\">\n",
       "<path style=\"fill:none;stroke-width:0.59776;stroke-linecap:butt;stroke-linejoin:miter;stroke:rgb(0%,0%,0%);stroke-opacity:1;stroke-miterlimit:10;\" d=\"M -0.627313 1.256219 L -1.783563 3.568719 \" transform=\"matrix(1,0,0,-1,19.307,8.432)\"/>\n",
       "</g>\n",
       "<path style=\" stroke:none;fill-rule:nonzero;fill:rgb(0%,0%,0%);fill-opacity:1;\" d=\"M 23.03125 3.613281 C 23.03125 2.886719 22.441406 2.296875 21.714844 2.296875 C 20.988281 2.296875 20.402344 2.886719 20.402344 3.613281 C 20.402344 4.339844 20.988281 4.929688 21.714844 4.929688 C 22.441406 4.929688 23.03125 4.339844 23.03125 3.613281 Z M 23.03125 3.613281 \"/>\n",
       "<g clip-path=\"url(#clip4)\" clip-rule=\"nonzero\">\n",
       "<path style=\"fill:none;stroke-width:0.59776;stroke-linecap:butt;stroke-linejoin:miter;stroke:rgb(0%,0%,0%);stroke-opacity:1;stroke-miterlimit:10;\" d=\"M 3.72425 4.818719 C 3.72425 5.545281 3.134406 6.135125 2.407844 6.135125 C 1.681281 6.135125 1.095344 5.545281 1.095344 4.818719 C 1.095344 4.092156 1.681281 3.502312 2.407844 3.502312 C 3.134406 3.502312 3.72425 4.092156 3.72425 4.818719 Z M 3.72425 4.818719 \" transform=\"matrix(1,0,0,-1,19.307,8.432)\"/>\n",
       "<path style=\"fill:none;stroke-width:0.59776;stroke-linecap:butt;stroke-linejoin:miter;stroke:rgb(0%,0%,0%);stroke-opacity:1;stroke-miterlimit:10;\" d=\"M 0.626594 1.256219 L 1.782844 3.568719 \" transform=\"matrix(1,0,0,-1,19.307,8.432)\"/>\n",
       "</g>\n",
       "</g>\n",
       "</svg>\n"
      ],
      "text/plain": [
       "UnorderedTree({UnorderedTree(): 2})"
      ]
     },
     "metadata": {},
     "output_type": "display_data"
    },
    {
     "name": "stdout",
     "output_type": "stream",
     "text": [
      "1\n"
     ]
    },
    {
     "data": {
      "image/svg+xml": [
       "<?xml version=\"1.0\" encoding=\"UTF-8\"?>\n",
       "<svg xmlns=\"http://www.w3.org/2000/svg\" xmlns:xlink=\"http://www.w3.org/1999/xlink\" width=\"25.33pt\" height=\"16.865pt\" viewBox=\"0 0 25.33 16.865\" version=\"1.1\">\n",
       "<defs>\n",
       "<clipPath id=\"clip1\">\n",
       "  <path d=\"M 9 3 L 25.328125 3 L 25.328125 16.863281 L 9 16.863281 Z M 9 3 \"/>\n",
       "</clipPath>\n",
       "<clipPath id=\"clip2\">\n",
       "  <path d=\"M 7 0 L 25.328125 0 L 25.328125 16.863281 L 7 16.863281 Z M 7 0 \"/>\n",
       "</clipPath>\n",
       "<clipPath id=\"clip3\">\n",
       "  <path d=\"M 9 1 L 25.328125 1 L 25.328125 16.863281 L 9 16.863281 Z M 9 1 \"/>\n",
       "</clipPath>\n",
       "<clipPath id=\"clip4\">\n",
       "  <path d=\"M 11 0 L 25.328125 0 L 25.328125 16.863281 L 11 16.863281 Z M 11 0 \"/>\n",
       "</clipPath>\n",
       "<clipPath id=\"clip5\">\n",
       "  <path d=\"M 11 1 L 25.328125 1 L 25.328125 16.863281 L 11 16.863281 Z M 11 1 \"/>\n",
       "</clipPath>\n",
       "<clipPath id=\"clip6\">\n",
       "  <path d=\"M 11 0 L 25.328125 0 L 25.328125 14 L 11 14 Z M 11 0 \"/>\n",
       "</clipPath>\n",
       "</defs>\n",
       "<g id=\"surface1\">\n",
       "<path style=\" stroke:none;fill-rule:nonzero;fill:rgb(0%,0%,0%);fill-opacity:1;\" d=\"M 20.621094 13.25 C 20.621094 12.523438 20.035156 11.9375 19.308594 11.9375 C 18.582031 11.9375 17.992188 12.523438 17.992188 13.25 C 17.992188 13.976562 18.582031 14.566406 19.308594 14.566406 C 20.035156 14.566406 20.621094 13.976562 20.621094 13.25 Z M 20.621094 13.25 \"/>\n",
       "<g clip-path=\"url(#clip1)\" clip-rule=\"nonzero\">\n",
       "<path style=\"fill:none;stroke-width:0.59776;stroke-linecap:butt;stroke-linejoin:miter;stroke:rgb(0%,0%,0%);stroke-opacity:1;stroke-miterlimit:10;\" d=\"M 1.314094 0.001 C 1.314094 0.727562 0.728156 1.3135 0.00159375 1.3135 C -0.724969 1.3135 -1.314813 0.727562 -1.314813 0.001 C -1.314813 -0.725563 -0.724969 -1.315406 0.00159375 -1.315406 C 0.728156 -1.315406 1.314094 -0.725563 1.314094 0.001 Z M 1.314094 0.001 \" transform=\"matrix(1,0,0,-1,19.307,13.251)\"/>\n",
       "</g>\n",
       "<path style=\" stroke:none;fill-rule:nonzero;fill:rgb(0%,0%,0%);fill-opacity:1;\" d=\"M 18.210938 8.433594 C 18.210938 7.707031 17.625 7.117188 16.898438 7.117188 C 16.171875 7.117188 15.582031 7.707031 15.582031 8.433594 C 15.582031 9.160156 16.171875 9.746094 16.898438 9.746094 C 17.625 9.746094 18.210938 9.160156 18.210938 8.433594 Z M 18.210938 8.433594 \"/>\n",
       "<g clip-path=\"url(#clip2)\" clip-rule=\"nonzero\">\n",
       "<path style=\"fill:none;stroke-width:0.59776;stroke-linecap:butt;stroke-linejoin:miter;stroke:rgb(0%,0%,0%);stroke-opacity:1;stroke-miterlimit:10;\" d=\"M -1.096063 4.817406 C -1.096063 5.543969 -1.682 6.133812 -2.408563 6.133812 C -3.135125 6.133812 -3.724969 5.543969 -3.724969 4.817406 C -3.724969 4.090844 -3.135125 3.504906 -2.408563 3.504906 C -1.682 3.504906 -1.096063 4.090844 -1.096063 4.817406 Z M -1.096063 4.817406 \" transform=\"matrix(1,0,0,-1,19.307,13.251)\"/>\n",
       "</g>\n",
       "<g clip-path=\"url(#clip3)\" clip-rule=\"nonzero\">\n",
       "<path style=\"fill:none;stroke-width:0.59776;stroke-linecap:butt;stroke-linejoin:miter;stroke:rgb(0%,0%,0%);stroke-opacity:1;stroke-miterlimit:10;\" d=\"M -0.627313 1.254906 L -1.783563 3.567406 \" transform=\"matrix(1,0,0,-1,19.307,13.251)\"/>\n",
       "</g>\n",
       "<path style=\" stroke:none;fill-rule:nonzero;fill:rgb(0%,0%,0%);fill-opacity:1;\" d=\"M 23.03125 8.433594 C 23.03125 7.707031 22.441406 7.117188 21.714844 7.117188 C 20.988281 7.117188 20.402344 7.707031 20.402344 8.433594 C 20.402344 9.160156 20.988281 9.746094 21.714844 9.746094 C 22.441406 9.746094 23.03125 9.160156 23.03125 8.433594 Z M 23.03125 8.433594 \"/>\n",
       "<g clip-path=\"url(#clip4)\" clip-rule=\"nonzero\">\n",
       "<path style=\"fill:none;stroke-width:0.59776;stroke-linecap:butt;stroke-linejoin:miter;stroke:rgb(0%,0%,0%);stroke-opacity:1;stroke-miterlimit:10;\" d=\"M 3.72425 4.817406 C 3.72425 5.543969 3.134406 6.133812 2.407844 6.133812 C 1.681281 6.133812 1.095344 5.543969 1.095344 4.817406 C 1.095344 4.090844 1.681281 3.504906 2.407844 3.504906 C 3.134406 3.504906 3.72425 4.090844 3.72425 4.817406 Z M 3.72425 4.817406 \" transform=\"matrix(1,0,0,-1,19.307,13.251)\"/>\n",
       "</g>\n",
       "<g clip-path=\"url(#clip5)\" clip-rule=\"nonzero\">\n",
       "<path style=\"fill:none;stroke-width:0.59776;stroke-linecap:butt;stroke-linejoin:miter;stroke:rgb(0%,0%,0%);stroke-opacity:1;stroke-miterlimit:10;\" d=\"M 0.626594 1.254906 L 1.782844 3.567406 \" transform=\"matrix(1,0,0,-1,19.307,13.251)\"/>\n",
       "</g>\n",
       "<path style=\" stroke:none;fill-rule:nonzero;fill:rgb(0%,0%,0%);fill-opacity:1;\" d=\"M 23.03125 3.613281 C 23.03125 2.886719 22.441406 2.296875 21.714844 2.296875 C 20.988281 2.296875 20.402344 2.886719 20.402344 3.613281 C 20.402344 4.339844 20.988281 4.929688 21.714844 4.929688 C 22.441406 4.929688 23.03125 4.339844 23.03125 3.613281 Z M 23.03125 3.613281 \"/>\n",
       "<g clip-path=\"url(#clip6)\" clip-rule=\"nonzero\">\n",
       "<path style=\"fill:none;stroke-width:0.59776;stroke-linecap:butt;stroke-linejoin:miter;stroke:rgb(0%,0%,0%);stroke-opacity:1;stroke-miterlimit:10;\" d=\"M 3.72425 9.637719 C 3.72425 10.364281 3.134406 10.954125 2.407844 10.954125 C 1.681281 10.954125 1.095344 10.364281 1.095344 9.637719 C 1.095344 8.911156 1.681281 8.321312 2.407844 8.321312 C 3.134406 8.321312 3.72425 8.911156 3.72425 9.637719 Z M 3.72425 9.637719 \" transform=\"matrix(1,0,0,-1,19.307,13.251)\"/>\n",
       "</g>\n",
       "<path style=\"fill:none;stroke-width:0.59776;stroke-linecap:butt;stroke-linejoin:miter;stroke:rgb(0%,0%,0%);stroke-opacity:1;stroke-miterlimit:10;\" d=\"M 2.407844 6.215844 L 2.407844 8.239281 \" transform=\"matrix(1,0,0,-1,19.307,13.251)\"/>\n",
       "</g>\n",
       "</svg>\n"
      ],
      "text/plain": [
       "UnorderedTree({UnorderedTree({UnorderedTree(): 1}): 1, UnorderedTree(): 1})"
      ]
     },
     "metadata": {},
     "output_type": "display_data"
    },
    {
     "name": "stdout",
     "output_type": "stream",
     "text": [
      "1/2\n"
     ]
    },
    {
     "data": {
      "image/svg+xml": [
       "<?xml version=\"1.0\" encoding=\"UTF-8\"?>\n",
       "<svg xmlns=\"http://www.w3.org/2000/svg\" xmlns:xlink=\"http://www.w3.org/1999/xlink\" width=\"20.511pt\" height=\"21.684pt\" viewBox=\"0 0 20.511 21.684\" version=\"1.1\">\n",
       "<defs>\n",
       "<clipPath id=\"clip1\">\n",
       "  <path d=\"M 7 8 L 20.511719 8 L 20.511719 21.683594 L 7 21.683594 Z M 7 8 \"/>\n",
       "</clipPath>\n",
       "<clipPath id=\"clip2\">\n",
       "  <path d=\"M 7 3 L 20.511719 3 L 20.511719 21.683594 L 7 21.683594 Z M 7 3 \"/>\n",
       "</clipPath>\n",
       "<clipPath id=\"clip3\">\n",
       "  <path d=\"M 7 0 L 20.511719 0 L 20.511719 19 L 7 19 Z M 7 0 \"/>\n",
       "</clipPath>\n",
       "<clipPath id=\"clip4\">\n",
       "  <path d=\"M 7 0 L 20.511719 0 L 20.511719 14 L 7 14 Z M 7 0 \"/>\n",
       "</clipPath>\n",
       "</defs>\n",
       "<g id=\"surface1\">\n",
       "<path style=\" stroke:none;fill-rule:nonzero;fill:rgb(0%,0%,0%);fill-opacity:1;\" d=\"M 18.210938 18.070312 C 18.210938 17.34375 17.625 16.753906 16.898438 16.753906 C 16.171875 16.753906 15.582031 17.34375 15.582031 18.070312 C 15.582031 18.796875 16.171875 19.386719 16.898438 19.386719 C 17.625 19.386719 18.210938 18.796875 18.210938 18.070312 Z M 18.210938 18.070312 \"/>\n",
       "<g clip-path=\"url(#clip1)\" clip-rule=\"nonzero\">\n",
       "<path style=\"fill:none;stroke-width:0.59776;stroke-linecap:butt;stroke-linejoin:miter;stroke:rgb(0%,0%,0%);stroke-opacity:1;stroke-miterlimit:10;\" d=\"M 1.313937 -0.0003125 C 1.313937 0.72625 0.728 1.316094 0.0014375 1.316094 C -0.725125 1.316094 -1.314969 0.72625 -1.314969 -0.0003125 C -1.314969 -0.726875 -0.725125 -1.316719 0.0014375 -1.316719 C 0.728 -1.316719 1.313937 -0.726875 1.313937 -0.0003125 Z M 1.313937 -0.0003125 \" transform=\"matrix(1,0,0,-1,16.897,18.07)\"/>\n",
       "</g>\n",
       "<path style=\" stroke:none;fill-rule:nonzero;fill:rgb(0%,0%,0%);fill-opacity:1;\" d=\"M 18.210938 13.25 C 18.210938 12.523438 17.625 11.9375 16.898438 11.9375 C 16.171875 11.9375 15.582031 12.523438 15.582031 13.25 C 15.582031 13.976562 16.171875 14.566406 16.898438 14.566406 C 17.625 14.566406 18.210938 13.976562 18.210938 13.25 Z M 18.210938 13.25 \"/>\n",
       "<g clip-path=\"url(#clip2)\" clip-rule=\"nonzero\">\n",
       "<path style=\"fill:none;stroke-width:0.59776;stroke-linecap:butt;stroke-linejoin:miter;stroke:rgb(0%,0%,0%);stroke-opacity:1;stroke-miterlimit:10;\" d=\"M 1.313937 4.82 C 1.313937 5.546563 0.728 6.1325 0.0014375 6.1325 C -0.725125 6.1325 -1.314969 5.546563 -1.314969 4.82 C -1.314969 4.093438 -0.725125 3.503594 0.0014375 3.503594 C 0.728 3.503594 1.313937 4.093438 1.313937 4.82 Z M 1.313937 4.82 \" transform=\"matrix(1,0,0,-1,16.897,18.07)\"/>\n",
       "</g>\n",
       "<path style=\"fill:none;stroke-width:0.59776;stroke-linecap:butt;stroke-linejoin:miter;stroke:rgb(0%,0%,0%);stroke-opacity:1;stroke-miterlimit:10;\" d=\"M 0.0014375 1.398125 L 0.0014375 3.421563 \" transform=\"matrix(1,0,0,-1,16.897,18.07)\"/>\n",
       "<path style=\" stroke:none;fill-rule:nonzero;fill:rgb(0%,0%,0%);fill-opacity:1;\" d=\"M 18.210938 8.433594 C 18.210938 7.707031 17.625 7.117188 16.898438 7.117188 C 16.171875 7.117188 15.582031 7.707031 15.582031 8.433594 C 15.582031 9.160156 16.171875 9.746094 16.898438 9.746094 C 17.625 9.746094 18.210938 9.160156 18.210938 8.433594 Z M 18.210938 8.433594 \"/>\n",
       "<g clip-path=\"url(#clip3)\" clip-rule=\"nonzero\">\n",
       "<path style=\"fill:none;stroke-width:0.59776;stroke-linecap:butt;stroke-linejoin:miter;stroke:rgb(0%,0%,0%);stroke-opacity:1;stroke-miterlimit:10;\" d=\"M 1.313937 9.636406 C 1.313937 10.362969 0.728 10.952813 0.0014375 10.952813 C -0.725125 10.952813 -1.314969 10.362969 -1.314969 9.636406 C -1.314969 8.909844 -0.725125 8.323906 0.0014375 8.323906 C 0.728 8.323906 1.313937 8.909844 1.313937 9.636406 Z M 1.313937 9.636406 \" transform=\"matrix(1,0,0,-1,16.897,18.07)\"/>\n",
       "</g>\n",
       "<path style=\"fill:none;stroke-width:0.59776;stroke-linecap:butt;stroke-linejoin:miter;stroke:rgb(0%,0%,0%);stroke-opacity:1;stroke-miterlimit:10;\" d=\"M 0.0014375 6.218438 L 0.0014375 8.237969 \" transform=\"matrix(1,0,0,-1,16.897,18.07)\"/>\n",
       "<path style=\" stroke:none;fill-rule:nonzero;fill:rgb(0%,0%,0%);fill-opacity:1;\" d=\"M 18.210938 3.613281 C 18.210938 2.886719 17.625 2.296875 16.898438 2.296875 C 16.171875 2.296875 15.582031 2.886719 15.582031 3.613281 C 15.582031 4.339844 16.171875 4.929688 16.898438 4.929688 C 17.625 4.929688 18.210938 4.339844 18.210938 3.613281 Z M 18.210938 3.613281 \"/>\n",
       "<g clip-path=\"url(#clip4)\" clip-rule=\"nonzero\">\n",
       "<path style=\"fill:none;stroke-width:0.59776;stroke-linecap:butt;stroke-linejoin:miter;stroke:rgb(0%,0%,0%);stroke-opacity:1;stroke-miterlimit:10;\" d=\"M 1.313937 14.456719 C 1.313937 15.183281 0.728 15.773125 0.0014375 15.773125 C -0.725125 15.773125 -1.314969 15.183281 -1.314969 14.456719 C -1.314969 13.730156 -0.725125 13.140313 0.0014375 13.140313 C 0.728 13.140313 1.313937 13.730156 1.313937 14.456719 Z M 1.313937 14.456719 \" transform=\"matrix(1,0,0,-1,16.897,18.07)\"/>\n",
       "</g>\n",
       "<path style=\"fill:none;stroke-width:0.59776;stroke-linecap:butt;stroke-linejoin:miter;stroke:rgb(0%,0%,0%);stroke-opacity:1;stroke-miterlimit:10;\" d=\"M 0.0014375 11.034844 L 0.0014375 13.058281 \" transform=\"matrix(1,0,0,-1,16.897,18.07)\"/>\n",
       "</g>\n",
       "</svg>\n"
      ],
      "text/plain": [
       "UnorderedTree({UnorderedTree({UnorderedTree({UnorderedTree(): 1}): 1}): 1})"
      ]
     },
     "metadata": {},
     "output_type": "display_data"
    },
    {
     "name": "stdout",
     "output_type": "stream",
     "text": [
      "1/6\n"
     ]
    },
    {
     "data": {
      "image/svg+xml": [
       "<?xml version=\"1.0\" encoding=\"UTF-8\"?>\n",
       "<svg xmlns=\"http://www.w3.org/2000/svg\" xmlns:xlink=\"http://www.w3.org/1999/xlink\" width=\"25.33pt\" height=\"16.865pt\" viewBox=\"0 0 25.33 16.865\" version=\"1.1\">\n",
       "<defs>\n",
       "<clipPath id=\"clip1\">\n",
       "  <path d=\"M 9 3 L 25.328125 3 L 25.328125 16.863281 L 9 16.863281 Z M 9 3 \"/>\n",
       "</clipPath>\n",
       "<clipPath id=\"clip2\">\n",
       "  <path d=\"M 9 0 L 25.328125 0 L 25.328125 16.863281 L 9 16.863281 Z M 9 0 \"/>\n",
       "</clipPath>\n",
       "<clipPath id=\"clip3\">\n",
       "  <path d=\"M 7 0 L 25.328125 0 L 25.328125 14 L 7 14 Z M 7 0 \"/>\n",
       "</clipPath>\n",
       "<clipPath id=\"clip4\">\n",
       "  <path d=\"M 9 0 L 25.328125 0 L 25.328125 16 L 9 16 Z M 9 0 \"/>\n",
       "</clipPath>\n",
       "<clipPath id=\"clip5\">\n",
       "  <path d=\"M 11 0 L 25.328125 0 L 25.328125 14 L 11 14 Z M 11 0 \"/>\n",
       "</clipPath>\n",
       "<clipPath id=\"clip6\">\n",
       "  <path d=\"M 11 0 L 25.328125 0 L 25.328125 16 L 11 16 Z M 11 0 \"/>\n",
       "</clipPath>\n",
       "</defs>\n",
       "<g id=\"surface1\">\n",
       "<path style=\" stroke:none;fill-rule:nonzero;fill:rgb(0%,0%,0%);fill-opacity:1;\" d=\"M 20.621094 13.25 C 20.621094 12.523438 20.035156 11.9375 19.308594 11.9375 C 18.582031 11.9375 17.992188 12.523438 17.992188 13.25 C 17.992188 13.976562 18.582031 14.566406 19.308594 14.566406 C 20.035156 14.566406 20.621094 13.976562 20.621094 13.25 Z M 20.621094 13.25 \"/>\n",
       "<g clip-path=\"url(#clip1)\" clip-rule=\"nonzero\">\n",
       "<path style=\"fill:none;stroke-width:0.59776;stroke-linecap:butt;stroke-linejoin:miter;stroke:rgb(0%,0%,0%);stroke-opacity:1;stroke-miterlimit:10;\" d=\"M 1.314094 0.001 C 1.314094 0.727562 0.728156 1.3135 0.00159375 1.3135 C -0.724969 1.3135 -1.314813 0.727562 -1.314813 0.001 C -1.314813 -0.725563 -0.724969 -1.315406 0.00159375 -1.315406 C 0.728156 -1.315406 1.314094 -0.725563 1.314094 0.001 Z M 1.314094 0.001 \" transform=\"matrix(1,0,0,-1,19.307,13.251)\"/>\n",
       "</g>\n",
       "<path style=\" stroke:none;fill-rule:nonzero;fill:rgb(0%,0%,0%);fill-opacity:1;\" d=\"M 20.621094 8.433594 C 20.621094 7.707031 20.035156 7.117188 19.308594 7.117188 C 18.582031 7.117188 17.992188 7.707031 17.992188 8.433594 C 17.992188 9.160156 18.582031 9.746094 19.308594 9.746094 C 20.035156 9.746094 20.621094 9.160156 20.621094 8.433594 Z M 20.621094 8.433594 \"/>\n",
       "<g clip-path=\"url(#clip2)\" clip-rule=\"nonzero\">\n",
       "<path style=\"fill:none;stroke-width:0.59776;stroke-linecap:butt;stroke-linejoin:miter;stroke:rgb(0%,0%,0%);stroke-opacity:1;stroke-miterlimit:10;\" d=\"M 1.314094 4.817406 C 1.314094 5.543969 0.728156 6.133812 0.00159375 6.133812 C -0.724969 6.133812 -1.314813 5.543969 -1.314813 4.817406 C -1.314813 4.090844 -0.724969 3.504906 0.00159375 3.504906 C 0.728156 3.504906 1.314094 4.090844 1.314094 4.817406 Z M 1.314094 4.817406 \" transform=\"matrix(1,0,0,-1,19.307,13.251)\"/>\n",
       "</g>\n",
       "<path style=\"fill:none;stroke-width:0.59776;stroke-linecap:butt;stroke-linejoin:miter;stroke:rgb(0%,0%,0%);stroke-opacity:1;stroke-miterlimit:10;\" d=\"M 0.00159375 1.399437 L 0.00159375 3.418969 \" transform=\"matrix(1,0,0,-1,19.307,13.251)\"/>\n",
       "<path style=\" stroke:none;fill-rule:nonzero;fill:rgb(0%,0%,0%);fill-opacity:1;\" d=\"M 18.210938 3.613281 C 18.210938 2.886719 17.625 2.296875 16.898438 2.296875 C 16.171875 2.296875 15.582031 2.886719 15.582031 3.613281 C 15.582031 4.339844 16.171875 4.929688 16.898438 4.929688 C 17.625 4.929688 18.210938 4.339844 18.210938 3.613281 Z M 18.210938 3.613281 \"/>\n",
       "<g clip-path=\"url(#clip3)\" clip-rule=\"nonzero\">\n",
       "<path style=\"fill:none;stroke-width:0.59776;stroke-linecap:butt;stroke-linejoin:miter;stroke:rgb(0%,0%,0%);stroke-opacity:1;stroke-miterlimit:10;\" d=\"M -1.096063 9.637719 C -1.096063 10.364281 -1.682 10.954125 -2.408563 10.954125 C -3.135125 10.954125 -3.724969 10.364281 -3.724969 9.637719 C -3.724969 8.911156 -3.135125 8.321312 -2.408563 8.321312 C -1.682 8.321312 -1.096063 8.911156 -1.096063 9.637719 Z M -1.096063 9.637719 \" transform=\"matrix(1,0,0,-1,19.307,13.251)\"/>\n",
       "</g>\n",
       "<g clip-path=\"url(#clip4)\" clip-rule=\"nonzero\">\n",
       "<path style=\"fill:none;stroke-width:0.59776;stroke-linecap:butt;stroke-linejoin:miter;stroke:rgb(0%,0%,0%);stroke-opacity:1;stroke-miterlimit:10;\" d=\"M -0.627313 6.075219 L -1.783563 8.387719 \" transform=\"matrix(1,0,0,-1,19.307,13.251)\"/>\n",
       "</g>\n",
       "<path style=\" stroke:none;fill-rule:nonzero;fill:rgb(0%,0%,0%);fill-opacity:1;\" d=\"M 23.03125 3.613281 C 23.03125 2.886719 22.441406 2.296875 21.714844 2.296875 C 20.988281 2.296875 20.402344 2.886719 20.402344 3.613281 C 20.402344 4.339844 20.988281 4.929688 21.714844 4.929688 C 22.441406 4.929688 23.03125 4.339844 23.03125 3.613281 Z M 23.03125 3.613281 \"/>\n",
       "<g clip-path=\"url(#clip5)\" clip-rule=\"nonzero\">\n",
       "<path style=\"fill:none;stroke-width:0.59776;stroke-linecap:butt;stroke-linejoin:miter;stroke:rgb(0%,0%,0%);stroke-opacity:1;stroke-miterlimit:10;\" d=\"M 3.72425 9.637719 C 3.72425 10.364281 3.134406 10.954125 2.407844 10.954125 C 1.681281 10.954125 1.095344 10.364281 1.095344 9.637719 C 1.095344 8.911156 1.681281 8.321312 2.407844 8.321312 C 3.134406 8.321312 3.72425 8.911156 3.72425 9.637719 Z M 3.72425 9.637719 \" transform=\"matrix(1,0,0,-1,19.307,13.251)\"/>\n",
       "</g>\n",
       "<g clip-path=\"url(#clip6)\" clip-rule=\"nonzero\">\n",
       "<path style=\"fill:none;stroke-width:0.59776;stroke-linecap:butt;stroke-linejoin:miter;stroke:rgb(0%,0%,0%);stroke-opacity:1;stroke-miterlimit:10;\" d=\"M 0.626594 6.075219 L 1.782844 8.387719 \" transform=\"matrix(1,0,0,-1,19.307,13.251)\"/>\n",
       "</g>\n",
       "</g>\n",
       "</svg>\n"
      ],
      "text/plain": [
       "UnorderedTree({UnorderedTree({UnorderedTree(): 2}): 1})"
      ]
     },
     "metadata": {},
     "output_type": "display_data"
    },
    {
     "name": "stdout",
     "output_type": "stream",
     "text": [
      "1/3\n"
     ]
    },
    {
     "data": {
      "image/svg+xml": [
       "<?xml version=\"1.0\" encoding=\"UTF-8\"?>\n",
       "<svg xmlns=\"http://www.w3.org/2000/svg\" xmlns:xlink=\"http://www.w3.org/1999/xlink\" width=\"30.149pt\" height=\"12.046pt\" viewBox=\"0 0 30.149 12.046\" version=\"1.1\">\n",
       "<defs>\n",
       "<clipPath id=\"clip1\">\n",
       "  <path d=\"M 11 0 L 30.148438 0 L 30.148438 12.046875 L 11 12.046875 Z M 11 0 \"/>\n",
       "</clipPath>\n",
       "<clipPath id=\"clip2\">\n",
       "  <path d=\"M 7 0 L 27 0 L 27 12.046875 L 7 12.046875 Z M 7 0 \"/>\n",
       "</clipPath>\n",
       "<clipPath id=\"clip3\">\n",
       "  <path d=\"M 9 0 L 30 0 L 30 12.046875 L 9 12.046875 Z M 9 0 \"/>\n",
       "</clipPath>\n",
       "<clipPath id=\"clip4\">\n",
       "  <path d=\"M 11 0 L 30.148438 0 L 30.148438 12.046875 L 11 12.046875 Z M 11 0 \"/>\n",
       "</clipPath>\n",
       "<clipPath id=\"clip5\">\n",
       "  <path d=\"M 16 0 L 30.148438 0 L 30.148438 12.046875 L 16 12.046875 Z M 16 0 \"/>\n",
       "</clipPath>\n",
       "<clipPath id=\"clip6\">\n",
       "  <path d=\"M 14 0 L 30.148438 0 L 30.148438 12.046875 L 14 12.046875 Z M 14 0 \"/>\n",
       "</clipPath>\n",
       "</defs>\n",
       "<g id=\"surface1\">\n",
       "<path style=\" stroke:none;fill-rule:nonzero;fill:rgb(0%,0%,0%);fill-opacity:1;\" d=\"M 23.03125 8.433594 C 23.03125 7.707031 22.441406 7.117188 21.714844 7.117188 C 20.988281 7.117188 20.402344 7.707031 20.402344 8.433594 C 20.402344 9.160156 20.988281 9.746094 21.714844 9.746094 C 22.441406 9.746094 23.03125 9.160156 23.03125 8.433594 Z M 23.03125 8.433594 \"/>\n",
       "<g clip-path=\"url(#clip1)\" clip-rule=\"nonzero\">\n",
       "<path style=\"fill:none;stroke-width:0.59776;stroke-linecap:butt;stroke-linejoin:miter;stroke:rgb(0%,0%,0%);stroke-opacity:1;stroke-miterlimit:10;\" d=\"M 1.31525 -0.00159375 C 1.31525 0.724969 0.725406 1.314812 -0.00115625 1.314812 C -0.727719 1.314812 -1.313656 0.724969 -1.313656 -0.00159375 C -1.313656 -0.728156 -0.727719 -1.314094 -0.00115625 -1.314094 C 0.725406 -1.314094 1.31525 -0.728156 1.31525 -0.00159375 Z M 1.31525 -0.00159375 \" transform=\"matrix(1,0,0,-1,21.716,8.432)\"/>\n",
       "</g>\n",
       "<path style=\" stroke:none;fill-rule:nonzero;fill:rgb(0%,0%,0%);fill-opacity:1;\" d=\"M 18.210938 3.613281 C 18.210938 2.886719 17.625 2.296875 16.898438 2.296875 C 16.171875 2.296875 15.582031 2.886719 15.582031 3.613281 C 15.582031 4.339844 16.171875 4.929688 16.898438 4.929688 C 17.625 4.929688 18.210938 4.339844 18.210938 3.613281 Z M 18.210938 3.613281 \"/>\n",
       "<g clip-path=\"url(#clip2)\" clip-rule=\"nonzero\">\n",
       "<path style=\"fill:none;stroke-width:0.59776;stroke-linecap:butt;stroke-linejoin:miter;stroke:rgb(0%,0%,0%);stroke-opacity:1;stroke-miterlimit:10;\" d=\"M -3.505063 4.818719 C -3.505063 5.545281 -4.091 6.135125 -4.817563 6.135125 C -5.544125 6.135125 -6.133969 5.545281 -6.133969 4.818719 C -6.133969 4.092156 -5.544125 3.502312 -4.817563 3.502312 C -4.091 3.502312 -3.505063 4.092156 -3.505063 4.818719 Z M -3.505063 4.818719 \" transform=\"matrix(1,0,0,-1,21.716,8.432)\"/>\n",
       "</g>\n",
       "<g clip-path=\"url(#clip3)\" clip-rule=\"nonzero\">\n",
       "<path style=\"fill:none;stroke-width:0.59776;stroke-linecap:butt;stroke-linejoin:miter;stroke:rgb(0%,0%,0%);stroke-opacity:1;stroke-miterlimit:10;\" d=\"M -0.993344 0.9945 L -3.829281 3.830437 \" transform=\"matrix(1,0,0,-1,21.716,8.432)\"/>\n",
       "</g>\n",
       "<path style=\" stroke:none;fill-rule:nonzero;fill:rgb(0%,0%,0%);fill-opacity:1;\" d=\"M 23.03125 3.613281 C 23.03125 2.886719 22.441406 2.296875 21.714844 2.296875 C 20.988281 2.296875 20.402344 2.886719 20.402344 3.613281 C 20.402344 4.339844 20.988281 4.929688 21.714844 4.929688 C 22.441406 4.929688 23.03125 4.339844 23.03125 3.613281 Z M 23.03125 3.613281 \"/>\n",
       "<g clip-path=\"url(#clip4)\" clip-rule=\"nonzero\">\n",
       "<path style=\"fill:none;stroke-width:0.59776;stroke-linecap:butt;stroke-linejoin:miter;stroke:rgb(0%,0%,0%);stroke-opacity:1;stroke-miterlimit:10;\" d=\"M 1.31525 4.818719 C 1.31525 5.545281 0.725406 6.135125 -0.00115625 6.135125 C -0.727719 6.135125 -1.313656 5.545281 -1.313656 4.818719 C -1.313656 4.092156 -0.727719 3.502312 -0.00115625 3.502312 C 0.725406 3.502312 1.31525 4.092156 1.31525 4.818719 Z M 1.31525 4.818719 \" transform=\"matrix(1,0,0,-1,21.716,8.432)\"/>\n",
       "</g>\n",
       "<path style=\"fill:none;stroke-width:0.59776;stroke-linecap:butt;stroke-linejoin:miter;stroke:rgb(0%,0%,0%);stroke-opacity:1;stroke-miterlimit:10;\" d=\"M -0.00115625 1.396844 L -0.00115625 3.420281 \" transform=\"matrix(1,0,0,-1,21.716,8.432)\"/>\n",
       "<path style=\" stroke:none;fill-rule:nonzero;fill:rgb(0%,0%,0%);fill-opacity:1;\" d=\"M 27.851562 3.613281 C 27.851562 2.886719 27.261719 2.296875 26.535156 2.296875 C 25.808594 2.296875 25.21875 2.886719 25.21875 3.613281 C 25.21875 4.339844 25.808594 4.929688 26.535156 4.929688 C 27.261719 4.929688 27.851562 4.339844 27.851562 3.613281 Z M 27.851562 3.613281 \"/>\n",
       "<g clip-path=\"url(#clip5)\" clip-rule=\"nonzero\">\n",
       "<path style=\"fill:none;stroke-width:0.59776;stroke-linecap:butt;stroke-linejoin:miter;stroke:rgb(0%,0%,0%);stroke-opacity:1;stroke-miterlimit:10;\" d=\"M 6.135562 4.818719 C 6.135562 5.545281 5.545719 6.135125 4.819156 6.135125 C 4.092594 6.135125 3.50275 5.545281 3.50275 4.818719 C 3.50275 4.092156 4.092594 3.502312 4.819156 3.502312 C 5.545719 3.502312 6.135562 4.092156 6.135562 4.818719 Z M 6.135562 4.818719 \" transform=\"matrix(1,0,0,-1,21.716,8.432)\"/>\n",
       "</g>\n",
       "<g clip-path=\"url(#clip6)\" clip-rule=\"nonzero\">\n",
       "<path style=\"fill:none;stroke-width:0.59776;stroke-linecap:butt;stroke-linejoin:miter;stroke:rgb(0%,0%,0%);stroke-opacity:1;stroke-miterlimit:10;\" d=\"M 0.994937 0.9945 L 3.830875 3.830437 \" transform=\"matrix(1,0,0,-1,21.716,8.432)\"/>\n",
       "</g>\n",
       "</g>\n",
       "</svg>\n"
      ],
      "text/plain": [
       "UnorderedTree({UnorderedTree(): 3})"
      ]
     },
     "metadata": {},
     "output_type": "display_data"
    },
    {
     "name": "stdout",
     "output_type": "stream",
     "text": [
      "1\n"
     ]
    },
    {
     "data": {
      "image/svg+xml": [
       "<?xml version=\"1.0\" encoding=\"UTF-8\"?>\n",
       "<svg xmlns=\"http://www.w3.org/2000/svg\" xmlns:xlink=\"http://www.w3.org/1999/xlink\" width=\"25.33pt\" height=\"21.684pt\" viewBox=\"0 0 25.33 21.684\" version=\"1.1\">\n",
       "<defs>\n",
       "<clipPath id=\"clip1\">\n",
       "  <path d=\"M 9 8 L 25.328125 8 L 25.328125 21.683594 L 9 21.683594 Z M 9 8 \"/>\n",
       "</clipPath>\n",
       "<clipPath id=\"clip2\">\n",
       "  <path d=\"M 7 3 L 25.328125 3 L 25.328125 21.683594 L 7 21.683594 Z M 7 3 \"/>\n",
       "</clipPath>\n",
       "<clipPath id=\"clip3\">\n",
       "  <path d=\"M 9 6 L 25.328125 6 L 25.328125 21.683594 L 9 21.683594 Z M 9 6 \"/>\n",
       "</clipPath>\n",
       "<clipPath id=\"clip4\">\n",
       "  <path d=\"M 11 3 L 25.328125 3 L 25.328125 21.683594 L 11 21.683594 Z M 11 3 \"/>\n",
       "</clipPath>\n",
       "<clipPath id=\"clip5\">\n",
       "  <path d=\"M 11 6 L 25.328125 6 L 25.328125 21.683594 L 11 21.683594 Z M 11 6 \"/>\n",
       "</clipPath>\n",
       "<clipPath id=\"clip6\">\n",
       "  <path d=\"M 11 0 L 25.328125 0 L 25.328125 19 L 11 19 Z M 11 0 \"/>\n",
       "</clipPath>\n",
       "<clipPath id=\"clip7\">\n",
       "  <path d=\"M 11 0 L 25.328125 0 L 25.328125 14 L 11 14 Z M 11 0 \"/>\n",
       "</clipPath>\n",
       "</defs>\n",
       "<g id=\"surface1\">\n",
       "<path style=\" stroke:none;fill-rule:nonzero;fill:rgb(0%,0%,0%);fill-opacity:1;\" d=\"M 20.621094 18.070312 C 20.621094 17.34375 20.035156 16.753906 19.308594 16.753906 C 18.582031 16.753906 17.992188 17.34375 17.992188 18.070312 C 17.992188 18.796875 18.582031 19.386719 19.308594 19.386719 C 20.035156 19.386719 20.621094 18.796875 20.621094 18.070312 Z M 20.621094 18.070312 \"/>\n",
       "<g clip-path=\"url(#clip1)\" clip-rule=\"nonzero\">\n",
       "<path style=\"fill:none;stroke-width:0.59776;stroke-linecap:butt;stroke-linejoin:miter;stroke:rgb(0%,0%,0%);stroke-opacity:1;stroke-miterlimit:10;\" d=\"M 1.314094 -0.0003125 C 1.314094 0.72625 0.728156 1.316094 0.00159375 1.316094 C -0.724969 1.316094 -1.314813 0.72625 -1.314813 -0.0003125 C -1.314813 -0.726875 -0.724969 -1.316719 0.00159375 -1.316719 C 0.728156 -1.316719 1.314094 -0.726875 1.314094 -0.0003125 Z M 1.314094 -0.0003125 \" transform=\"matrix(1,0,0,-1,19.307,18.07)\"/>\n",
       "</g>\n",
       "<path style=\" stroke:none;fill-rule:nonzero;fill:rgb(0%,0%,0%);fill-opacity:1;\" d=\"M 18.210938 13.25 C 18.210938 12.523438 17.625 11.9375 16.898438 11.9375 C 16.171875 11.9375 15.582031 12.523438 15.582031 13.25 C 15.582031 13.976562 16.171875 14.566406 16.898438 14.566406 C 17.625 14.566406 18.210938 13.976562 18.210938 13.25 Z M 18.210938 13.25 \"/>\n",
       "<g clip-path=\"url(#clip2)\" clip-rule=\"nonzero\">\n",
       "<path style=\"fill:none;stroke-width:0.59776;stroke-linecap:butt;stroke-linejoin:miter;stroke:rgb(0%,0%,0%);stroke-opacity:1;stroke-miterlimit:10;\" d=\"M -1.096063 4.82 C -1.096063 5.546563 -1.682 6.1325 -2.408563 6.1325 C -3.135125 6.1325 -3.724969 5.546563 -3.724969 4.82 C -3.724969 4.093438 -3.135125 3.503594 -2.408563 3.503594 C -1.682 3.503594 -1.096063 4.093438 -1.096063 4.82 Z M -1.096063 4.82 \" transform=\"matrix(1,0,0,-1,19.307,18.07)\"/>\n",
       "</g>\n",
       "<g clip-path=\"url(#clip3)\" clip-rule=\"nonzero\">\n",
       "<path style=\"fill:none;stroke-width:0.59776;stroke-linecap:butt;stroke-linejoin:miter;stroke:rgb(0%,0%,0%);stroke-opacity:1;stroke-miterlimit:10;\" d=\"M -0.627313 1.2575 L -1.783563 3.566094 \" transform=\"matrix(1,0,0,-1,19.307,18.07)\"/>\n",
       "</g>\n",
       "<path style=\" stroke:none;fill-rule:nonzero;fill:rgb(0%,0%,0%);fill-opacity:1;\" d=\"M 23.03125 13.25 C 23.03125 12.523438 22.441406 11.9375 21.714844 11.9375 C 20.988281 11.9375 20.402344 12.523438 20.402344 13.25 C 20.402344 13.976562 20.988281 14.566406 21.714844 14.566406 C 22.441406 14.566406 23.03125 13.976562 23.03125 13.25 Z M 23.03125 13.25 \"/>\n",
       "<g clip-path=\"url(#clip4)\" clip-rule=\"nonzero\">\n",
       "<path style=\"fill:none;stroke-width:0.59776;stroke-linecap:butt;stroke-linejoin:miter;stroke:rgb(0%,0%,0%);stroke-opacity:1;stroke-miterlimit:10;\" d=\"M 3.72425 4.82 C 3.72425 5.546563 3.134406 6.1325 2.407844 6.1325 C 1.681281 6.1325 1.095344 5.546563 1.095344 4.82 C 1.095344 4.093438 1.681281 3.503594 2.407844 3.503594 C 3.134406 3.503594 3.72425 4.093438 3.72425 4.82 Z M 3.72425 4.82 \" transform=\"matrix(1,0,0,-1,19.307,18.07)\"/>\n",
       "</g>\n",
       "<g clip-path=\"url(#clip5)\" clip-rule=\"nonzero\">\n",
       "<path style=\"fill:none;stroke-width:0.59776;stroke-linecap:butt;stroke-linejoin:miter;stroke:rgb(0%,0%,0%);stroke-opacity:1;stroke-miterlimit:10;\" d=\"M 0.626594 1.2575 L 1.782844 3.566094 \" transform=\"matrix(1,0,0,-1,19.307,18.07)\"/>\n",
       "</g>\n",
       "<path style=\" stroke:none;fill-rule:nonzero;fill:rgb(0%,0%,0%);fill-opacity:1;\" d=\"M 23.03125 8.433594 C 23.03125 7.707031 22.441406 7.117188 21.714844 7.117188 C 20.988281 7.117188 20.402344 7.707031 20.402344 8.433594 C 20.402344 9.160156 20.988281 9.746094 21.714844 9.746094 C 22.441406 9.746094 23.03125 9.160156 23.03125 8.433594 Z M 23.03125 8.433594 \"/>\n",
       "<g clip-path=\"url(#clip6)\" clip-rule=\"nonzero\">\n",
       "<path style=\"fill:none;stroke-width:0.59776;stroke-linecap:butt;stroke-linejoin:miter;stroke:rgb(0%,0%,0%);stroke-opacity:1;stroke-miterlimit:10;\" d=\"M 3.72425 9.636406 C 3.72425 10.362969 3.134406 10.952813 2.407844 10.952813 C 1.681281 10.952813 1.095344 10.362969 1.095344 9.636406 C 1.095344 8.909844 1.681281 8.323906 2.407844 8.323906 C 3.134406 8.323906 3.72425 8.909844 3.72425 9.636406 Z M 3.72425 9.636406 \" transform=\"matrix(1,0,0,-1,19.307,18.07)\"/>\n",
       "</g>\n",
       "<path style=\"fill:none;stroke-width:0.59776;stroke-linecap:butt;stroke-linejoin:miter;stroke:rgb(0%,0%,0%);stroke-opacity:1;stroke-miterlimit:10;\" d=\"M 2.407844 6.218438 L 2.407844 8.237969 \" transform=\"matrix(1,0,0,-1,19.307,18.07)\"/>\n",
       "<path style=\" stroke:none;fill-rule:nonzero;fill:rgb(0%,0%,0%);fill-opacity:1;\" d=\"M 23.03125 3.613281 C 23.03125 2.886719 22.441406 2.296875 21.714844 2.296875 C 20.988281 2.296875 20.402344 2.886719 20.402344 3.613281 C 20.402344 4.339844 20.988281 4.929688 21.714844 4.929688 C 22.441406 4.929688 23.03125 4.339844 23.03125 3.613281 Z M 23.03125 3.613281 \"/>\n",
       "<g clip-path=\"url(#clip7)\" clip-rule=\"nonzero\">\n",
       "<path style=\"fill:none;stroke-width:0.59776;stroke-linecap:butt;stroke-linejoin:miter;stroke:rgb(0%,0%,0%);stroke-opacity:1;stroke-miterlimit:10;\" d=\"M 3.72425 14.456719 C 3.72425 15.183281 3.134406 15.773125 2.407844 15.773125 C 1.681281 15.773125 1.095344 15.183281 1.095344 14.456719 C 1.095344 13.730156 1.681281 13.140313 2.407844 13.140313 C 3.134406 13.140313 3.72425 13.730156 3.72425 14.456719 Z M 3.72425 14.456719 \" transform=\"matrix(1,0,0,-1,19.307,18.07)\"/>\n",
       "</g>\n",
       "<path style=\"fill:none;stroke-width:0.59776;stroke-linecap:butt;stroke-linejoin:miter;stroke:rgb(0%,0%,0%);stroke-opacity:1;stroke-miterlimit:10;\" d=\"M 2.407844 11.034844 L 2.407844 13.058281 \" transform=\"matrix(1,0,0,-1,19.307,18.07)\"/>\n",
       "</g>\n",
       "</svg>\n"
      ],
      "text/plain": [
       "UnorderedTree({UnorderedTree(): 1, UnorderedTree({UnorderedTree({UnorderedTree(): 1}): 1}): 1})"
      ]
     },
     "metadata": {},
     "output_type": "display_data"
    },
    {
     "name": "stdout",
     "output_type": "stream",
     "text": [
      "1/6\n"
     ]
    },
    {
     "data": {
      "image/svg+xml": [
       "<?xml version=\"1.0\" encoding=\"UTF-8\"?>\n",
       "<svg xmlns=\"http://www.w3.org/2000/svg\" xmlns:xlink=\"http://www.w3.org/1999/xlink\" width=\"25.33pt\" height=\"21.684pt\" viewBox=\"0 0 25.33 21.684\" version=\"1.1\">\n",
       "<defs>\n",
       "<clipPath id=\"clip1\">\n",
       "  <path d=\"M 9 8 L 25.328125 8 L 25.328125 21.683594 L 9 21.683594 Z M 9 8 \"/>\n",
       "</clipPath>\n",
       "<clipPath id=\"clip2\">\n",
       "  <path d=\"M 9 3 L 25.328125 3 L 25.328125 21.683594 L 9 21.683594 Z M 9 3 \"/>\n",
       "</clipPath>\n",
       "<clipPath id=\"clip3\">\n",
       "  <path d=\"M 7 0 L 25.328125 0 L 25.328125 19 L 7 19 Z M 7 0 \"/>\n",
       "</clipPath>\n",
       "<clipPath id=\"clip4\">\n",
       "  <path d=\"M 9 1 L 25.328125 1 L 25.328125 21 L 9 21 Z M 9 1 \"/>\n",
       "</clipPath>\n",
       "<clipPath id=\"clip5\">\n",
       "  <path d=\"M 11 0 L 25.328125 0 L 25.328125 19 L 11 19 Z M 11 0 \"/>\n",
       "</clipPath>\n",
       "<clipPath id=\"clip6\">\n",
       "  <path d=\"M 11 1 L 25.328125 1 L 25.328125 21 L 11 21 Z M 11 1 \"/>\n",
       "</clipPath>\n",
       "<clipPath id=\"clip7\">\n",
       "  <path d=\"M 11 0 L 25.328125 0 L 25.328125 14 L 11 14 Z M 11 0 \"/>\n",
       "</clipPath>\n",
       "</defs>\n",
       "<g id=\"surface1\">\n",
       "<path style=\" stroke:none;fill-rule:nonzero;fill:rgb(0%,0%,0%);fill-opacity:1;\" d=\"M 20.621094 18.070312 C 20.621094 17.34375 20.035156 16.753906 19.308594 16.753906 C 18.582031 16.753906 17.992188 17.34375 17.992188 18.070312 C 17.992188 18.796875 18.582031 19.386719 19.308594 19.386719 C 20.035156 19.386719 20.621094 18.796875 20.621094 18.070312 Z M 20.621094 18.070312 \"/>\n",
       "<g clip-path=\"url(#clip1)\" clip-rule=\"nonzero\">\n",
       "<path style=\"fill:none;stroke-width:0.59776;stroke-linecap:butt;stroke-linejoin:miter;stroke:rgb(0%,0%,0%);stroke-opacity:1;stroke-miterlimit:10;\" d=\"M 1.314094 -0.0003125 C 1.314094 0.72625 0.728156 1.316094 0.00159375 1.316094 C -0.724969 1.316094 -1.314813 0.72625 -1.314813 -0.0003125 C -1.314813 -0.726875 -0.724969 -1.316719 0.00159375 -1.316719 C 0.728156 -1.316719 1.314094 -0.726875 1.314094 -0.0003125 Z M 1.314094 -0.0003125 \" transform=\"matrix(1,0,0,-1,19.307,18.07)\"/>\n",
       "</g>\n",
       "<path style=\" stroke:none;fill-rule:nonzero;fill:rgb(0%,0%,0%);fill-opacity:1;\" d=\"M 20.621094 13.25 C 20.621094 12.523438 20.035156 11.9375 19.308594 11.9375 C 18.582031 11.9375 17.992188 12.523438 17.992188 13.25 C 17.992188 13.976562 18.582031 14.566406 19.308594 14.566406 C 20.035156 14.566406 20.621094 13.976562 20.621094 13.25 Z M 20.621094 13.25 \"/>\n",
       "<g clip-path=\"url(#clip2)\" clip-rule=\"nonzero\">\n",
       "<path style=\"fill:none;stroke-width:0.59776;stroke-linecap:butt;stroke-linejoin:miter;stroke:rgb(0%,0%,0%);stroke-opacity:1;stroke-miterlimit:10;\" d=\"M 1.314094 4.82 C 1.314094 5.546563 0.728156 6.1325 0.00159375 6.1325 C -0.724969 6.1325 -1.314813 5.546563 -1.314813 4.82 C -1.314813 4.093438 -0.724969 3.503594 0.00159375 3.503594 C 0.728156 3.503594 1.314094 4.093438 1.314094 4.82 Z M 1.314094 4.82 \" transform=\"matrix(1,0,0,-1,19.307,18.07)\"/>\n",
       "</g>\n",
       "<path style=\"fill:none;stroke-width:0.59776;stroke-linecap:butt;stroke-linejoin:miter;stroke:rgb(0%,0%,0%);stroke-opacity:1;stroke-miterlimit:10;\" d=\"M 0.00159375 1.398125 L 0.00159375 3.421563 \" transform=\"matrix(1,0,0,-1,19.307,18.07)\"/>\n",
       "<path style=\" stroke:none;fill-rule:nonzero;fill:rgb(0%,0%,0%);fill-opacity:1;\" d=\"M 18.210938 8.433594 C 18.210938 7.707031 17.625 7.117188 16.898438 7.117188 C 16.171875 7.117188 15.582031 7.707031 15.582031 8.433594 C 15.582031 9.160156 16.171875 9.746094 16.898438 9.746094 C 17.625 9.746094 18.210938 9.160156 18.210938 8.433594 Z M 18.210938 8.433594 \"/>\n",
       "<g clip-path=\"url(#clip3)\" clip-rule=\"nonzero\">\n",
       "<path style=\"fill:none;stroke-width:0.59776;stroke-linecap:butt;stroke-linejoin:miter;stroke:rgb(0%,0%,0%);stroke-opacity:1;stroke-miterlimit:10;\" d=\"M -1.096063 9.636406 C -1.096063 10.362969 -1.682 10.952813 -2.408563 10.952813 C -3.135125 10.952813 -3.724969 10.362969 -3.724969 9.636406 C -3.724969 8.909844 -3.135125 8.323906 -2.408563 8.323906 C -1.682 8.323906 -1.096063 8.909844 -1.096063 9.636406 Z M -1.096063 9.636406 \" transform=\"matrix(1,0,0,-1,19.307,18.07)\"/>\n",
       "</g>\n",
       "<g clip-path=\"url(#clip4)\" clip-rule=\"nonzero\">\n",
       "<path style=\"fill:none;stroke-width:0.59776;stroke-linecap:butt;stroke-linejoin:miter;stroke:rgb(0%,0%,0%);stroke-opacity:1;stroke-miterlimit:10;\" d=\"M -0.627313 6.073906 L -1.783563 8.386406 \" transform=\"matrix(1,0,0,-1,19.307,18.07)\"/>\n",
       "</g>\n",
       "<path style=\" stroke:none;fill-rule:nonzero;fill:rgb(0%,0%,0%);fill-opacity:1;\" d=\"M 23.03125 8.433594 C 23.03125 7.707031 22.441406 7.117188 21.714844 7.117188 C 20.988281 7.117188 20.402344 7.707031 20.402344 8.433594 C 20.402344 9.160156 20.988281 9.746094 21.714844 9.746094 C 22.441406 9.746094 23.03125 9.160156 23.03125 8.433594 Z M 23.03125 8.433594 \"/>\n",
       "<g clip-path=\"url(#clip5)\" clip-rule=\"nonzero\">\n",
       "<path style=\"fill:none;stroke-width:0.59776;stroke-linecap:butt;stroke-linejoin:miter;stroke:rgb(0%,0%,0%);stroke-opacity:1;stroke-miterlimit:10;\" d=\"M 3.72425 9.636406 C 3.72425 10.362969 3.134406 10.952813 2.407844 10.952813 C 1.681281 10.952813 1.095344 10.362969 1.095344 9.636406 C 1.095344 8.909844 1.681281 8.323906 2.407844 8.323906 C 3.134406 8.323906 3.72425 8.909844 3.72425 9.636406 Z M 3.72425 9.636406 \" transform=\"matrix(1,0,0,-1,19.307,18.07)\"/>\n",
       "</g>\n",
       "<g clip-path=\"url(#clip6)\" clip-rule=\"nonzero\">\n",
       "<path style=\"fill:none;stroke-width:0.59776;stroke-linecap:butt;stroke-linejoin:miter;stroke:rgb(0%,0%,0%);stroke-opacity:1;stroke-miterlimit:10;\" d=\"M 0.626594 6.073906 L 1.782844 8.386406 \" transform=\"matrix(1,0,0,-1,19.307,18.07)\"/>\n",
       "</g>\n",
       "<path style=\" stroke:none;fill-rule:nonzero;fill:rgb(0%,0%,0%);fill-opacity:1;\" d=\"M 23.03125 3.613281 C 23.03125 2.886719 22.441406 2.296875 21.714844 2.296875 C 20.988281 2.296875 20.402344 2.886719 20.402344 3.613281 C 20.402344 4.339844 20.988281 4.929688 21.714844 4.929688 C 22.441406 4.929688 23.03125 4.339844 23.03125 3.613281 Z M 23.03125 3.613281 \"/>\n",
       "<g clip-path=\"url(#clip7)\" clip-rule=\"nonzero\">\n",
       "<path style=\"fill:none;stroke-width:0.59776;stroke-linecap:butt;stroke-linejoin:miter;stroke:rgb(0%,0%,0%);stroke-opacity:1;stroke-miterlimit:10;\" d=\"M 3.72425 14.456719 C 3.72425 15.183281 3.134406 15.773125 2.407844 15.773125 C 1.681281 15.773125 1.095344 15.183281 1.095344 14.456719 C 1.095344 13.730156 1.681281 13.140313 2.407844 13.140313 C 3.134406 13.140313 3.72425 13.730156 3.72425 14.456719 Z M 3.72425 14.456719 \" transform=\"matrix(1,0,0,-1,19.307,18.07)\"/>\n",
       "</g>\n",
       "<path style=\"fill:none;stroke-width:0.59776;stroke-linecap:butt;stroke-linejoin:miter;stroke:rgb(0%,0%,0%);stroke-opacity:1;stroke-miterlimit:10;\" d=\"M 2.407844 11.034844 L 2.407844 13.058281 \" transform=\"matrix(1,0,0,-1,19.307,18.07)\"/>\n",
       "</g>\n",
       "</svg>\n"
      ],
      "text/plain": [
       "UnorderedTree({UnorderedTree({UnorderedTree({UnorderedTree(): 1}): 1, UnorderedTree(): 1}): 1})"
      ]
     },
     "metadata": {},
     "output_type": "display_data"
    },
    {
     "name": "stdout",
     "output_type": "stream",
     "text": [
      "1/8\n"
     ]
    }
   ],
   "source": [
    "b = hf_composition(a)\n",
    "print_for_first_trees(b,10)"
   ]
  },
  {
   "cell_type": "markdown",
   "metadata": {},
   "source": [
    "Modified equation"
   ]
  },
  {
   "cell_type": "code",
   "execution_count": 22,
   "metadata": {
    "collapsed": false
   },
   "outputs": [
    {
     "data": {
      "image/svg+xml": [
       "<?xml version=\"1.0\" encoding=\"UTF-8\"?>\n",
       "<svg xmlns=\"http://www.w3.org/2000/svg\" xmlns:xlink=\"http://www.w3.org/1999/xlink\" width=\"20.511pt\" height=\"7.228pt\" viewBox=\"0 0 20.511 7.228\" version=\"1.1\">\n",
       "<defs>\n",
       "<clipPath id=\"clip1\">\n",
       "  <path d=\"M 7 0 L 20.511719 0 L 20.511719 7.226562 L 7 7.226562 Z M 7 0 \"/>\n",
       "</clipPath>\n",
       "</defs>\n",
       "<g id=\"surface1\">\n",
       "<path style=\" stroke:none;fill-rule:nonzero;fill:rgb(0%,0%,0%);fill-opacity:1;\" d=\"M 18.210938 3.613281 C 18.210938 2.886719 17.625 2.300781 16.898438 2.300781 C 16.171875 2.300781 15.582031 2.886719 15.582031 3.613281 C 15.582031 4.339844 16.171875 4.929688 16.898438 4.929688 C 17.625 4.929688 18.210938 4.339844 18.210938 3.613281 Z M 18.210938 3.613281 \"/>\n",
       "<g clip-path=\"url(#clip1)\" clip-rule=\"nonzero\">\n",
       "<path style=\"fill:none;stroke-width:0.59776;stroke-linecap:butt;stroke-linejoin:miter;stroke:rgb(0%,0%,0%);stroke-opacity:1;stroke-miterlimit:10;\" d=\"M 1.313937 0.00071875 C 1.313937 0.727281 0.728 1.313219 0.0014375 1.313219 C -0.725125 1.313219 -1.314969 0.727281 -1.314969 0.00071875 C -1.314969 -0.725844 -0.725125 -1.315688 0.0014375 -1.315688 C 0.728 -1.315688 1.313937 -0.725844 1.313937 0.00071875 Z M 1.313937 0.00071875 \" transform=\"matrix(1,0,0,-1,16.897,3.614)\"/>\n",
       "</g>\n",
       "</g>\n",
       "</svg>\n"
      ],
      "text/plain": [
       "UnorderedTree()"
      ]
     },
     "metadata": {},
     "output_type": "display_data"
    },
    {
     "name": "stdout",
     "output_type": "stream",
     "text": [
      "1\n"
     ]
    },
    {
     "data": {
      "image/svg+xml": [
       "<?xml version=\"1.0\" encoding=\"UTF-8\"?>\n",
       "<svg xmlns=\"http://www.w3.org/2000/svg\" xmlns:xlink=\"http://www.w3.org/1999/xlink\" width=\"20.511pt\" height=\"12.046pt\" viewBox=\"0 0 20.511 12.046\" version=\"1.1\">\n",
       "<defs>\n",
       "<clipPath id=\"clip1\">\n",
       "  <path d=\"M 7 0 L 20.511719 0 L 20.511719 12.046875 L 7 12.046875 Z M 7 0 \"/>\n",
       "</clipPath>\n",
       "<clipPath id=\"clip2\">\n",
       "  <path d=\"M 7 0 L 20.511719 0 L 20.511719 12.046875 L 7 12.046875 Z M 7 0 \"/>\n",
       "</clipPath>\n",
       "</defs>\n",
       "<g id=\"surface1\">\n",
       "<path style=\" stroke:none;fill-rule:nonzero;fill:rgb(0%,0%,0%);fill-opacity:1;\" d=\"M 18.210938 8.433594 C 18.210938 7.707031 17.625 7.117188 16.898438 7.117188 C 16.171875 7.117188 15.582031 7.707031 15.582031 8.433594 C 15.582031 9.160156 16.171875 9.746094 16.898438 9.746094 C 17.625 9.746094 18.210938 9.160156 18.210938 8.433594 Z M 18.210938 8.433594 \"/>\n",
       "<g clip-path=\"url(#clip1)\" clip-rule=\"nonzero\">\n",
       "<path style=\"fill:none;stroke-width:0.59776;stroke-linecap:butt;stroke-linejoin:miter;stroke:rgb(0%,0%,0%);stroke-opacity:1;stroke-miterlimit:10;\" d=\"M 1.313937 -0.00159375 C 1.313937 0.724969 0.728 1.314812 0.0014375 1.314812 C -0.725125 1.314812 -1.314969 0.724969 -1.314969 -0.00159375 C -1.314969 -0.728156 -0.725125 -1.314094 0.0014375 -1.314094 C 0.728 -1.314094 1.313937 -0.728156 1.313937 -0.00159375 Z M 1.313937 -0.00159375 \" transform=\"matrix(1,0,0,-1,16.897,8.432)\"/>\n",
       "</g>\n",
       "<path style=\" stroke:none;fill-rule:nonzero;fill:rgb(0%,0%,0%);fill-opacity:1;\" d=\"M 18.210938 3.613281 C 18.210938 2.886719 17.625 2.296875 16.898438 2.296875 C 16.171875 2.296875 15.582031 2.886719 15.582031 3.613281 C 15.582031 4.339844 16.171875 4.929688 16.898438 4.929688 C 17.625 4.929688 18.210938 4.339844 18.210938 3.613281 Z M 18.210938 3.613281 \"/>\n",
       "<g clip-path=\"url(#clip2)\" clip-rule=\"nonzero\">\n",
       "<path style=\"fill:none;stroke-width:0.59776;stroke-linecap:butt;stroke-linejoin:miter;stroke:rgb(0%,0%,0%);stroke-opacity:1;stroke-miterlimit:10;\" d=\"M 1.313937 4.818719 C 1.313937 5.545281 0.728 6.135125 0.0014375 6.135125 C -0.725125 6.135125 -1.314969 5.545281 -1.314969 4.818719 C -1.314969 4.092156 -0.725125 3.502312 0.0014375 3.502312 C 0.728 3.502312 1.313937 4.092156 1.313937 4.818719 Z M 1.313937 4.818719 \" transform=\"matrix(1,0,0,-1,16.897,8.432)\"/>\n",
       "</g>\n",
       "<path style=\"fill:none;stroke-width:0.59776;stroke-linecap:butt;stroke-linejoin:miter;stroke:rgb(0%,0%,0%);stroke-opacity:1;stroke-miterlimit:10;\" d=\"M 0.0014375 1.396844 L 0.0014375 3.420281 \" transform=\"matrix(1,0,0,-1,16.897,8.432)\"/>\n",
       "</g>\n",
       "</svg>\n"
      ],
      "text/plain": [
       "UnorderedTree({UnorderedTree(): 1})"
      ]
     },
     "metadata": {},
     "output_type": "display_data"
    },
    {
     "name": "stdout",
     "output_type": "stream",
     "text": [
      "0\n"
     ]
    },
    {
     "data": {
      "image/svg+xml": [
       "<?xml version=\"1.0\" encoding=\"UTF-8\"?>\n",
       "<svg xmlns=\"http://www.w3.org/2000/svg\" xmlns:xlink=\"http://www.w3.org/1999/xlink\" width=\"20.511pt\" height=\"16.865pt\" viewBox=\"0 0 20.511 16.865\" version=\"1.1\">\n",
       "<defs>\n",
       "<clipPath id=\"clip1\">\n",
       "  <path d=\"M 7 3 L 20.511719 3 L 20.511719 16.863281 L 7 16.863281 Z M 7 3 \"/>\n",
       "</clipPath>\n",
       "<clipPath id=\"clip2\">\n",
       "  <path d=\"M 7 0 L 20.511719 0 L 20.511719 16.863281 L 7 16.863281 Z M 7 0 \"/>\n",
       "</clipPath>\n",
       "<clipPath id=\"clip3\">\n",
       "  <path d=\"M 7 0 L 20.511719 0 L 20.511719 14 L 7 14 Z M 7 0 \"/>\n",
       "</clipPath>\n",
       "</defs>\n",
       "<g id=\"surface1\">\n",
       "<path style=\" stroke:none;fill-rule:nonzero;fill:rgb(0%,0%,0%);fill-opacity:1;\" d=\"M 18.210938 13.25 C 18.210938 12.523438 17.625 11.9375 16.898438 11.9375 C 16.171875 11.9375 15.582031 12.523438 15.582031 13.25 C 15.582031 13.976562 16.171875 14.566406 16.898438 14.566406 C 17.625 14.566406 18.210938 13.976562 18.210938 13.25 Z M 18.210938 13.25 \"/>\n",
       "<g clip-path=\"url(#clip1)\" clip-rule=\"nonzero\">\n",
       "<path style=\"fill:none;stroke-width:0.59776;stroke-linecap:butt;stroke-linejoin:miter;stroke:rgb(0%,0%,0%);stroke-opacity:1;stroke-miterlimit:10;\" d=\"M 1.313937 0.001 C 1.313937 0.727562 0.728 1.3135 0.0014375 1.3135 C -0.725125 1.3135 -1.314969 0.727562 -1.314969 0.001 C -1.314969 -0.725563 -0.725125 -1.315406 0.0014375 -1.315406 C 0.728 -1.315406 1.313937 -0.725563 1.313937 0.001 Z M 1.313937 0.001 \" transform=\"matrix(1,0,0,-1,16.897,13.251)\"/>\n",
       "</g>\n",
       "<path style=\" stroke:none;fill-rule:nonzero;fill:rgb(0%,0%,0%);fill-opacity:1;\" d=\"M 18.210938 8.433594 C 18.210938 7.707031 17.625 7.117188 16.898438 7.117188 C 16.171875 7.117188 15.582031 7.707031 15.582031 8.433594 C 15.582031 9.160156 16.171875 9.746094 16.898438 9.746094 C 17.625 9.746094 18.210938 9.160156 18.210938 8.433594 Z M 18.210938 8.433594 \"/>\n",
       "<g clip-path=\"url(#clip2)\" clip-rule=\"nonzero\">\n",
       "<path style=\"fill:none;stroke-width:0.59776;stroke-linecap:butt;stroke-linejoin:miter;stroke:rgb(0%,0%,0%);stroke-opacity:1;stroke-miterlimit:10;\" d=\"M 1.313937 4.817406 C 1.313937 5.543969 0.728 6.133812 0.0014375 6.133812 C -0.725125 6.133812 -1.314969 5.543969 -1.314969 4.817406 C -1.314969 4.090844 -0.725125 3.504906 0.0014375 3.504906 C 0.728 3.504906 1.313937 4.090844 1.313937 4.817406 Z M 1.313937 4.817406 \" transform=\"matrix(1,0,0,-1,16.897,13.251)\"/>\n",
       "</g>\n",
       "<path style=\"fill:none;stroke-width:0.59776;stroke-linecap:butt;stroke-linejoin:miter;stroke:rgb(0%,0%,0%);stroke-opacity:1;stroke-miterlimit:10;\" d=\"M 0.0014375 1.399437 L 0.0014375 3.418969 \" transform=\"matrix(1,0,0,-1,16.897,13.251)\"/>\n",
       "<path style=\" stroke:none;fill-rule:nonzero;fill:rgb(0%,0%,0%);fill-opacity:1;\" d=\"M 18.210938 3.613281 C 18.210938 2.886719 17.625 2.296875 16.898438 2.296875 C 16.171875 2.296875 15.582031 2.886719 15.582031 3.613281 C 15.582031 4.339844 16.171875 4.929688 16.898438 4.929688 C 17.625 4.929688 18.210938 4.339844 18.210938 3.613281 Z M 18.210938 3.613281 \"/>\n",
       "<g clip-path=\"url(#clip3)\" clip-rule=\"nonzero\">\n",
       "<path style=\"fill:none;stroke-width:0.59776;stroke-linecap:butt;stroke-linejoin:miter;stroke:rgb(0%,0%,0%);stroke-opacity:1;stroke-miterlimit:10;\" d=\"M 1.313937 9.637719 C 1.313937 10.364281 0.728 10.954125 0.0014375 10.954125 C -0.725125 10.954125 -1.314969 10.364281 -1.314969 9.637719 C -1.314969 8.911156 -0.725125 8.321312 0.0014375 8.321312 C 0.728 8.321312 1.313937 8.911156 1.313937 9.637719 Z M 1.313937 9.637719 \" transform=\"matrix(1,0,0,-1,16.897,13.251)\"/>\n",
       "</g>\n",
       "<path style=\"fill:none;stroke-width:0.59776;stroke-linecap:butt;stroke-linejoin:miter;stroke:rgb(0%,0%,0%);stroke-opacity:1;stroke-miterlimit:10;\" d=\"M 0.0014375 6.215844 L 0.0014375 8.239281 \" transform=\"matrix(1,0,0,-1,16.897,13.251)\"/>\n",
       "</g>\n",
       "</svg>\n"
      ],
      "text/plain": [
       "UnorderedTree({UnorderedTree({UnorderedTree(): 1}): 1})"
      ]
     },
     "metadata": {},
     "output_type": "display_data"
    },
    {
     "name": "stdout",
     "output_type": "stream",
     "text": [
      "0\n"
     ]
    },
    {
     "data": {
      "image/svg+xml": [
       "<?xml version=\"1.0\" encoding=\"UTF-8\"?>\n",
       "<svg xmlns=\"http://www.w3.org/2000/svg\" xmlns:xlink=\"http://www.w3.org/1999/xlink\" width=\"25.33pt\" height=\"12.046pt\" viewBox=\"0 0 25.33 12.046\" version=\"1.1\">\n",
       "<defs>\n",
       "<clipPath id=\"clip1\">\n",
       "  <path d=\"M 9 0 L 25.328125 0 L 25.328125 12.046875 L 9 12.046875 Z M 9 0 \"/>\n",
       "</clipPath>\n",
       "<clipPath id=\"clip2\">\n",
       "  <path d=\"M 7 0 L 25.328125 0 L 25.328125 12.046875 L 7 12.046875 Z M 7 0 \"/>\n",
       "</clipPath>\n",
       "<clipPath id=\"clip3\">\n",
       "  <path d=\"M 9 0 L 25.328125 0 L 25.328125 12.046875 L 9 12.046875 Z M 9 0 \"/>\n",
       "</clipPath>\n",
       "<clipPath id=\"clip4\">\n",
       "  <path d=\"M 11 0 L 25.328125 0 L 25.328125 12.046875 L 11 12.046875 Z M 11 0 \"/>\n",
       "</clipPath>\n",
       "</defs>\n",
       "<g id=\"surface1\">\n",
       "<path style=\" stroke:none;fill-rule:nonzero;fill:rgb(0%,0%,0%);fill-opacity:1;\" d=\"M 20.621094 8.433594 C 20.621094 7.707031 20.035156 7.117188 19.308594 7.117188 C 18.582031 7.117188 17.992188 7.707031 17.992188 8.433594 C 17.992188 9.160156 18.582031 9.746094 19.308594 9.746094 C 20.035156 9.746094 20.621094 9.160156 20.621094 8.433594 Z M 20.621094 8.433594 \"/>\n",
       "<g clip-path=\"url(#clip1)\" clip-rule=\"nonzero\">\n",
       "<path style=\"fill:none;stroke-width:0.59776;stroke-linecap:butt;stroke-linejoin:miter;stroke:rgb(0%,0%,0%);stroke-opacity:1;stroke-miterlimit:10;\" d=\"M 1.314094 -0.00159375 C 1.314094 0.724969 0.728156 1.314812 0.00159375 1.314812 C -0.724969 1.314812 -1.314813 0.724969 -1.314813 -0.00159375 C -1.314813 -0.728156 -0.724969 -1.314094 0.00159375 -1.314094 C 0.728156 -1.314094 1.314094 -0.728156 1.314094 -0.00159375 Z M 1.314094 -0.00159375 \" transform=\"matrix(1,0,0,-1,19.307,8.432)\"/>\n",
       "</g>\n",
       "<path style=\" stroke:none;fill-rule:nonzero;fill:rgb(0%,0%,0%);fill-opacity:1;\" d=\"M 18.210938 3.613281 C 18.210938 2.886719 17.625 2.296875 16.898438 2.296875 C 16.171875 2.296875 15.582031 2.886719 15.582031 3.613281 C 15.582031 4.339844 16.171875 4.929688 16.898438 4.929688 C 17.625 4.929688 18.210938 4.339844 18.210938 3.613281 Z M 18.210938 3.613281 \"/>\n",
       "<g clip-path=\"url(#clip2)\" clip-rule=\"nonzero\">\n",
       "<path style=\"fill:none;stroke-width:0.59776;stroke-linecap:butt;stroke-linejoin:miter;stroke:rgb(0%,0%,0%);stroke-opacity:1;stroke-miterlimit:10;\" d=\"M -1.096063 4.818719 C -1.096063 5.545281 -1.682 6.135125 -2.408563 6.135125 C -3.135125 6.135125 -3.724969 5.545281 -3.724969 4.818719 C -3.724969 4.092156 -3.135125 3.502312 -2.408563 3.502312 C -1.682 3.502312 -1.096063 4.092156 -1.096063 4.818719 Z M -1.096063 4.818719 \" transform=\"matrix(1,0,0,-1,19.307,8.432)\"/>\n",
       "</g>\n",
       "<g clip-path=\"url(#clip3)\" clip-rule=\"nonzero\">\n",
       "<path style=\"fill:none;stroke-width:0.59776;stroke-linecap:butt;stroke-linejoin:miter;stroke:rgb(0%,0%,0%);stroke-opacity:1;stroke-miterlimit:10;\" d=\"M -0.627313 1.256219 L -1.783563 3.568719 \" transform=\"matrix(1,0,0,-1,19.307,8.432)\"/>\n",
       "</g>\n",
       "<path style=\" stroke:none;fill-rule:nonzero;fill:rgb(0%,0%,0%);fill-opacity:1;\" d=\"M 23.03125 3.613281 C 23.03125 2.886719 22.441406 2.296875 21.714844 2.296875 C 20.988281 2.296875 20.402344 2.886719 20.402344 3.613281 C 20.402344 4.339844 20.988281 4.929688 21.714844 4.929688 C 22.441406 4.929688 23.03125 4.339844 23.03125 3.613281 Z M 23.03125 3.613281 \"/>\n",
       "<g clip-path=\"url(#clip4)\" clip-rule=\"nonzero\">\n",
       "<path style=\"fill:none;stroke-width:0.59776;stroke-linecap:butt;stroke-linejoin:miter;stroke:rgb(0%,0%,0%);stroke-opacity:1;stroke-miterlimit:10;\" d=\"M 3.72425 4.818719 C 3.72425 5.545281 3.134406 6.135125 2.407844 6.135125 C 1.681281 6.135125 1.095344 5.545281 1.095344 4.818719 C 1.095344 4.092156 1.681281 3.502312 2.407844 3.502312 C 3.134406 3.502312 3.72425 4.092156 3.72425 4.818719 Z M 3.72425 4.818719 \" transform=\"matrix(1,0,0,-1,19.307,8.432)\"/>\n",
       "<path style=\"fill:none;stroke-width:0.59776;stroke-linecap:butt;stroke-linejoin:miter;stroke:rgb(0%,0%,0%);stroke-opacity:1;stroke-miterlimit:10;\" d=\"M 0.626594 1.256219 L 1.782844 3.568719 \" transform=\"matrix(1,0,0,-1,19.307,8.432)\"/>\n",
       "</g>\n",
       "</g>\n",
       "</svg>\n"
      ],
      "text/plain": [
       "UnorderedTree({UnorderedTree(): 2})"
      ]
     },
     "metadata": {},
     "output_type": "display_data"
    },
    {
     "name": "stdout",
     "output_type": "stream",
     "text": [
      "0\n"
     ]
    },
    {
     "data": {
      "image/svg+xml": [
       "<?xml version=\"1.0\" encoding=\"UTF-8\"?>\n",
       "<svg xmlns=\"http://www.w3.org/2000/svg\" xmlns:xlink=\"http://www.w3.org/1999/xlink\" width=\"25.33pt\" height=\"16.865pt\" viewBox=\"0 0 25.33 16.865\" version=\"1.1\">\n",
       "<defs>\n",
       "<clipPath id=\"clip1\">\n",
       "  <path d=\"M 9 3 L 25.328125 3 L 25.328125 16.863281 L 9 16.863281 Z M 9 3 \"/>\n",
       "</clipPath>\n",
       "<clipPath id=\"clip2\">\n",
       "  <path d=\"M 7 0 L 25.328125 0 L 25.328125 16.863281 L 7 16.863281 Z M 7 0 \"/>\n",
       "</clipPath>\n",
       "<clipPath id=\"clip3\">\n",
       "  <path d=\"M 9 1 L 25.328125 1 L 25.328125 16.863281 L 9 16.863281 Z M 9 1 \"/>\n",
       "</clipPath>\n",
       "<clipPath id=\"clip4\">\n",
       "  <path d=\"M 11 0 L 25.328125 0 L 25.328125 16.863281 L 11 16.863281 Z M 11 0 \"/>\n",
       "</clipPath>\n",
       "<clipPath id=\"clip5\">\n",
       "  <path d=\"M 11 1 L 25.328125 1 L 25.328125 16.863281 L 11 16.863281 Z M 11 1 \"/>\n",
       "</clipPath>\n",
       "<clipPath id=\"clip6\">\n",
       "  <path d=\"M 11 0 L 25.328125 0 L 25.328125 14 L 11 14 Z M 11 0 \"/>\n",
       "</clipPath>\n",
       "</defs>\n",
       "<g id=\"surface1\">\n",
       "<path style=\" stroke:none;fill-rule:nonzero;fill:rgb(0%,0%,0%);fill-opacity:1;\" d=\"M 20.621094 13.25 C 20.621094 12.523438 20.035156 11.9375 19.308594 11.9375 C 18.582031 11.9375 17.992188 12.523438 17.992188 13.25 C 17.992188 13.976562 18.582031 14.566406 19.308594 14.566406 C 20.035156 14.566406 20.621094 13.976562 20.621094 13.25 Z M 20.621094 13.25 \"/>\n",
       "<g clip-path=\"url(#clip1)\" clip-rule=\"nonzero\">\n",
       "<path style=\"fill:none;stroke-width:0.59776;stroke-linecap:butt;stroke-linejoin:miter;stroke:rgb(0%,0%,0%);stroke-opacity:1;stroke-miterlimit:10;\" d=\"M 1.314094 0.001 C 1.314094 0.727562 0.728156 1.3135 0.00159375 1.3135 C -0.724969 1.3135 -1.314813 0.727562 -1.314813 0.001 C -1.314813 -0.725563 -0.724969 -1.315406 0.00159375 -1.315406 C 0.728156 -1.315406 1.314094 -0.725563 1.314094 0.001 Z M 1.314094 0.001 \" transform=\"matrix(1,0,0,-1,19.307,13.251)\"/>\n",
       "</g>\n",
       "<path style=\" stroke:none;fill-rule:nonzero;fill:rgb(0%,0%,0%);fill-opacity:1;\" d=\"M 18.210938 8.433594 C 18.210938 7.707031 17.625 7.117188 16.898438 7.117188 C 16.171875 7.117188 15.582031 7.707031 15.582031 8.433594 C 15.582031 9.160156 16.171875 9.746094 16.898438 9.746094 C 17.625 9.746094 18.210938 9.160156 18.210938 8.433594 Z M 18.210938 8.433594 \"/>\n",
       "<g clip-path=\"url(#clip2)\" clip-rule=\"nonzero\">\n",
       "<path style=\"fill:none;stroke-width:0.59776;stroke-linecap:butt;stroke-linejoin:miter;stroke:rgb(0%,0%,0%);stroke-opacity:1;stroke-miterlimit:10;\" d=\"M -1.096063 4.817406 C -1.096063 5.543969 -1.682 6.133812 -2.408563 6.133812 C -3.135125 6.133812 -3.724969 5.543969 -3.724969 4.817406 C -3.724969 4.090844 -3.135125 3.504906 -2.408563 3.504906 C -1.682 3.504906 -1.096063 4.090844 -1.096063 4.817406 Z M -1.096063 4.817406 \" transform=\"matrix(1,0,0,-1,19.307,13.251)\"/>\n",
       "</g>\n",
       "<g clip-path=\"url(#clip3)\" clip-rule=\"nonzero\">\n",
       "<path style=\"fill:none;stroke-width:0.59776;stroke-linecap:butt;stroke-linejoin:miter;stroke:rgb(0%,0%,0%);stroke-opacity:1;stroke-miterlimit:10;\" d=\"M -0.627313 1.254906 L -1.783563 3.567406 \" transform=\"matrix(1,0,0,-1,19.307,13.251)\"/>\n",
       "</g>\n",
       "<path style=\" stroke:none;fill-rule:nonzero;fill:rgb(0%,0%,0%);fill-opacity:1;\" d=\"M 23.03125 8.433594 C 23.03125 7.707031 22.441406 7.117188 21.714844 7.117188 C 20.988281 7.117188 20.402344 7.707031 20.402344 8.433594 C 20.402344 9.160156 20.988281 9.746094 21.714844 9.746094 C 22.441406 9.746094 23.03125 9.160156 23.03125 8.433594 Z M 23.03125 8.433594 \"/>\n",
       "<g clip-path=\"url(#clip4)\" clip-rule=\"nonzero\">\n",
       "<path style=\"fill:none;stroke-width:0.59776;stroke-linecap:butt;stroke-linejoin:miter;stroke:rgb(0%,0%,0%);stroke-opacity:1;stroke-miterlimit:10;\" d=\"M 3.72425 4.817406 C 3.72425 5.543969 3.134406 6.133812 2.407844 6.133812 C 1.681281 6.133812 1.095344 5.543969 1.095344 4.817406 C 1.095344 4.090844 1.681281 3.504906 2.407844 3.504906 C 3.134406 3.504906 3.72425 4.090844 3.72425 4.817406 Z M 3.72425 4.817406 \" transform=\"matrix(1,0,0,-1,19.307,13.251)\"/>\n",
       "</g>\n",
       "<g clip-path=\"url(#clip5)\" clip-rule=\"nonzero\">\n",
       "<path style=\"fill:none;stroke-width:0.59776;stroke-linecap:butt;stroke-linejoin:miter;stroke:rgb(0%,0%,0%);stroke-opacity:1;stroke-miterlimit:10;\" d=\"M 0.626594 1.254906 L 1.782844 3.567406 \" transform=\"matrix(1,0,0,-1,19.307,13.251)\"/>\n",
       "</g>\n",
       "<path style=\" stroke:none;fill-rule:nonzero;fill:rgb(0%,0%,0%);fill-opacity:1;\" d=\"M 23.03125 3.613281 C 23.03125 2.886719 22.441406 2.296875 21.714844 2.296875 C 20.988281 2.296875 20.402344 2.886719 20.402344 3.613281 C 20.402344 4.339844 20.988281 4.929688 21.714844 4.929688 C 22.441406 4.929688 23.03125 4.339844 23.03125 3.613281 Z M 23.03125 3.613281 \"/>\n",
       "<g clip-path=\"url(#clip6)\" clip-rule=\"nonzero\">\n",
       "<path style=\"fill:none;stroke-width:0.59776;stroke-linecap:butt;stroke-linejoin:miter;stroke:rgb(0%,0%,0%);stroke-opacity:1;stroke-miterlimit:10;\" d=\"M 3.72425 9.637719 C 3.72425 10.364281 3.134406 10.954125 2.407844 10.954125 C 1.681281 10.954125 1.095344 10.364281 1.095344 9.637719 C 1.095344 8.911156 1.681281 8.321312 2.407844 8.321312 C 3.134406 8.321312 3.72425 8.911156 3.72425 9.637719 Z M 3.72425 9.637719 \" transform=\"matrix(1,0,0,-1,19.307,13.251)\"/>\n",
       "</g>\n",
       "<path style=\"fill:none;stroke-width:0.59776;stroke-linecap:butt;stroke-linejoin:miter;stroke:rgb(0%,0%,0%);stroke-opacity:1;stroke-miterlimit:10;\" d=\"M 2.407844 6.215844 L 2.407844 8.239281 \" transform=\"matrix(1,0,0,-1,19.307,13.251)\"/>\n",
       "</g>\n",
       "</svg>\n"
      ],
      "text/plain": [
       "UnorderedTree({UnorderedTree({UnorderedTree(): 1}): 1, UnorderedTree(): 1})"
      ]
     },
     "metadata": {},
     "output_type": "display_data"
    },
    {
     "name": "stdout",
     "output_type": "stream",
     "text": [
      "0\n"
     ]
    },
    {
     "data": {
      "image/svg+xml": [
       "<?xml version=\"1.0\" encoding=\"UTF-8\"?>\n",
       "<svg xmlns=\"http://www.w3.org/2000/svg\" xmlns:xlink=\"http://www.w3.org/1999/xlink\" width=\"20.511pt\" height=\"21.684pt\" viewBox=\"0 0 20.511 21.684\" version=\"1.1\">\n",
       "<defs>\n",
       "<clipPath id=\"clip1\">\n",
       "  <path d=\"M 7 8 L 20.511719 8 L 20.511719 21.683594 L 7 21.683594 Z M 7 8 \"/>\n",
       "</clipPath>\n",
       "<clipPath id=\"clip2\">\n",
       "  <path d=\"M 7 3 L 20.511719 3 L 20.511719 21.683594 L 7 21.683594 Z M 7 3 \"/>\n",
       "</clipPath>\n",
       "<clipPath id=\"clip3\">\n",
       "  <path d=\"M 7 0 L 20.511719 0 L 20.511719 19 L 7 19 Z M 7 0 \"/>\n",
       "</clipPath>\n",
       "<clipPath id=\"clip4\">\n",
       "  <path d=\"M 7 0 L 20.511719 0 L 20.511719 14 L 7 14 Z M 7 0 \"/>\n",
       "</clipPath>\n",
       "</defs>\n",
       "<g id=\"surface1\">\n",
       "<path style=\" stroke:none;fill-rule:nonzero;fill:rgb(0%,0%,0%);fill-opacity:1;\" d=\"M 18.210938 18.070312 C 18.210938 17.34375 17.625 16.753906 16.898438 16.753906 C 16.171875 16.753906 15.582031 17.34375 15.582031 18.070312 C 15.582031 18.796875 16.171875 19.386719 16.898438 19.386719 C 17.625 19.386719 18.210938 18.796875 18.210938 18.070312 Z M 18.210938 18.070312 \"/>\n",
       "<g clip-path=\"url(#clip1)\" clip-rule=\"nonzero\">\n",
       "<path style=\"fill:none;stroke-width:0.59776;stroke-linecap:butt;stroke-linejoin:miter;stroke:rgb(0%,0%,0%);stroke-opacity:1;stroke-miterlimit:10;\" d=\"M 1.313937 -0.0003125 C 1.313937 0.72625 0.728 1.316094 0.0014375 1.316094 C -0.725125 1.316094 -1.314969 0.72625 -1.314969 -0.0003125 C -1.314969 -0.726875 -0.725125 -1.316719 0.0014375 -1.316719 C 0.728 -1.316719 1.313937 -0.726875 1.313937 -0.0003125 Z M 1.313937 -0.0003125 \" transform=\"matrix(1,0,0,-1,16.897,18.07)\"/>\n",
       "</g>\n",
       "<path style=\" stroke:none;fill-rule:nonzero;fill:rgb(0%,0%,0%);fill-opacity:1;\" d=\"M 18.210938 13.25 C 18.210938 12.523438 17.625 11.9375 16.898438 11.9375 C 16.171875 11.9375 15.582031 12.523438 15.582031 13.25 C 15.582031 13.976562 16.171875 14.566406 16.898438 14.566406 C 17.625 14.566406 18.210938 13.976562 18.210938 13.25 Z M 18.210938 13.25 \"/>\n",
       "<g clip-path=\"url(#clip2)\" clip-rule=\"nonzero\">\n",
       "<path style=\"fill:none;stroke-width:0.59776;stroke-linecap:butt;stroke-linejoin:miter;stroke:rgb(0%,0%,0%);stroke-opacity:1;stroke-miterlimit:10;\" d=\"M 1.313937 4.82 C 1.313937 5.546563 0.728 6.1325 0.0014375 6.1325 C -0.725125 6.1325 -1.314969 5.546563 -1.314969 4.82 C -1.314969 4.093438 -0.725125 3.503594 0.0014375 3.503594 C 0.728 3.503594 1.313937 4.093438 1.313937 4.82 Z M 1.313937 4.82 \" transform=\"matrix(1,0,0,-1,16.897,18.07)\"/>\n",
       "</g>\n",
       "<path style=\"fill:none;stroke-width:0.59776;stroke-linecap:butt;stroke-linejoin:miter;stroke:rgb(0%,0%,0%);stroke-opacity:1;stroke-miterlimit:10;\" d=\"M 0.0014375 1.398125 L 0.0014375 3.421563 \" transform=\"matrix(1,0,0,-1,16.897,18.07)\"/>\n",
       "<path style=\" stroke:none;fill-rule:nonzero;fill:rgb(0%,0%,0%);fill-opacity:1;\" d=\"M 18.210938 8.433594 C 18.210938 7.707031 17.625 7.117188 16.898438 7.117188 C 16.171875 7.117188 15.582031 7.707031 15.582031 8.433594 C 15.582031 9.160156 16.171875 9.746094 16.898438 9.746094 C 17.625 9.746094 18.210938 9.160156 18.210938 8.433594 Z M 18.210938 8.433594 \"/>\n",
       "<g clip-path=\"url(#clip3)\" clip-rule=\"nonzero\">\n",
       "<path style=\"fill:none;stroke-width:0.59776;stroke-linecap:butt;stroke-linejoin:miter;stroke:rgb(0%,0%,0%);stroke-opacity:1;stroke-miterlimit:10;\" d=\"M 1.313937 9.636406 C 1.313937 10.362969 0.728 10.952813 0.0014375 10.952813 C -0.725125 10.952813 -1.314969 10.362969 -1.314969 9.636406 C -1.314969 8.909844 -0.725125 8.323906 0.0014375 8.323906 C 0.728 8.323906 1.313937 8.909844 1.313937 9.636406 Z M 1.313937 9.636406 \" transform=\"matrix(1,0,0,-1,16.897,18.07)\"/>\n",
       "</g>\n",
       "<path style=\"fill:none;stroke-width:0.59776;stroke-linecap:butt;stroke-linejoin:miter;stroke:rgb(0%,0%,0%);stroke-opacity:1;stroke-miterlimit:10;\" d=\"M 0.0014375 6.218438 L 0.0014375 8.237969 \" transform=\"matrix(1,0,0,-1,16.897,18.07)\"/>\n",
       "<path style=\" stroke:none;fill-rule:nonzero;fill:rgb(0%,0%,0%);fill-opacity:1;\" d=\"M 18.210938 3.613281 C 18.210938 2.886719 17.625 2.296875 16.898438 2.296875 C 16.171875 2.296875 15.582031 2.886719 15.582031 3.613281 C 15.582031 4.339844 16.171875 4.929688 16.898438 4.929688 C 17.625 4.929688 18.210938 4.339844 18.210938 3.613281 Z M 18.210938 3.613281 \"/>\n",
       "<g clip-path=\"url(#clip4)\" clip-rule=\"nonzero\">\n",
       "<path style=\"fill:none;stroke-width:0.59776;stroke-linecap:butt;stroke-linejoin:miter;stroke:rgb(0%,0%,0%);stroke-opacity:1;stroke-miterlimit:10;\" d=\"M 1.313937 14.456719 C 1.313937 15.183281 0.728 15.773125 0.0014375 15.773125 C -0.725125 15.773125 -1.314969 15.183281 -1.314969 14.456719 C -1.314969 13.730156 -0.725125 13.140313 0.0014375 13.140313 C 0.728 13.140313 1.313937 13.730156 1.313937 14.456719 Z M 1.313937 14.456719 \" transform=\"matrix(1,0,0,-1,16.897,18.07)\"/>\n",
       "</g>\n",
       "<path style=\"fill:none;stroke-width:0.59776;stroke-linecap:butt;stroke-linejoin:miter;stroke:rgb(0%,0%,0%);stroke-opacity:1;stroke-miterlimit:10;\" d=\"M 0.0014375 11.034844 L 0.0014375 13.058281 \" transform=\"matrix(1,0,0,-1,16.897,18.07)\"/>\n",
       "</g>\n",
       "</svg>\n"
      ],
      "text/plain": [
       "UnorderedTree({UnorderedTree({UnorderedTree({UnorderedTree(): 1}): 1}): 1})"
      ]
     },
     "metadata": {},
     "output_type": "display_data"
    },
    {
     "name": "stdout",
     "output_type": "stream",
     "text": [
      "0\n"
     ]
    },
    {
     "data": {
      "image/svg+xml": [
       "<?xml version=\"1.0\" encoding=\"UTF-8\"?>\n",
       "<svg xmlns=\"http://www.w3.org/2000/svg\" xmlns:xlink=\"http://www.w3.org/1999/xlink\" width=\"25.33pt\" height=\"16.865pt\" viewBox=\"0 0 25.33 16.865\" version=\"1.1\">\n",
       "<defs>\n",
       "<clipPath id=\"clip1\">\n",
       "  <path d=\"M 9 3 L 25.328125 3 L 25.328125 16.863281 L 9 16.863281 Z M 9 3 \"/>\n",
       "</clipPath>\n",
       "<clipPath id=\"clip2\">\n",
       "  <path d=\"M 9 0 L 25.328125 0 L 25.328125 16.863281 L 9 16.863281 Z M 9 0 \"/>\n",
       "</clipPath>\n",
       "<clipPath id=\"clip3\">\n",
       "  <path d=\"M 7 0 L 25.328125 0 L 25.328125 14 L 7 14 Z M 7 0 \"/>\n",
       "</clipPath>\n",
       "<clipPath id=\"clip4\">\n",
       "  <path d=\"M 9 0 L 25.328125 0 L 25.328125 16 L 9 16 Z M 9 0 \"/>\n",
       "</clipPath>\n",
       "<clipPath id=\"clip5\">\n",
       "  <path d=\"M 11 0 L 25.328125 0 L 25.328125 14 L 11 14 Z M 11 0 \"/>\n",
       "</clipPath>\n",
       "<clipPath id=\"clip6\">\n",
       "  <path d=\"M 11 0 L 25.328125 0 L 25.328125 16 L 11 16 Z M 11 0 \"/>\n",
       "</clipPath>\n",
       "</defs>\n",
       "<g id=\"surface1\">\n",
       "<path style=\" stroke:none;fill-rule:nonzero;fill:rgb(0%,0%,0%);fill-opacity:1;\" d=\"M 20.621094 13.25 C 20.621094 12.523438 20.035156 11.9375 19.308594 11.9375 C 18.582031 11.9375 17.992188 12.523438 17.992188 13.25 C 17.992188 13.976562 18.582031 14.566406 19.308594 14.566406 C 20.035156 14.566406 20.621094 13.976562 20.621094 13.25 Z M 20.621094 13.25 \"/>\n",
       "<g clip-path=\"url(#clip1)\" clip-rule=\"nonzero\">\n",
       "<path style=\"fill:none;stroke-width:0.59776;stroke-linecap:butt;stroke-linejoin:miter;stroke:rgb(0%,0%,0%);stroke-opacity:1;stroke-miterlimit:10;\" d=\"M 1.314094 0.001 C 1.314094 0.727562 0.728156 1.3135 0.00159375 1.3135 C -0.724969 1.3135 -1.314813 0.727562 -1.314813 0.001 C -1.314813 -0.725563 -0.724969 -1.315406 0.00159375 -1.315406 C 0.728156 -1.315406 1.314094 -0.725563 1.314094 0.001 Z M 1.314094 0.001 \" transform=\"matrix(1,0,0,-1,19.307,13.251)\"/>\n",
       "</g>\n",
       "<path style=\" stroke:none;fill-rule:nonzero;fill:rgb(0%,0%,0%);fill-opacity:1;\" d=\"M 20.621094 8.433594 C 20.621094 7.707031 20.035156 7.117188 19.308594 7.117188 C 18.582031 7.117188 17.992188 7.707031 17.992188 8.433594 C 17.992188 9.160156 18.582031 9.746094 19.308594 9.746094 C 20.035156 9.746094 20.621094 9.160156 20.621094 8.433594 Z M 20.621094 8.433594 \"/>\n",
       "<g clip-path=\"url(#clip2)\" clip-rule=\"nonzero\">\n",
       "<path style=\"fill:none;stroke-width:0.59776;stroke-linecap:butt;stroke-linejoin:miter;stroke:rgb(0%,0%,0%);stroke-opacity:1;stroke-miterlimit:10;\" d=\"M 1.314094 4.817406 C 1.314094 5.543969 0.728156 6.133812 0.00159375 6.133812 C -0.724969 6.133812 -1.314813 5.543969 -1.314813 4.817406 C -1.314813 4.090844 -0.724969 3.504906 0.00159375 3.504906 C 0.728156 3.504906 1.314094 4.090844 1.314094 4.817406 Z M 1.314094 4.817406 \" transform=\"matrix(1,0,0,-1,19.307,13.251)\"/>\n",
       "</g>\n",
       "<path style=\"fill:none;stroke-width:0.59776;stroke-linecap:butt;stroke-linejoin:miter;stroke:rgb(0%,0%,0%);stroke-opacity:1;stroke-miterlimit:10;\" d=\"M 0.00159375 1.399437 L 0.00159375 3.418969 \" transform=\"matrix(1,0,0,-1,19.307,13.251)\"/>\n",
       "<path style=\" stroke:none;fill-rule:nonzero;fill:rgb(0%,0%,0%);fill-opacity:1;\" d=\"M 18.210938 3.613281 C 18.210938 2.886719 17.625 2.296875 16.898438 2.296875 C 16.171875 2.296875 15.582031 2.886719 15.582031 3.613281 C 15.582031 4.339844 16.171875 4.929688 16.898438 4.929688 C 17.625 4.929688 18.210938 4.339844 18.210938 3.613281 Z M 18.210938 3.613281 \"/>\n",
       "<g clip-path=\"url(#clip3)\" clip-rule=\"nonzero\">\n",
       "<path style=\"fill:none;stroke-width:0.59776;stroke-linecap:butt;stroke-linejoin:miter;stroke:rgb(0%,0%,0%);stroke-opacity:1;stroke-miterlimit:10;\" d=\"M -1.096063 9.637719 C -1.096063 10.364281 -1.682 10.954125 -2.408563 10.954125 C -3.135125 10.954125 -3.724969 10.364281 -3.724969 9.637719 C -3.724969 8.911156 -3.135125 8.321312 -2.408563 8.321312 C -1.682 8.321312 -1.096063 8.911156 -1.096063 9.637719 Z M -1.096063 9.637719 \" transform=\"matrix(1,0,0,-1,19.307,13.251)\"/>\n",
       "</g>\n",
       "<g clip-path=\"url(#clip4)\" clip-rule=\"nonzero\">\n",
       "<path style=\"fill:none;stroke-width:0.59776;stroke-linecap:butt;stroke-linejoin:miter;stroke:rgb(0%,0%,0%);stroke-opacity:1;stroke-miterlimit:10;\" d=\"M -0.627313 6.075219 L -1.783563 8.387719 \" transform=\"matrix(1,0,0,-1,19.307,13.251)\"/>\n",
       "</g>\n",
       "<path style=\" stroke:none;fill-rule:nonzero;fill:rgb(0%,0%,0%);fill-opacity:1;\" d=\"M 23.03125 3.613281 C 23.03125 2.886719 22.441406 2.296875 21.714844 2.296875 C 20.988281 2.296875 20.402344 2.886719 20.402344 3.613281 C 20.402344 4.339844 20.988281 4.929688 21.714844 4.929688 C 22.441406 4.929688 23.03125 4.339844 23.03125 3.613281 Z M 23.03125 3.613281 \"/>\n",
       "<g clip-path=\"url(#clip5)\" clip-rule=\"nonzero\">\n",
       "<path style=\"fill:none;stroke-width:0.59776;stroke-linecap:butt;stroke-linejoin:miter;stroke:rgb(0%,0%,0%);stroke-opacity:1;stroke-miterlimit:10;\" d=\"M 3.72425 9.637719 C 3.72425 10.364281 3.134406 10.954125 2.407844 10.954125 C 1.681281 10.954125 1.095344 10.364281 1.095344 9.637719 C 1.095344 8.911156 1.681281 8.321312 2.407844 8.321312 C 3.134406 8.321312 3.72425 8.911156 3.72425 9.637719 Z M 3.72425 9.637719 \" transform=\"matrix(1,0,0,-1,19.307,13.251)\"/>\n",
       "</g>\n",
       "<g clip-path=\"url(#clip6)\" clip-rule=\"nonzero\">\n",
       "<path style=\"fill:none;stroke-width:0.59776;stroke-linecap:butt;stroke-linejoin:miter;stroke:rgb(0%,0%,0%);stroke-opacity:1;stroke-miterlimit:10;\" d=\"M 0.626594 6.075219 L 1.782844 8.387719 \" transform=\"matrix(1,0,0,-1,19.307,13.251)\"/>\n",
       "</g>\n",
       "</g>\n",
       "</svg>\n"
      ],
      "text/plain": [
       "UnorderedTree({UnorderedTree({UnorderedTree(): 2}): 1})"
      ]
     },
     "metadata": {},
     "output_type": "display_data"
    },
    {
     "name": "stdout",
     "output_type": "stream",
     "text": [
      "0\n"
     ]
    },
    {
     "data": {
      "image/svg+xml": [
       "<?xml version=\"1.0\" encoding=\"UTF-8\"?>\n",
       "<svg xmlns=\"http://www.w3.org/2000/svg\" xmlns:xlink=\"http://www.w3.org/1999/xlink\" width=\"30.149pt\" height=\"12.046pt\" viewBox=\"0 0 30.149 12.046\" version=\"1.1\">\n",
       "<defs>\n",
       "<clipPath id=\"clip1\">\n",
       "  <path d=\"M 11 0 L 30.148438 0 L 30.148438 12.046875 L 11 12.046875 Z M 11 0 \"/>\n",
       "</clipPath>\n",
       "<clipPath id=\"clip2\">\n",
       "  <path d=\"M 7 0 L 27 0 L 27 12.046875 L 7 12.046875 Z M 7 0 \"/>\n",
       "</clipPath>\n",
       "<clipPath id=\"clip3\">\n",
       "  <path d=\"M 9 0 L 30 0 L 30 12.046875 L 9 12.046875 Z M 9 0 \"/>\n",
       "</clipPath>\n",
       "<clipPath id=\"clip4\">\n",
       "  <path d=\"M 11 0 L 30.148438 0 L 30.148438 12.046875 L 11 12.046875 Z M 11 0 \"/>\n",
       "</clipPath>\n",
       "<clipPath id=\"clip5\">\n",
       "  <path d=\"M 16 0 L 30.148438 0 L 30.148438 12.046875 L 16 12.046875 Z M 16 0 \"/>\n",
       "</clipPath>\n",
       "<clipPath id=\"clip6\">\n",
       "  <path d=\"M 14 0 L 30.148438 0 L 30.148438 12.046875 L 14 12.046875 Z M 14 0 \"/>\n",
       "</clipPath>\n",
       "</defs>\n",
       "<g id=\"surface1\">\n",
       "<path style=\" stroke:none;fill-rule:nonzero;fill:rgb(0%,0%,0%);fill-opacity:1;\" d=\"M 23.03125 8.433594 C 23.03125 7.707031 22.441406 7.117188 21.714844 7.117188 C 20.988281 7.117188 20.402344 7.707031 20.402344 8.433594 C 20.402344 9.160156 20.988281 9.746094 21.714844 9.746094 C 22.441406 9.746094 23.03125 9.160156 23.03125 8.433594 Z M 23.03125 8.433594 \"/>\n",
       "<g clip-path=\"url(#clip1)\" clip-rule=\"nonzero\">\n",
       "<path style=\"fill:none;stroke-width:0.59776;stroke-linecap:butt;stroke-linejoin:miter;stroke:rgb(0%,0%,0%);stroke-opacity:1;stroke-miterlimit:10;\" d=\"M 1.31525 -0.00159375 C 1.31525 0.724969 0.725406 1.314812 -0.00115625 1.314812 C -0.727719 1.314812 -1.313656 0.724969 -1.313656 -0.00159375 C -1.313656 -0.728156 -0.727719 -1.314094 -0.00115625 -1.314094 C 0.725406 -1.314094 1.31525 -0.728156 1.31525 -0.00159375 Z M 1.31525 -0.00159375 \" transform=\"matrix(1,0,0,-1,21.716,8.432)\"/>\n",
       "</g>\n",
       "<path style=\" stroke:none;fill-rule:nonzero;fill:rgb(0%,0%,0%);fill-opacity:1;\" d=\"M 18.210938 3.613281 C 18.210938 2.886719 17.625 2.296875 16.898438 2.296875 C 16.171875 2.296875 15.582031 2.886719 15.582031 3.613281 C 15.582031 4.339844 16.171875 4.929688 16.898438 4.929688 C 17.625 4.929688 18.210938 4.339844 18.210938 3.613281 Z M 18.210938 3.613281 \"/>\n",
       "<g clip-path=\"url(#clip2)\" clip-rule=\"nonzero\">\n",
       "<path style=\"fill:none;stroke-width:0.59776;stroke-linecap:butt;stroke-linejoin:miter;stroke:rgb(0%,0%,0%);stroke-opacity:1;stroke-miterlimit:10;\" d=\"M -3.505063 4.818719 C -3.505063 5.545281 -4.091 6.135125 -4.817563 6.135125 C -5.544125 6.135125 -6.133969 5.545281 -6.133969 4.818719 C -6.133969 4.092156 -5.544125 3.502312 -4.817563 3.502312 C -4.091 3.502312 -3.505063 4.092156 -3.505063 4.818719 Z M -3.505063 4.818719 \" transform=\"matrix(1,0,0,-1,21.716,8.432)\"/>\n",
       "</g>\n",
       "<g clip-path=\"url(#clip3)\" clip-rule=\"nonzero\">\n",
       "<path style=\"fill:none;stroke-width:0.59776;stroke-linecap:butt;stroke-linejoin:miter;stroke:rgb(0%,0%,0%);stroke-opacity:1;stroke-miterlimit:10;\" d=\"M -0.993344 0.9945 L -3.829281 3.830437 \" transform=\"matrix(1,0,0,-1,21.716,8.432)\"/>\n",
       "</g>\n",
       "<path style=\" stroke:none;fill-rule:nonzero;fill:rgb(0%,0%,0%);fill-opacity:1;\" d=\"M 23.03125 3.613281 C 23.03125 2.886719 22.441406 2.296875 21.714844 2.296875 C 20.988281 2.296875 20.402344 2.886719 20.402344 3.613281 C 20.402344 4.339844 20.988281 4.929688 21.714844 4.929688 C 22.441406 4.929688 23.03125 4.339844 23.03125 3.613281 Z M 23.03125 3.613281 \"/>\n",
       "<g clip-path=\"url(#clip4)\" clip-rule=\"nonzero\">\n",
       "<path style=\"fill:none;stroke-width:0.59776;stroke-linecap:butt;stroke-linejoin:miter;stroke:rgb(0%,0%,0%);stroke-opacity:1;stroke-miterlimit:10;\" d=\"M 1.31525 4.818719 C 1.31525 5.545281 0.725406 6.135125 -0.00115625 6.135125 C -0.727719 6.135125 -1.313656 5.545281 -1.313656 4.818719 C -1.313656 4.092156 -0.727719 3.502312 -0.00115625 3.502312 C 0.725406 3.502312 1.31525 4.092156 1.31525 4.818719 Z M 1.31525 4.818719 \" transform=\"matrix(1,0,0,-1,21.716,8.432)\"/>\n",
       "</g>\n",
       "<path style=\"fill:none;stroke-width:0.59776;stroke-linecap:butt;stroke-linejoin:miter;stroke:rgb(0%,0%,0%);stroke-opacity:1;stroke-miterlimit:10;\" d=\"M -0.00115625 1.396844 L -0.00115625 3.420281 \" transform=\"matrix(1,0,0,-1,21.716,8.432)\"/>\n",
       "<path style=\" stroke:none;fill-rule:nonzero;fill:rgb(0%,0%,0%);fill-opacity:1;\" d=\"M 27.851562 3.613281 C 27.851562 2.886719 27.261719 2.296875 26.535156 2.296875 C 25.808594 2.296875 25.21875 2.886719 25.21875 3.613281 C 25.21875 4.339844 25.808594 4.929688 26.535156 4.929688 C 27.261719 4.929688 27.851562 4.339844 27.851562 3.613281 Z M 27.851562 3.613281 \"/>\n",
       "<g clip-path=\"url(#clip5)\" clip-rule=\"nonzero\">\n",
       "<path style=\"fill:none;stroke-width:0.59776;stroke-linecap:butt;stroke-linejoin:miter;stroke:rgb(0%,0%,0%);stroke-opacity:1;stroke-miterlimit:10;\" d=\"M 6.135562 4.818719 C 6.135562 5.545281 5.545719 6.135125 4.819156 6.135125 C 4.092594 6.135125 3.50275 5.545281 3.50275 4.818719 C 3.50275 4.092156 4.092594 3.502312 4.819156 3.502312 C 5.545719 3.502312 6.135562 4.092156 6.135562 4.818719 Z M 6.135562 4.818719 \" transform=\"matrix(1,0,0,-1,21.716,8.432)\"/>\n",
       "</g>\n",
       "<g clip-path=\"url(#clip6)\" clip-rule=\"nonzero\">\n",
       "<path style=\"fill:none;stroke-width:0.59776;stroke-linecap:butt;stroke-linejoin:miter;stroke:rgb(0%,0%,0%);stroke-opacity:1;stroke-miterlimit:10;\" d=\"M 0.994937 0.9945 L 3.830875 3.830437 \" transform=\"matrix(1,0,0,-1,21.716,8.432)\"/>\n",
       "</g>\n",
       "</g>\n",
       "</svg>\n"
      ],
      "text/plain": [
       "UnorderedTree({UnorderedTree(): 3})"
      ]
     },
     "metadata": {},
     "output_type": "display_data"
    },
    {
     "name": "stdout",
     "output_type": "stream",
     "text": [
      "0\n"
     ]
    },
    {
     "data": {
      "image/svg+xml": [
       "<?xml version=\"1.0\" encoding=\"UTF-8\"?>\n",
       "<svg xmlns=\"http://www.w3.org/2000/svg\" xmlns:xlink=\"http://www.w3.org/1999/xlink\" width=\"25.33pt\" height=\"21.684pt\" viewBox=\"0 0 25.33 21.684\" version=\"1.1\">\n",
       "<defs>\n",
       "<clipPath id=\"clip1\">\n",
       "  <path d=\"M 9 8 L 25.328125 8 L 25.328125 21.683594 L 9 21.683594 Z M 9 8 \"/>\n",
       "</clipPath>\n",
       "<clipPath id=\"clip2\">\n",
       "  <path d=\"M 7 3 L 25.328125 3 L 25.328125 21.683594 L 7 21.683594 Z M 7 3 \"/>\n",
       "</clipPath>\n",
       "<clipPath id=\"clip3\">\n",
       "  <path d=\"M 9 6 L 25.328125 6 L 25.328125 21.683594 L 9 21.683594 Z M 9 6 \"/>\n",
       "</clipPath>\n",
       "<clipPath id=\"clip4\">\n",
       "  <path d=\"M 11 3 L 25.328125 3 L 25.328125 21.683594 L 11 21.683594 Z M 11 3 \"/>\n",
       "</clipPath>\n",
       "<clipPath id=\"clip5\">\n",
       "  <path d=\"M 11 6 L 25.328125 6 L 25.328125 21.683594 L 11 21.683594 Z M 11 6 \"/>\n",
       "</clipPath>\n",
       "<clipPath id=\"clip6\">\n",
       "  <path d=\"M 11 0 L 25.328125 0 L 25.328125 19 L 11 19 Z M 11 0 \"/>\n",
       "</clipPath>\n",
       "<clipPath id=\"clip7\">\n",
       "  <path d=\"M 11 0 L 25.328125 0 L 25.328125 14 L 11 14 Z M 11 0 \"/>\n",
       "</clipPath>\n",
       "</defs>\n",
       "<g id=\"surface1\">\n",
       "<path style=\" stroke:none;fill-rule:nonzero;fill:rgb(0%,0%,0%);fill-opacity:1;\" d=\"M 20.621094 18.070312 C 20.621094 17.34375 20.035156 16.753906 19.308594 16.753906 C 18.582031 16.753906 17.992188 17.34375 17.992188 18.070312 C 17.992188 18.796875 18.582031 19.386719 19.308594 19.386719 C 20.035156 19.386719 20.621094 18.796875 20.621094 18.070312 Z M 20.621094 18.070312 \"/>\n",
       "<g clip-path=\"url(#clip1)\" clip-rule=\"nonzero\">\n",
       "<path style=\"fill:none;stroke-width:0.59776;stroke-linecap:butt;stroke-linejoin:miter;stroke:rgb(0%,0%,0%);stroke-opacity:1;stroke-miterlimit:10;\" d=\"M 1.314094 -0.0003125 C 1.314094 0.72625 0.728156 1.316094 0.00159375 1.316094 C -0.724969 1.316094 -1.314813 0.72625 -1.314813 -0.0003125 C -1.314813 -0.726875 -0.724969 -1.316719 0.00159375 -1.316719 C 0.728156 -1.316719 1.314094 -0.726875 1.314094 -0.0003125 Z M 1.314094 -0.0003125 \" transform=\"matrix(1,0,0,-1,19.307,18.07)\"/>\n",
       "</g>\n",
       "<path style=\" stroke:none;fill-rule:nonzero;fill:rgb(0%,0%,0%);fill-opacity:1;\" d=\"M 18.210938 13.25 C 18.210938 12.523438 17.625 11.9375 16.898438 11.9375 C 16.171875 11.9375 15.582031 12.523438 15.582031 13.25 C 15.582031 13.976562 16.171875 14.566406 16.898438 14.566406 C 17.625 14.566406 18.210938 13.976562 18.210938 13.25 Z M 18.210938 13.25 \"/>\n",
       "<g clip-path=\"url(#clip2)\" clip-rule=\"nonzero\">\n",
       "<path style=\"fill:none;stroke-width:0.59776;stroke-linecap:butt;stroke-linejoin:miter;stroke:rgb(0%,0%,0%);stroke-opacity:1;stroke-miterlimit:10;\" d=\"M -1.096063 4.82 C -1.096063 5.546563 -1.682 6.1325 -2.408563 6.1325 C -3.135125 6.1325 -3.724969 5.546563 -3.724969 4.82 C -3.724969 4.093438 -3.135125 3.503594 -2.408563 3.503594 C -1.682 3.503594 -1.096063 4.093438 -1.096063 4.82 Z M -1.096063 4.82 \" transform=\"matrix(1,0,0,-1,19.307,18.07)\"/>\n",
       "</g>\n",
       "<g clip-path=\"url(#clip3)\" clip-rule=\"nonzero\">\n",
       "<path style=\"fill:none;stroke-width:0.59776;stroke-linecap:butt;stroke-linejoin:miter;stroke:rgb(0%,0%,0%);stroke-opacity:1;stroke-miterlimit:10;\" d=\"M -0.627313 1.2575 L -1.783563 3.566094 \" transform=\"matrix(1,0,0,-1,19.307,18.07)\"/>\n",
       "</g>\n",
       "<path style=\" stroke:none;fill-rule:nonzero;fill:rgb(0%,0%,0%);fill-opacity:1;\" d=\"M 23.03125 13.25 C 23.03125 12.523438 22.441406 11.9375 21.714844 11.9375 C 20.988281 11.9375 20.402344 12.523438 20.402344 13.25 C 20.402344 13.976562 20.988281 14.566406 21.714844 14.566406 C 22.441406 14.566406 23.03125 13.976562 23.03125 13.25 Z M 23.03125 13.25 \"/>\n",
       "<g clip-path=\"url(#clip4)\" clip-rule=\"nonzero\">\n",
       "<path style=\"fill:none;stroke-width:0.59776;stroke-linecap:butt;stroke-linejoin:miter;stroke:rgb(0%,0%,0%);stroke-opacity:1;stroke-miterlimit:10;\" d=\"M 3.72425 4.82 C 3.72425 5.546563 3.134406 6.1325 2.407844 6.1325 C 1.681281 6.1325 1.095344 5.546563 1.095344 4.82 C 1.095344 4.093438 1.681281 3.503594 2.407844 3.503594 C 3.134406 3.503594 3.72425 4.093438 3.72425 4.82 Z M 3.72425 4.82 \" transform=\"matrix(1,0,0,-1,19.307,18.07)\"/>\n",
       "</g>\n",
       "<g clip-path=\"url(#clip5)\" clip-rule=\"nonzero\">\n",
       "<path style=\"fill:none;stroke-width:0.59776;stroke-linecap:butt;stroke-linejoin:miter;stroke:rgb(0%,0%,0%);stroke-opacity:1;stroke-miterlimit:10;\" d=\"M 0.626594 1.2575 L 1.782844 3.566094 \" transform=\"matrix(1,0,0,-1,19.307,18.07)\"/>\n",
       "</g>\n",
       "<path style=\" stroke:none;fill-rule:nonzero;fill:rgb(0%,0%,0%);fill-opacity:1;\" d=\"M 23.03125 8.433594 C 23.03125 7.707031 22.441406 7.117188 21.714844 7.117188 C 20.988281 7.117188 20.402344 7.707031 20.402344 8.433594 C 20.402344 9.160156 20.988281 9.746094 21.714844 9.746094 C 22.441406 9.746094 23.03125 9.160156 23.03125 8.433594 Z M 23.03125 8.433594 \"/>\n",
       "<g clip-path=\"url(#clip6)\" clip-rule=\"nonzero\">\n",
       "<path style=\"fill:none;stroke-width:0.59776;stroke-linecap:butt;stroke-linejoin:miter;stroke:rgb(0%,0%,0%);stroke-opacity:1;stroke-miterlimit:10;\" d=\"M 3.72425 9.636406 C 3.72425 10.362969 3.134406 10.952813 2.407844 10.952813 C 1.681281 10.952813 1.095344 10.362969 1.095344 9.636406 C 1.095344 8.909844 1.681281 8.323906 2.407844 8.323906 C 3.134406 8.323906 3.72425 8.909844 3.72425 9.636406 Z M 3.72425 9.636406 \" transform=\"matrix(1,0,0,-1,19.307,18.07)\"/>\n",
       "</g>\n",
       "<path style=\"fill:none;stroke-width:0.59776;stroke-linecap:butt;stroke-linejoin:miter;stroke:rgb(0%,0%,0%);stroke-opacity:1;stroke-miterlimit:10;\" d=\"M 2.407844 6.218438 L 2.407844 8.237969 \" transform=\"matrix(1,0,0,-1,19.307,18.07)\"/>\n",
       "<path style=\" stroke:none;fill-rule:nonzero;fill:rgb(0%,0%,0%);fill-opacity:1;\" d=\"M 23.03125 3.613281 C 23.03125 2.886719 22.441406 2.296875 21.714844 2.296875 C 20.988281 2.296875 20.402344 2.886719 20.402344 3.613281 C 20.402344 4.339844 20.988281 4.929688 21.714844 4.929688 C 22.441406 4.929688 23.03125 4.339844 23.03125 3.613281 Z M 23.03125 3.613281 \"/>\n",
       "<g clip-path=\"url(#clip7)\" clip-rule=\"nonzero\">\n",
       "<path style=\"fill:none;stroke-width:0.59776;stroke-linecap:butt;stroke-linejoin:miter;stroke:rgb(0%,0%,0%);stroke-opacity:1;stroke-miterlimit:10;\" d=\"M 3.72425 14.456719 C 3.72425 15.183281 3.134406 15.773125 2.407844 15.773125 C 1.681281 15.773125 1.095344 15.183281 1.095344 14.456719 C 1.095344 13.730156 1.681281 13.140313 2.407844 13.140313 C 3.134406 13.140313 3.72425 13.730156 3.72425 14.456719 Z M 3.72425 14.456719 \" transform=\"matrix(1,0,0,-1,19.307,18.07)\"/>\n",
       "</g>\n",
       "<path style=\"fill:none;stroke-width:0.59776;stroke-linecap:butt;stroke-linejoin:miter;stroke:rgb(0%,0%,0%);stroke-opacity:1;stroke-miterlimit:10;\" d=\"M 2.407844 11.034844 L 2.407844 13.058281 \" transform=\"matrix(1,0,0,-1,19.307,18.07)\"/>\n",
       "</g>\n",
       "</svg>\n"
      ],
      "text/plain": [
       "UnorderedTree({UnorderedTree(): 1, UnorderedTree({UnorderedTree({UnorderedTree(): 1}): 1}): 1})"
      ]
     },
     "metadata": {},
     "output_type": "display_data"
    },
    {
     "name": "stdout",
     "output_type": "stream",
     "text": [
      "0\n"
     ]
    },
    {
     "data": {
      "image/svg+xml": [
       "<?xml version=\"1.0\" encoding=\"UTF-8\"?>\n",
       "<svg xmlns=\"http://www.w3.org/2000/svg\" xmlns:xlink=\"http://www.w3.org/1999/xlink\" width=\"25.33pt\" height=\"21.684pt\" viewBox=\"0 0 25.33 21.684\" version=\"1.1\">\n",
       "<defs>\n",
       "<clipPath id=\"clip1\">\n",
       "  <path d=\"M 9 8 L 25.328125 8 L 25.328125 21.683594 L 9 21.683594 Z M 9 8 \"/>\n",
       "</clipPath>\n",
       "<clipPath id=\"clip2\">\n",
       "  <path d=\"M 9 3 L 25.328125 3 L 25.328125 21.683594 L 9 21.683594 Z M 9 3 \"/>\n",
       "</clipPath>\n",
       "<clipPath id=\"clip3\">\n",
       "  <path d=\"M 7 0 L 25.328125 0 L 25.328125 19 L 7 19 Z M 7 0 \"/>\n",
       "</clipPath>\n",
       "<clipPath id=\"clip4\">\n",
       "  <path d=\"M 9 1 L 25.328125 1 L 25.328125 21 L 9 21 Z M 9 1 \"/>\n",
       "</clipPath>\n",
       "<clipPath id=\"clip5\">\n",
       "  <path d=\"M 11 0 L 25.328125 0 L 25.328125 19 L 11 19 Z M 11 0 \"/>\n",
       "</clipPath>\n",
       "<clipPath id=\"clip6\">\n",
       "  <path d=\"M 11 1 L 25.328125 1 L 25.328125 21 L 11 21 Z M 11 1 \"/>\n",
       "</clipPath>\n",
       "<clipPath id=\"clip7\">\n",
       "  <path d=\"M 11 0 L 25.328125 0 L 25.328125 14 L 11 14 Z M 11 0 \"/>\n",
       "</clipPath>\n",
       "</defs>\n",
       "<g id=\"surface1\">\n",
       "<path style=\" stroke:none;fill-rule:nonzero;fill:rgb(0%,0%,0%);fill-opacity:1;\" d=\"M 20.621094 18.070312 C 20.621094 17.34375 20.035156 16.753906 19.308594 16.753906 C 18.582031 16.753906 17.992188 17.34375 17.992188 18.070312 C 17.992188 18.796875 18.582031 19.386719 19.308594 19.386719 C 20.035156 19.386719 20.621094 18.796875 20.621094 18.070312 Z M 20.621094 18.070312 \"/>\n",
       "<g clip-path=\"url(#clip1)\" clip-rule=\"nonzero\">\n",
       "<path style=\"fill:none;stroke-width:0.59776;stroke-linecap:butt;stroke-linejoin:miter;stroke:rgb(0%,0%,0%);stroke-opacity:1;stroke-miterlimit:10;\" d=\"M 1.314094 -0.0003125 C 1.314094 0.72625 0.728156 1.316094 0.00159375 1.316094 C -0.724969 1.316094 -1.314813 0.72625 -1.314813 -0.0003125 C -1.314813 -0.726875 -0.724969 -1.316719 0.00159375 -1.316719 C 0.728156 -1.316719 1.314094 -0.726875 1.314094 -0.0003125 Z M 1.314094 -0.0003125 \" transform=\"matrix(1,0,0,-1,19.307,18.07)\"/>\n",
       "</g>\n",
       "<path style=\" stroke:none;fill-rule:nonzero;fill:rgb(0%,0%,0%);fill-opacity:1;\" d=\"M 20.621094 13.25 C 20.621094 12.523438 20.035156 11.9375 19.308594 11.9375 C 18.582031 11.9375 17.992188 12.523438 17.992188 13.25 C 17.992188 13.976562 18.582031 14.566406 19.308594 14.566406 C 20.035156 14.566406 20.621094 13.976562 20.621094 13.25 Z M 20.621094 13.25 \"/>\n",
       "<g clip-path=\"url(#clip2)\" clip-rule=\"nonzero\">\n",
       "<path style=\"fill:none;stroke-width:0.59776;stroke-linecap:butt;stroke-linejoin:miter;stroke:rgb(0%,0%,0%);stroke-opacity:1;stroke-miterlimit:10;\" d=\"M 1.314094 4.82 C 1.314094 5.546563 0.728156 6.1325 0.00159375 6.1325 C -0.724969 6.1325 -1.314813 5.546563 -1.314813 4.82 C -1.314813 4.093438 -0.724969 3.503594 0.00159375 3.503594 C 0.728156 3.503594 1.314094 4.093438 1.314094 4.82 Z M 1.314094 4.82 \" transform=\"matrix(1,0,0,-1,19.307,18.07)\"/>\n",
       "</g>\n",
       "<path style=\"fill:none;stroke-width:0.59776;stroke-linecap:butt;stroke-linejoin:miter;stroke:rgb(0%,0%,0%);stroke-opacity:1;stroke-miterlimit:10;\" d=\"M 0.00159375 1.398125 L 0.00159375 3.421563 \" transform=\"matrix(1,0,0,-1,19.307,18.07)\"/>\n",
       "<path style=\" stroke:none;fill-rule:nonzero;fill:rgb(0%,0%,0%);fill-opacity:1;\" d=\"M 18.210938 8.433594 C 18.210938 7.707031 17.625 7.117188 16.898438 7.117188 C 16.171875 7.117188 15.582031 7.707031 15.582031 8.433594 C 15.582031 9.160156 16.171875 9.746094 16.898438 9.746094 C 17.625 9.746094 18.210938 9.160156 18.210938 8.433594 Z M 18.210938 8.433594 \"/>\n",
       "<g clip-path=\"url(#clip3)\" clip-rule=\"nonzero\">\n",
       "<path style=\"fill:none;stroke-width:0.59776;stroke-linecap:butt;stroke-linejoin:miter;stroke:rgb(0%,0%,0%);stroke-opacity:1;stroke-miterlimit:10;\" d=\"M -1.096063 9.636406 C -1.096063 10.362969 -1.682 10.952813 -2.408563 10.952813 C -3.135125 10.952813 -3.724969 10.362969 -3.724969 9.636406 C -3.724969 8.909844 -3.135125 8.323906 -2.408563 8.323906 C -1.682 8.323906 -1.096063 8.909844 -1.096063 9.636406 Z M -1.096063 9.636406 \" transform=\"matrix(1,0,0,-1,19.307,18.07)\"/>\n",
       "</g>\n",
       "<g clip-path=\"url(#clip4)\" clip-rule=\"nonzero\">\n",
       "<path style=\"fill:none;stroke-width:0.59776;stroke-linecap:butt;stroke-linejoin:miter;stroke:rgb(0%,0%,0%);stroke-opacity:1;stroke-miterlimit:10;\" d=\"M -0.627313 6.073906 L -1.783563 8.386406 \" transform=\"matrix(1,0,0,-1,19.307,18.07)\"/>\n",
       "</g>\n",
       "<path style=\" stroke:none;fill-rule:nonzero;fill:rgb(0%,0%,0%);fill-opacity:1;\" d=\"M 23.03125 8.433594 C 23.03125 7.707031 22.441406 7.117188 21.714844 7.117188 C 20.988281 7.117188 20.402344 7.707031 20.402344 8.433594 C 20.402344 9.160156 20.988281 9.746094 21.714844 9.746094 C 22.441406 9.746094 23.03125 9.160156 23.03125 8.433594 Z M 23.03125 8.433594 \"/>\n",
       "<g clip-path=\"url(#clip5)\" clip-rule=\"nonzero\">\n",
       "<path style=\"fill:none;stroke-width:0.59776;stroke-linecap:butt;stroke-linejoin:miter;stroke:rgb(0%,0%,0%);stroke-opacity:1;stroke-miterlimit:10;\" d=\"M 3.72425 9.636406 C 3.72425 10.362969 3.134406 10.952813 2.407844 10.952813 C 1.681281 10.952813 1.095344 10.362969 1.095344 9.636406 C 1.095344 8.909844 1.681281 8.323906 2.407844 8.323906 C 3.134406 8.323906 3.72425 8.909844 3.72425 9.636406 Z M 3.72425 9.636406 \" transform=\"matrix(1,0,0,-1,19.307,18.07)\"/>\n",
       "</g>\n",
       "<g clip-path=\"url(#clip6)\" clip-rule=\"nonzero\">\n",
       "<path style=\"fill:none;stroke-width:0.59776;stroke-linecap:butt;stroke-linejoin:miter;stroke:rgb(0%,0%,0%);stroke-opacity:1;stroke-miterlimit:10;\" d=\"M 0.626594 6.073906 L 1.782844 8.386406 \" transform=\"matrix(1,0,0,-1,19.307,18.07)\"/>\n",
       "</g>\n",
       "<path style=\" stroke:none;fill-rule:nonzero;fill:rgb(0%,0%,0%);fill-opacity:1;\" d=\"M 23.03125 3.613281 C 23.03125 2.886719 22.441406 2.296875 21.714844 2.296875 C 20.988281 2.296875 20.402344 2.886719 20.402344 3.613281 C 20.402344 4.339844 20.988281 4.929688 21.714844 4.929688 C 22.441406 4.929688 23.03125 4.339844 23.03125 3.613281 Z M 23.03125 3.613281 \"/>\n",
       "<g clip-path=\"url(#clip7)\" clip-rule=\"nonzero\">\n",
       "<path style=\"fill:none;stroke-width:0.59776;stroke-linecap:butt;stroke-linejoin:miter;stroke:rgb(0%,0%,0%);stroke-opacity:1;stroke-miterlimit:10;\" d=\"M 3.72425 14.456719 C 3.72425 15.183281 3.134406 15.773125 2.407844 15.773125 C 1.681281 15.773125 1.095344 15.183281 1.095344 14.456719 C 1.095344 13.730156 1.681281 13.140313 2.407844 13.140313 C 3.134406 13.140313 3.72425 13.730156 3.72425 14.456719 Z M 3.72425 14.456719 \" transform=\"matrix(1,0,0,-1,19.307,18.07)\"/>\n",
       "</g>\n",
       "<path style=\"fill:none;stroke-width:0.59776;stroke-linecap:butt;stroke-linejoin:miter;stroke:rgb(0%,0%,0%);stroke-opacity:1;stroke-miterlimit:10;\" d=\"M 2.407844 11.034844 L 2.407844 13.058281 \" transform=\"matrix(1,0,0,-1,19.307,18.07)\"/>\n",
       "</g>\n",
       "</svg>\n"
      ],
      "text/plain": [
       "UnorderedTree({UnorderedTree({UnorderedTree({UnorderedTree(): 1}): 1, UnorderedTree(): 1}): 1})"
      ]
     },
     "metadata": {},
     "output_type": "display_data"
    },
    {
     "name": "stdout",
     "output_type": "stream",
     "text": [
      "0\n"
     ]
    }
   ],
   "source": [
    "c = modified_equation(a)\n",
    "print_for_first_trees(c,10)"
   ]
  },
  {
   "cell_type": "markdown",
   "metadata": {},
   "source": [
    "## Order of a Runge–Kutta method"
   ]
  },
  {
   "cell_type": "code",
   "execution_count": 23,
   "metadata": {
    "collapsed": false
   },
   "outputs": [
    {
     "name": "stdout",
     "output_type": "stream",
     "text": [
      "A =\n",
      "[[0 0]\n",
      " [Fraction(1, 2) 0]]\n",
      "b = [0 1]\n",
      "RKmidpoint.order = 2\n"
     ]
    }
   ],
   "source": [
    "from pybs.rungekutta.methods import RKmidpoint # A small collection of Butcher tableaus.\n",
    "RKmidpoint.printMe()\n",
    "print('RKmidpoint.order =', RKmidpoint.order)"
   ]
  }
 ],
 "metadata": {
  "gist_id": "525b97754a22cde5881b",
  "kernelspec": {
   "display_name": "Python 3",
   "language": "python",
   "name": "python3"
  },
  "language_info": {
   "codemirror_mode": {
    "name": "ipython",
    "version": 3
   },
   "file_extension": ".py",
   "mimetype": "text/x-python",
   "name": "python",
   "nbconvert_exporter": "python",
   "pygments_lexer": "ipython3",
   "version": "3.4.4"
  }
 },
 "nbformat": 4,
 "nbformat_minor": 0
}
